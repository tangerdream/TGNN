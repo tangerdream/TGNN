{
 "cells": [
  {
   "cell_type": "code",
   "execution_count": 1,
   "metadata": {
    "collapsed": true
   },
   "outputs": [
    {
     "name": "stdout",
     "output_type": "stream",
     "text": [
      "torch version: 2.0.1+cu118\n"
     ]
    }
   ],
   "source": [
    "import os\n",
    "import argparse\n",
    "from torch.utils.tensorboard import SummaryWriter\n",
    "from torch_geometric.loader import DataLoader\n",
    "import time\n",
    "import torch\n",
    "from GEvaluator import Evaluator\n",
    "from tqdm import tqdm\n",
    "from Mid import GINGraphPooling\n",
    "from Module import load_data,train,evaluate,test,prepartion,continue_train\n",
    "print('torch version:',torch.__version__)\n"
   ]
  },
  {
   "cell_type": "markdown",
   "source": [
    "参数输入"
   ],
   "metadata": {
    "collapsed": false
   }
  },
  {
   "cell_type": "code",
   "execution_count": 2,
   "outputs": [],
   "source": [
    "class MyNamespace(argparse.Namespace):\n",
    "    def __init__(self, **kwargs):\n",
    "        super().__init__(**kwargs)\n",
    "        self.batch_size = 20\n",
    "        self.device=0\n",
    "        self.drop_ratio=0.15\n",
    "        self.early_stop=30\n",
    "        self.early_stop_open = True\n",
    "        self.emb_dim=128\n",
    "        self.epochs=2\n",
    "        self.graph_pooling='mean'\n",
    "        self.num_layers=3\n",
    "        self.n_head=3\n",
    "        self.num_workers=5\n",
    "        self.num_tasks=1\n",
    "        self.save_test=True\n",
    "        self.task_name='GINGraph_smiles_3d_test'\n",
    "        self.weight_decay=0.1e-05\n",
    "        self.learning_rate=0.0001\n",
    "        self.data_type='smiles'\n",
    "        self.dataset_pt = './PTs/smiles_3d'\n",
    "        self.dataset_split=[0.8,0.19,0.01]\n",
    "        self.evaluate_epoch=1\n",
    "        self.continue_train=False\n",
    "        self.checkpoint_path='/home/ml/hctang/TGNN/saves/GINGraph2-730-v100_=0/checkpoint.pt'\n",
    "        self.job_level='graph' #graph,node\n"
   ],
   "metadata": {
    "collapsed": false
   }
  },
  {
   "cell_type": "markdown",
   "source": [
    "数据载入"
   ],
   "metadata": {
    "collapsed": false
   }
  },
  {
   "cell_type": "markdown",
   "source": [],
   "metadata": {
    "collapsed": false
   }
  },
  {
   "cell_type": "code",
   "execution_count": 3,
   "outputs": [],
   "source": [
    "def main(args):\n",
    "    prepartion(args)\n",
    "    nn_params = {\n",
    "        'num_layers': args.num_layers,\n",
    "        'emb_dim': args.emb_dim,\n",
    "        'n_head':args.n_head,\n",
    "        'drop_ratio': args.drop_ratio,\n",
    "        'graph_pooling': args.graph_pooling,\n",
    "        'num_tasks':args.num_tasks,\n",
    "        'data_type':args.data_type,\n",
    "        'job_level':args.job_level,\n",
    "\n",
    "\n",
    "    }\n",
    "\n",
    "    # automatic dataloading and splitting\n",
    "    train_loader,valid_loader,test_loader=load_data(args)\n",
    "\n",
    "    # automatic evaluator. takes dataset name as input\n",
    "    evaluator = Evaluator()\n",
    "    criterion_fn = torch.nn.MSELoss()\n",
    "\n",
    "    device = args.device\n",
    "\n",
    "    model = GINGraphPooling(**nn_params).to(device)\n",
    "    optimizer =  torch.optim.Adam(model.parameters(), lr=args.learning_rate, weight_decay=args.weight_decay)\n",
    "    scheduler = torch.optim.lr_scheduler.StepLR(optimizer, step_size=20, gamma=0.9)\n",
    "    if args.continue_train:\n",
    "        continue_train(args,model,optimizer)\n",
    "\n",
    "    num_params = sum(p.numel() for p in model.parameters())\n",
    "    print('train data:', len(train_loader), 'valid data:', len(valid_loader), file=args.output_file, flush=True)\n",
    "    print(f'#Params: {num_params}', file=args.output_file, flush=True)\n",
    "    print(model, file=args.output_file, flush=True)\n",
    "\n",
    "\n",
    "    writer = SummaryWriter(log_dir=args.save_dir)\n",
    "\n",
    "    not_improved = 0\n",
    "    eva=1\n",
    "    best_valid_mae = 9999\n",
    "    valid_mae=10000\n",
    "\n",
    "    for epoch in range(1, args.epochs + 1):\n",
    "\n",
    "        print('=====epoch:', epoch,time.strftime(\"%Y-%m-%d %H:%M:%S\", time.localtime()) )\n",
    "\n",
    "        print(time.strftime(\"%Y-%m-%d %H:%M:%S\", time.localtime()),\"=====Epoch {}\".format(epoch), file=args.output_file, flush=True)\n",
    "        print('Training...', file=args.output_file, flush=True)\n",
    "        train_mae,maxP,minN,avgP,avgN = train(model, device, train_loader, optimizer, criterion_fn,epoch,args.epochs)\n",
    "        print(train_mae,maxP,minN,avgP,avgN)\n",
    "        print('Evaluating...', file=args.output_file, flush=True)\n",
    "        if epoch==eva:\n",
    "            valid_mae = evaluate(model, device, valid_loader, evaluator)\n",
    "            eva += args.evaluate_epoch\n",
    "\n",
    "        print({'Train': train_mae, 'Validation': valid_mae}, file=args.output_file, flush=True)\n",
    "\n",
    "        writer.add_scalar('valid/mae', valid_mae, epoch)\n",
    "        writer.add_scalar('train/mae', train_mae, epoch)\n",
    "        writer.add_scalar('train/maxP', maxP, epoch)\n",
    "        writer.add_scalar('train/minN', minN, epoch)\n",
    "        writer.add_scalar('train/avgP', avgP, epoch)\n",
    "        writer.add_scalar('train/avgN', avgN, epoch)\n",
    "\n",
    "\n",
    "\n",
    "        if valid_mae < best_valid_mae:\n",
    "            print('valid_mae:',valid_mae,'Saving checkpoint...')\n",
    "            best_valid_mae = valid_mae\n",
    "            if args.save_test:\n",
    "                print('Saving checkpoint...', file=args.output_file, flush=True)\n",
    "                checkpoint = {\n",
    "                    'epoch': epoch, 'model_state_dict': model.state_dict(), 'optimizer_state_dict': optimizer.state_dict(),\n",
    "                    'scheduler_state_dict': scheduler.state_dict(), 'best_val_mae': best_valid_mae, 'num_params': num_params\n",
    "                }\n",
    "                torch.save(checkpoint, os.path.join(args.save_dir, 'checkpoint.pt'))\n",
    "                print('Predicting on test data...', file=args.output_file, flush=True)\n",
    "                y_pred = test(model, device, test_loader)\n",
    "                print('Saving test submission file...', file=args.output_file, flush=True)\n",
    "                evaluator.save_test_submission({'y_pred': y_pred}, args.save_dir)\n",
    "\n",
    "            not_improved = 0\n",
    "        else:\n",
    "            not_improved += 1\n",
    "            if not_improved == args.early_stop:\n",
    "                print(f\"Have not improved for {not_improved} epoches.\", file=args.output_file, flush=True)\n",
    "                break\n",
    "\n",
    "        scheduler.step()\n",
    "        print(f'Best validation MAE so far: {best_valid_mae}', file=args.output_file, flush=True)\n",
    "\n",
    "    # writer.add_graph(model,train_loader)\n",
    "    writer.close()\n",
    "    args.output_file.close()"
   ],
   "metadata": {
    "collapsed": false
   }
  },
  {
   "cell_type": "code",
   "execution_count": null,
   "outputs": [
    {
     "name": "stdout",
     "output_type": "stream",
     "text": [
      "data loading in dir: ./PTs/smiles_3d\n"
     ]
    },
    {
     "name": "stderr",
     "output_type": "stream",
     "text": [
      "100%|██████████| 10/10 [00:01<00:00,  7.18it/s]\n"
     ]
    },
    {
     "name": "stdout",
     "output_type": "stream",
     "text": [
      "train data: 8000 valid data: 1900\n",
      "=====epoch: 1 2023-08-05 03:17:45\n",
      "on training:\n"
     ]
    },
    {
     "name": "stderr",
     "output_type": "stream",
     "text": [
      "Epoch 1/2:   0%|          | 0/400 [00:00<?, ?it/s]"
     ]
    },
    {
     "name": "stdout",
     "output_type": "stream",
     "text": [
      "torch.Size([1000, 9])\n"
     ]
    },
    {
     "name": "stderr",
     "output_type": "stream",
     "text": [
      "Epoch 1/2:   1%|          | 4/400 [00:27<33:53,  5.13s/it, loss=24.55504]  "
     ]
    },
    {
     "name": "stdout",
     "output_type": "stream",
     "text": [
      "torch.Size([1000, 9])\n",
      "torch.Size([1000, 9])\n",
      "torch.Size([1000, 9])\n",
      "torch.Size([1000, 9])\n",
      "torch.Size([1000, 9])\n"
     ]
    },
    {
     "name": "stderr",
     "output_type": "stream",
     "text": [
      "Epoch 1/2:   3%|▎         | 13/400 [00:27<06:53,  1.07s/it, loss=21.07047]"
     ]
    },
    {
     "name": "stdout",
     "output_type": "stream",
     "text": [
      "torch.Size([1000, 9])\n",
      "torch.Size([1000, 9])\n",
      "torch.Size([1000, 9])\n",
      "torch.Size([1000, 9])\n",
      "torch.Size([1000, 9])\n",
      "torch.Size([1000, 9])\n",
      "torch.Size([1000, 9])\n",
      "torch.Size([1000, 9])\n"
     ]
    },
    {
     "name": "stderr",
     "output_type": "stream",
     "text": [
      "Epoch 1/2:   6%|▌         | 23/400 [00:27<02:12,  2.85it/s, loss=16.76733]"
     ]
    },
    {
     "name": "stdout",
     "output_type": "stream",
     "text": [
      "torch.Size([1000, 9])\n",
      "torch.Size([1000, 9])\n",
      "torch.Size([1000, 9])\n",
      "torch.Size([1000, 9])\n",
      "torch.Size([1000, 9])\n",
      "torch.Size([1000, 9])\n",
      "torch.Size([1000, 9])\n",
      "torch.Size([1000, 9])\n",
      "torch.Size([1000, 9])\n",
      "torch.Size([1000, 9])\n"
     ]
    },
    {
     "name": "stderr",
     "output_type": "stream",
     "text": [
      "Epoch 1/2:   8%|▊         | 32/400 [00:27<01:27,  4.19it/s, loss=15.21791]"
     ]
    },
    {
     "name": "stdout",
     "output_type": "stream",
     "text": [
      "torch.Size([1000, 9])\n",
      "torch.Size([1000, 9])\n",
      "torch.Size([1000, 9])\n",
      "torch.Size([1000, 9])\n",
      "torch.Size([1000, 9])\n",
      "torch.Size([1000, 9])\n",
      "torch.Size([1000, 9])\n",
      "torch.Size([1000, 9])\n",
      "torch.Size([1000, 9])\n"
     ]
    },
    {
     "name": "stderr",
     "output_type": "stream",
     "text": [
      "Epoch 1/2:  10%|█         | 42/400 [00:27<00:41,  8.71it/s, loss=10.66012]"
     ]
    },
    {
     "name": "stdout",
     "output_type": "stream",
     "text": [
      "torch.Size([1000, 9])\n",
      "torch.Size([1000, 9])\n",
      "torch.Size([1000, 9])\n",
      "torch.Size([1000, 9])\n",
      "torch.Size([1000, 9])\n",
      "torch.Size([1000, 9])\n",
      "torch.Size([1000, 9])\n",
      "torch.Size([1000, 9])\n",
      "torch.Size([1000, 9])\n",
      "torch.Size([1000, 9])\n"
     ]
    },
    {
     "name": "stderr",
     "output_type": "stream",
     "text": [
      "Epoch 1/2:  13%|█▎        | 52/400 [00:28<00:22, 15.69it/s, loss=5.89107] "
     ]
    },
    {
     "name": "stdout",
     "output_type": "stream",
     "text": [
      "torch.Size([1000, 9])\n",
      "torch.Size([1000, 9])\n",
      "torch.Size([1000, 9])\n",
      "torch.Size([1000, 9])\n",
      "torch.Size([1000, 9])\n",
      "torch.Size([1000, 9])\n",
      "torch.Size([1000, 9])\n",
      "torch.Size([1000, 9])\n",
      "torch.Size([1000, 9])\n",
      "torch.Size([1000, 9])\n"
     ]
    },
    {
     "name": "stderr",
     "output_type": "stream",
     "text": [
      "Epoch 1/2:  16%|█▌        | 62/400 [00:28<00:13, 24.19it/s, loss=3.13277]"
     ]
    },
    {
     "name": "stdout",
     "output_type": "stream",
     "text": [
      "torch.Size([1000, 9])\n",
      "torch.Size([1000, 9])\n",
      "torch.Size([1000, 9])\n",
      "torch.Size([1000, 9])\n",
      "torch.Size([1000, 9])\n",
      "torch.Size([1000, 9])\n",
      "torch.Size([1000, 9])\n",
      "torch.Size([1000, 9])\n",
      "torch.Size([1000, 9])\n",
      "torch.Size([1000, 9])\n"
     ]
    },
    {
     "name": "stderr",
     "output_type": "stream",
     "text": [
      "Epoch 1/2:  18%|█▊        | 72/400 [00:28<00:10, 31.89it/s, loss=1.74340]"
     ]
    },
    {
     "name": "stdout",
     "output_type": "stream",
     "text": [
      "torch.Size([1000, 9])\n",
      "torch.Size([1000, 9])\n",
      "torch.Size([1000, 9])\n",
      "torch.Size([1000, 9])\n",
      "torch.Size([1000, 9])\n",
      "torch.Size([1000, 9])\n",
      "torch.Size([1000, 9])\n",
      "torch.Size([1000, 9])\n",
      "torch.Size([1000, 9])\n",
      "torch.Size([1000, 9])\n"
     ]
    },
    {
     "name": "stderr",
     "output_type": "stream",
     "text": [
      "Epoch 1/2:  20%|██        | 81/400 [00:28<00:08, 36.89it/s, loss=1.02199]"
     ]
    },
    {
     "name": "stdout",
     "output_type": "stream",
     "text": [
      "torch.Size([1000, 9])\n",
      "torch.Size([1000, 9])\n",
      "torch.Size([1000, 9])\n",
      "torch.Size([1000, 9])\n",
      "torch.Size([1000, 9])\n",
      "torch.Size([1000, 9])\n",
      "torch.Size([1000, 9])\n",
      "torch.Size([1000, 9])\n",
      "torch.Size([1000, 9])\n"
     ]
    },
    {
     "name": "stderr",
     "output_type": "stream",
     "text": [
      "Epoch 1/2:  23%|██▎       | 91/400 [00:29<00:07, 41.02it/s, loss=0.26326]"
     ]
    },
    {
     "name": "stdout",
     "output_type": "stream",
     "text": [
      "torch.Size([1000, 9])\n",
      "torch.Size([1000, 9])\n",
      "torch.Size([1000, 9])\n",
      "torch.Size([1000, 9])\n",
      "torch.Size([1000, 9])\n",
      "torch.Size([1000, 9])\n",
      "torch.Size([1000, 9])\n",
      "torch.Size([1000, 9])\n",
      "torch.Size([1000, 9])\n",
      "torch.Size([1000, 9])\n"
     ]
    },
    {
     "name": "stderr",
     "output_type": "stream",
     "text": [
      "Epoch 1/2:  25%|██▌       | 101/400 [00:29<00:06, 44.14it/s, loss=0.38646]"
     ]
    },
    {
     "name": "stdout",
     "output_type": "stream",
     "text": [
      "torch.Size([1000, 9])\n",
      "torch.Size([1000, 9])\n",
      "torch.Size([1000, 9])\n",
      "torch.Size([1000, 9])\n",
      "torch.Size([1000, 9])\n",
      "torch.Size([1000, 9])\n",
      "torch.Size([1000, 9])\n",
      "torch.Size([1000, 9])\n",
      "torch.Size([1000, 9])\n",
      "torch.Size([1000, 9])\n"
     ]
    },
    {
     "name": "stderr",
     "output_type": "stream",
     "text": [
      "Epoch 1/2:  28%|██▊       | 111/400 [00:29<00:06, 47.65it/s, loss=0.52800]"
     ]
    },
    {
     "name": "stdout",
     "output_type": "stream",
     "text": [
      "torch.Size([1000, 9])\n",
      "torch.Size([1000, 9])\n",
      "torch.Size([1000, 9])\n",
      "torch.Size([1000, 9])\n",
      "torch.Size([1000, 9])\n",
      "torch.Size([1000, 9])\n",
      "torch.Size([1000, 9])\n",
      "torch.Size([1000, 9])\n",
      "torch.Size([1000, 9])\n",
      "torch.Size([1000, 9])\n"
     ]
    },
    {
     "name": "stderr",
     "output_type": "stream",
     "text": [
      "Epoch 1/2:  30%|███       | 122/400 [00:29<00:05, 50.13it/s, loss=0.53435]"
     ]
    },
    {
     "name": "stdout",
     "output_type": "stream",
     "text": [
      "torch.Size([1000, 9])\n",
      "torch.Size([1000, 9])\n",
      "torch.Size([1000, 9])\n",
      "torch.Size([1000, 9])\n",
      "torch.Size([1000, 9])\n",
      "torch.Size([1000, 9])\n",
      "torch.Size([1000, 9])\n",
      "torch.Size([1000, 9])\n",
      "torch.Size([1000, 9])\n",
      "torch.Size([1000, 9])\n",
      "torch.Size([1000, 9])\n"
     ]
    },
    {
     "name": "stderr",
     "output_type": "stream",
     "text": [
      "Epoch 1/2:  33%|███▎      | 132/400 [00:29<00:05, 49.42it/s, loss=0.57522]"
     ]
    },
    {
     "name": "stdout",
     "output_type": "stream",
     "text": [
      "torch.Size([1000, 9])\n",
      "torch.Size([1000, 9])\n",
      "torch.Size([1000, 9])\n",
      "torch.Size([1000, 9])\n",
      "torch.Size([1000, 9])\n",
      "torch.Size([1000, 9])\n",
      "torch.Size([1000, 9])\n",
      "torch.Size([1000, 9])\n",
      "torch.Size([1000, 9])\n",
      "torch.Size([1000, 9])\n"
     ]
    },
    {
     "name": "stderr",
     "output_type": "stream",
     "text": [
      "Epoch 1/2:  35%|███▌      | 141/400 [00:30<00:05, 48.79it/s, loss=0.44326]"
     ]
    },
    {
     "name": "stdout",
     "output_type": "stream",
     "text": [
      "torch.Size([1000, 9])\n",
      "torch.Size([1000, 9])\n",
      "torch.Size([1000, 9])\n",
      "torch.Size([1000, 9])\n",
      "torch.Size([1000, 9])\n",
      "torch.Size([1000, 9])\n",
      "torch.Size([1000, 9])\n",
      "torch.Size([1000, 9])\n",
      "torch.Size([1000, 9])\n"
     ]
    },
    {
     "name": "stderr",
     "output_type": "stream",
     "text": [
      "Epoch 1/2:  38%|███▊      | 151/400 [00:30<00:05, 47.67it/s, loss=0.76418]"
     ]
    },
    {
     "name": "stdout",
     "output_type": "stream",
     "text": [
      "torch.Size([1000, 9])\n",
      "torch.Size([1000, 9])\n",
      "torch.Size([1000, 9])\n",
      "torch.Size([1000, 9])\n",
      "torch.Size([1000, 9])\n",
      "torch.Size([1000, 9])\n",
      "torch.Size([1000, 9])\n",
      "torch.Size([1000, 9])\n",
      "torch.Size([1000, 9])\n",
      "torch.Size([1000, 9])\n"
     ]
    },
    {
     "name": "stderr",
     "output_type": "stream",
     "text": [
      "Epoch 1/2:  40%|████      | 162/400 [00:30<00:04, 48.64it/s, loss=0.38426]"
     ]
    },
    {
     "name": "stdout",
     "output_type": "stream",
     "text": [
      "torch.Size([1000, 9])\n",
      "torch.Size([1000, 9])\n",
      "torch.Size([1000, 9])\n",
      "torch.Size([1000, 9])\n",
      "torch.Size([1000, 9])\n",
      "torch.Size([1000, 9])\n",
      "torch.Size([1000, 9])\n",
      "torch.Size([1000, 9])\n",
      "torch.Size([1000, 9])\n",
      "torch.Size([1000, 9])\n",
      "torch.Size([1000, 9])\n"
     ]
    },
    {
     "name": "stderr",
     "output_type": "stream",
     "text": [
      "Epoch 1/2:  43%|████▎     | 171/400 [00:30<00:04, 47.78it/s, loss=0.64114]"
     ]
    },
    {
     "name": "stdout",
     "output_type": "stream",
     "text": [
      "torch.Size([1000, 9])\n",
      "torch.Size([1000, 9])\n",
      "torch.Size([1000, 9])\n",
      "torch.Size([1000, 9])\n",
      "torch.Size([1000, 9])\n",
      "torch.Size([1000, 9])\n",
      "torch.Size([1000, 9])\n",
      "torch.Size([1000, 9])\n",
      "torch.Size([1000, 9])\n"
     ]
    },
    {
     "name": "stderr",
     "output_type": "stream",
     "text": [
      "Epoch 1/2:  45%|████▌     | 181/400 [00:30<00:04, 46.98it/s, loss=0.74233]"
     ]
    },
    {
     "name": "stdout",
     "output_type": "stream",
     "text": [
      "torch.Size([1000, 9])\n",
      "torch.Size([1000, 9])\n",
      "torch.Size([1000, 9])\n",
      "torch.Size([1000, 9])\n",
      "torch.Size([1000, 9])\n",
      "torch.Size([1000, 9])\n",
      "torch.Size([1000, 9])\n",
      "torch.Size([1000, 9])\n",
      "torch.Size([1000, 9])\n",
      "torch.Size([1000, 9])\n"
     ]
    },
    {
     "name": "stderr",
     "output_type": "stream",
     "text": [
      "Epoch 1/2:  48%|████▊     | 191/400 [00:31<00:04, 47.17it/s, loss=0.34321]"
     ]
    },
    {
     "name": "stdout",
     "output_type": "stream",
     "text": [
      "torch.Size([1000, 9])\n",
      "torch.Size([1000, 9])\n",
      "torch.Size([1000, 9])\n",
      "torch.Size([1000, 9])\n",
      "torch.Size([1000, 9])\n",
      "torch.Size([1000, 9])\n",
      "torch.Size([1000, 9])\n",
      "torch.Size([1000, 9])\n",
      "torch.Size([1000, 9])\n",
      "torch.Size([1000, 9])\n"
     ]
    },
    {
     "name": "stderr",
     "output_type": "stream",
     "text": [
      "Epoch 1/2:  50%|█████     | 200/400 [00:31<00:04, 46.75it/s, loss=0.27895]"
     ]
    },
    {
     "name": "stdout",
     "output_type": "stream",
     "text": [
      "torch.Size([1000, 9])\n",
      "torch.Size([1000, 9])\n",
      "torch.Size([1000, 9])\n",
      "torch.Size([1000, 9])\n",
      "torch.Size([1000, 9])\n",
      "torch.Size([1000, 9])\n",
      "torch.Size([1000, 9])\n",
      "torch.Size([1000, 9])\n",
      "torch.Size([1000, 9])\n"
     ]
    },
    {
     "name": "stderr",
     "output_type": "stream",
     "text": [
      "Epoch 1/2:  52%|█████▏    | 206/400 [00:31<00:04, 45.96it/s, loss=0.31511]"
     ]
    },
    {
     "name": "stdout",
     "output_type": "stream",
     "text": [
      "torch.Size([1000, 9])\n",
      "torch.Size([1000, 9])\n",
      "torch.Size([1000, 9])\n",
      "torch.Size([1000, 9])\n",
      "torch.Size([1000, 9])\n",
      "torch.Size([1000, 9])\n"
     ]
    },
    {
     "name": "stderr",
     "output_type": "stream",
     "text": [
      "Epoch 1/2:  54%|█████▍    | 215/400 [00:31<00:05, 34.92it/s, loss=0.46061]"
     ]
    },
    {
     "name": "stdout",
     "output_type": "stream",
     "text": [
      "torch.Size([1000, 9])\n",
      "torch.Size([1000, 9])\n",
      "torch.Size([1000, 9])\n",
      "torch.Size([1000, 9])\n",
      "torch.Size([1000, 9])\n",
      "torch.Size([1000, 9])\n",
      "torch.Size([1000, 9])\n",
      "torch.Size([1000, 9])\n",
      "torch.Size([1000, 9])\n"
     ]
    },
    {
     "name": "stderr",
     "output_type": "stream",
     "text": [
      "Epoch 1/2:  56%|█████▋    | 225/400 [00:31<00:04, 40.45it/s, loss=0.30826]"
     ]
    },
    {
     "name": "stdout",
     "output_type": "stream",
     "text": [
      "torch.Size([1000, 9])\n",
      "torch.Size([1000, 9])\n",
      "torch.Size([1000, 9])\n",
      "torch.Size([1000, 9])\n",
      "torch.Size([1000, 9])\n",
      "torch.Size([1000, 9])\n",
      "torch.Size([1000, 9])\n",
      "torch.Size([1000, 9])\n",
      "torch.Size([1000, 9])\n",
      "torch.Size([1000, 9])\n"
     ]
    },
    {
     "name": "stderr",
     "output_type": "stream",
     "text": [
      "Epoch 1/2:  58%|█████▊    | 234/400 [00:32<00:03, 43.39it/s, loss=0.50893]"
     ]
    },
    {
     "name": "stdout",
     "output_type": "stream",
     "text": [
      "torch.Size([1000, 9])\n",
      "torch.Size([1000, 9])\n",
      "torch.Size([1000, 9])\n",
      "torch.Size([1000, 9])\n",
      "torch.Size([1000, 9])\n",
      "torch.Size([1000, 9])\n",
      "torch.Size([1000, 9])\n",
      "torch.Size([1000, 9])\n",
      "torch.Size([1000, 9])\n"
     ]
    },
    {
     "name": "stderr",
     "output_type": "stream",
     "text": [
      "Epoch 1/2:  61%|██████    | 243/400 [00:32<00:03, 43.99it/s, loss=0.28437]"
     ]
    },
    {
     "name": "stdout",
     "output_type": "stream",
     "text": [
      "torch.Size([1000, 9])\n",
      "torch.Size([1000, 9])\n",
      "torch.Size([1000, 9])\n",
      "torch.Size([1000, 9])\n",
      "torch.Size([1000, 9])\n",
      "torch.Size([1000, 9])\n",
      "torch.Size([1000, 9])\n",
      "torch.Size([1000, 9])\n",
      "torch.Size([1000, 9])\n"
     ]
    },
    {
     "name": "stderr",
     "output_type": "stream",
     "text": [
      "Epoch 1/2:  63%|██████▎   | 252/400 [00:32<00:03, 45.40it/s, loss=0.40750]"
     ]
    },
    {
     "name": "stdout",
     "output_type": "stream",
     "text": [
      "torch.Size([1000, 9])\n",
      "torch.Size([1000, 9])\n",
      "torch.Size([1000, 9])\n",
      "torch.Size([1000, 9])\n",
      "torch.Size([1000, 9])\n",
      "torch.Size([1000, 9])\n",
      "torch.Size([1000, 9])\n",
      "torch.Size([1000, 9])\n",
      "torch.Size([1000, 9])\n"
     ]
    },
    {
     "name": "stderr",
     "output_type": "stream",
     "text": [
      "Epoch 1/2:  65%|██████▌   | 261/400 [00:32<00:02, 46.67it/s, loss=0.46179]"
     ]
    },
    {
     "name": "stdout",
     "output_type": "stream",
     "text": [
      "torch.Size([1000, 9])\n",
      "torch.Size([1000, 9])\n",
      "torch.Size([1000, 9])\n",
      "torch.Size([1000, 9])\n",
      "torch.Size([1000, 9])\n",
      "torch.Size([1000, 9])\n",
      "torch.Size([1000, 9])\n",
      "torch.Size([1000, 9])\n",
      "torch.Size([1000, 9])\n"
     ]
    },
    {
     "name": "stderr",
     "output_type": "stream",
     "text": [
      "Epoch 1/2:  68%|██████▊   | 270/400 [00:32<00:02, 45.86it/s, loss=0.53908]"
     ]
    },
    {
     "name": "stdout",
     "output_type": "stream",
     "text": [
      "torch.Size([1000, 9])\n",
      "torch.Size([1000, 9])\n",
      "torch.Size([1000, 9])\n",
      "torch.Size([1000, 9])\n",
      "torch.Size([1000, 9])\n",
      "torch.Size([1000, 9])\n",
      "torch.Size([1000, 9])\n",
      "torch.Size([1000, 9])\n",
      "torch.Size([1000, 9])\n"
     ]
    },
    {
     "name": "stderr",
     "output_type": "stream",
     "text": [
      "Epoch 1/2:  70%|██████▉   | 279/400 [00:33<00:02, 45.76it/s, loss=0.37560]"
     ]
    },
    {
     "name": "stdout",
     "output_type": "stream",
     "text": [
      "torch.Size([1000, 9])\n",
      "torch.Size([1000, 9])\n",
      "torch.Size([1000, 9])\n",
      "torch.Size([1000, 9])\n",
      "torch.Size([1000, 9])\n",
      "torch.Size([1000, 9])\n",
      "torch.Size([1000, 9])\n",
      "torch.Size([1000, 9])\n",
      "torch.Size([1000, 9])\n"
     ]
    },
    {
     "name": "stderr",
     "output_type": "stream",
     "text": [
      "Epoch 1/2:  72%|███████▏  | 288/400 [00:33<00:02, 45.80it/s, loss=0.78611]"
     ]
    },
    {
     "name": "stdout",
     "output_type": "stream",
     "text": [
      "torch.Size([1000, 9])\n",
      "torch.Size([1000, 9])\n",
      "torch.Size([1000, 9])\n",
      "torch.Size([1000, 9])\n",
      "torch.Size([1000, 9])\n",
      "torch.Size([1000, 9])\n",
      "torch.Size([1000, 9])\n",
      "torch.Size([1000, 9])\n",
      "torch.Size([1000, 9])\n"
     ]
    },
    {
     "name": "stderr",
     "output_type": "stream",
     "text": [
      "Epoch 1/2:  74%|███████▍  | 297/400 [00:33<00:02, 46.83it/s, loss=0.31218]"
     ]
    },
    {
     "name": "stdout",
     "output_type": "stream",
     "text": [
      "torch.Size([1000, 9])\n",
      "torch.Size([1000, 9])\n",
      "torch.Size([1000, 9])\n",
      "torch.Size([1000, 9])\n",
      "torch.Size([1000, 9])\n",
      "torch.Size([1000, 9])\n",
      "torch.Size([1000, 9])\n",
      "torch.Size([1000, 9])\n",
      "torch.Size([1000, 9])\n"
     ]
    },
    {
     "name": "stderr",
     "output_type": "stream",
     "text": [
      "Epoch 1/2:  77%|███████▋  | 307/400 [00:33<00:02, 46.30it/s, loss=0.41175]"
     ]
    },
    {
     "name": "stdout",
     "output_type": "stream",
     "text": [
      "torch.Size([1000, 9])\n",
      "torch.Size([1000, 9])\n",
      "torch.Size([1000, 9])\n",
      "torch.Size([1000, 9])\n",
      "torch.Size([1000, 9])\n",
      "torch.Size([1000, 9])\n",
      "torch.Size([1000, 9])\n",
      "torch.Size([1000, 9])\n",
      "torch.Size([1000, 9])\n",
      "torch.Size([1000, 9])\n"
     ]
    },
    {
     "name": "stderr",
     "output_type": "stream",
     "text": [
      "Epoch 1/2:  79%|███████▉  | 317/400 [00:33<00:01, 46.25it/s, loss=0.51348]"
     ]
    },
    {
     "name": "stdout",
     "output_type": "stream",
     "text": [
      "torch.Size([1000, 9])\n",
      "torch.Size([1000, 9])\n",
      "torch.Size([1000, 9])\n",
      "torch.Size([1000, 9])\n",
      "torch.Size([1000, 9])\n",
      "torch.Size([1000, 9])\n",
      "torch.Size([1000, 9])\n",
      "torch.Size([1000, 9])\n",
      "torch.Size([1000, 9])\n",
      "torch.Size([1000, 9])\n"
     ]
    },
    {
     "name": "stderr",
     "output_type": "stream",
     "text": [
      "Epoch 1/2:  82%|████████▏ | 326/400 [00:34<00:01, 45.83it/s, loss=0.70273]"
     ]
    },
    {
     "name": "stdout",
     "output_type": "stream",
     "text": [
      "torch.Size([1000, 9])\n",
      "torch.Size([1000, 9])\n",
      "torch.Size([1000, 9])\n",
      "torch.Size([1000, 9])\n",
      "torch.Size([1000, 9])\n",
      "torch.Size([1000, 9])\n",
      "torch.Size([1000, 9])\n",
      "torch.Size([1000, 9])\n",
      "torch.Size([1000, 9])\n"
     ]
    },
    {
     "name": "stderr",
     "output_type": "stream",
     "text": [
      "Epoch 1/2:  83%|████████▎ | 333/400 [00:34<00:01, 45.10it/s, loss=0.69915]"
     ]
    },
    {
     "name": "stdout",
     "output_type": "stream",
     "text": [
      "torch.Size([1000, 9])\n",
      "torch.Size([1000, 9])\n",
      "torch.Size([1000, 9])\n",
      "torch.Size([1000, 9])\n",
      "torch.Size([1000, 9])\n",
      "torch.Size([1000, 9])\n",
      "torch.Size([1000, 9])\n"
     ]
    },
    {
     "name": "stderr",
     "output_type": "stream",
     "text": [
      "Epoch 1/2:  85%|████████▌ | 341/400 [00:34<00:01, 41.04it/s, loss=0.53976]"
     ]
    },
    {
     "name": "stdout",
     "output_type": "stream",
     "text": [
      "torch.Size([1000, 9])\n",
      "torch.Size([1000, 9])\n",
      "torch.Size([1000, 9])\n",
      "torch.Size([1000, 9])\n",
      "torch.Size([1000, 9])\n",
      "torch.Size([1000, 9])\n",
      "torch.Size([1000, 9])\n",
      "torch.Size([1000, 9])\n"
     ]
    },
    {
     "name": "stderr",
     "output_type": "stream",
     "text": [
      "Epoch 1/2:  87%|████████▋ | 349/400 [00:34<00:01, 42.52it/s, loss=0.50309]"
     ]
    }
   ],
   "source": [
    "if __name__ == '__main__':\n",
    "    # args=p_args()\n",
    "    args=MyNamespace()\n",
    "    main(args)\n",
    "    print('finish')"
   ],
   "metadata": {
    "collapsed": false
   }
  },
  {
   "cell_type": "code",
   "execution_count": null,
   "outputs": [],
   "source": [],
   "metadata": {
    "collapsed": false
   }
  },
  {
   "cell_type": "code",
   "execution_count": null,
   "outputs": [],
   "source": [],
   "metadata": {
    "collapsed": false
   }
  }
 ],
 "metadata": {
  "kernelspec": {
   "display_name": "Python 3",
   "language": "python",
   "name": "python3"
  },
  "language_info": {
   "codemirror_mode": {
    "name": "ipython",
    "version": 2
   },
   "file_extension": ".py",
   "mimetype": "text/x-python",
   "name": "python",
   "nbconvert_exporter": "python",
   "pygments_lexer": "ipython2",
   "version": "2.7.6"
  }
 },
 "nbformat": 4,
 "nbformat_minor": 0
}
