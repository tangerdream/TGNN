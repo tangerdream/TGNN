{
 "cells": [
  {
   "cell_type": "code",
   "execution_count": 3,
   "metadata": {
    "collapsed": true
   },
   "outputs": [],
   "source": [
    "import pandas as pd\n",
    "data_df = pd.read_csv('./dianfuxing.csv')"
   ]
  },
  {
   "cell_type": "code",
   "execution_count": 6,
   "outputs": [
    {
     "data": {
      "text/plain": "0      2.20\n1      0.00\n2      0.98\n3      1.57\n4      2.04\n       ... \n96     1.30\n97     1.30\n98     1.30\n99     1.30\n100    1.30\nName: ELECTRONEGATIVITY, Length: 101, dtype: float64"
     },
     "execution_count": 6,
     "metadata": {},
     "output_type": "execute_result"
    }
   ],
   "source": [
    "data_df.ELECTRONEGATIVITY"
   ],
   "metadata": {
    "collapsed": false
   }
  },
  {
   "cell_type": "code",
   "execution_count": 5,
   "outputs": [
    {
     "name": "stdout",
     "output_type": "stream",
     "text": [
      "0      2.20\n",
      "1      0.00\n",
      "2      0.98\n",
      "3      1.57\n",
      "4      2.04\n",
      "       ... \n",
      "96     1.30\n",
      "97     1.30\n",
      "98     1.30\n",
      "99     1.30\n",
      "100    1.30\n",
      "Name: ELECTRONEGATIVITY, Length: 101, dtype: float64\n"
     ]
    }
   ],
   "source": [
    "print(data_df.ELECTRONEGATIVITY)"
   ],
   "metadata": {
    "collapsed": false
   }
  },
  {
   "cell_type": "code",
   "execution_count": null,
   "outputs": [],
   "source": [
    "'0', '2.20', '1', '0.00', '2', '0.98', '3', '1.57', '4', '2.04', '5', '2.55', '6', '3.04', '7', '3.44', '8', '3.98', '9', '0.00', '10', '0.93', '11', '1.31', '12', '1.61', '13', '1.90', '14', '2.19', '15', '2.58', '16', '3.16', '17', '0.00', '18', '0.82', '19', '1.00', '20', '1.36', '21', '1.54', '22', '1.63', '23', '1.66', '24', '1.55', '25', '1.83', '26', '1.88', '27', '1.91', '28', '1.90', '29', '1.65', '30', '1.81', '31', '2.01', '32', '2.18', '33', '2.55', '34', '2.96', '35', '3.00', '36', '0.82', '37', '0.95', '38', '1.22', '39', '1.33', '40', '1.60', '41', '2.16', '42', '1.90', '43', '2.20', '44', '2.28', '45', '2.20', '46', '1.93', '47', '1.69', '48', '1.78', '49', '1.96', '50', '2.05', '51', '2.10', '52', '2.66', '53', '2.60', '54', '0.79', '55', '0.89', '56', '1.10', '57', '1.12', '58', '1.13', '59', '1.14', '60', '1.13', '61', '1.17', '62', '1.20', '63', '1.20', '64', '1.22', '65', '1.23', '66', '1.24', '67', '1.24', '68', '1.25', '69', '1.10', '70', '1.27', '71', '1.30', '72', '1.50', '73', '2.36', '74', '1.90', '75', '2.20', '76', '2.20', '77', '2.28', '78', '2.54', '79', '2.00', '80', '1.62', '81', '2.33', '82', '2.02', '83', '2.00', '84', '2.20', '85', '0.00', '86', '0.70', '87', '0.89', '88', '1.10', '89', '1.30', '90', '1.50', '91', '1.38', '92', '1.36', '93', '1.28', '94', '1.30', '95', '1.30', '96', '1.30', '97', '1.30', '98', '1.30', '99', '1.30', '100', '1.3'"
   ],
   "metadata": {
    "collapsed": false
   }
  },
  {
   "cell_type": "code",
   "execution_count": 9,
   "outputs": [
    {
     "name": "stdout",
     "output_type": "stream",
     "text": [
      "碳原子的质量：12.011\n",
      "氧原子的序数：8\n"
     ]
    }
   ],
   "source": [
    "from ase.data import atomic_masses, atomic_numbers\n",
    "\n",
    "# 获取碳原子的质量\n",
    "carbon_mass = atomic_masses[6]\n",
    "\n",
    "# 获取氢原子的电荷\n",
    "\n",
    "\n",
    "# 获取氧原子的序数\n",
    "oxygen_number = atomic_numbers['O']\n",
    "\n",
    "# 打印结果\n",
    "print(f\"碳原子的质量：{carbon_mass}\")\n",
    "print(f\"氧原子的序数：{oxygen_number}\")\n"
   ],
   "metadata": {
    "collapsed": false
   }
  },
  {
   "cell_type": "code",
   "execution_count": 1,
   "outputs": [
    {
     "data": {
      "text/plain": "0"
     },
     "execution_count": 1,
     "metadata": {},
     "output_type": "execute_result"
    }
   ],
   "source": [
    "[1,2,3].index(1)"
   ],
   "metadata": {
    "collapsed": false
   }
  },
  {
   "cell_type": "code",
   "execution_count": 3,
   "outputs": [
    {
     "ename": "AssertionError",
     "evalue": "",
     "output_type": "error",
     "traceback": [
      "\u001B[1;31m---------------------------------------------------------------------------\u001B[0m",
      "\u001B[1;31mAssertionError\u001B[0m                            Traceback (most recent call last)",
      "Cell \u001B[1;32mIn[3], line 1\u001B[0m\n\u001B[1;32m----> 1\u001B[0m \u001B[38;5;28;01massert\u001B[39;00m \u001B[38;5;241m1\u001B[39m\u001B[38;5;241m==\u001B[39m\u001B[38;5;241m0\u001B[39m\n",
      "\u001B[1;31mAssertionError\u001B[0m: "
     ]
    }
   ],
   "source": [
    "assert 1==0"
   ],
   "metadata": {
    "collapsed": false
   }
  },
  {
   "cell_type": "code",
   "execution_count": 1,
   "outputs": [
    {
     "name": "stdout",
     "output_type": "stream",
     "text": [
      "Data(x=[50, 9], edge_index=[2, 68], edge_attr=[68, 3], y=[1], new_pos=[50, 4], num_nodes=50, bond_length=[68, 1])\n"
     ]
    }
   ],
   "source": [
    "from Datasetmain import SmilesProcess,SmilesProcess_init\n",
    "import argparse\n",
    "\n",
    "class SmilesProcess_test(argparse.Namespace):\n",
    "    def __init__(self, **kwargs):\n",
    "        super().__init__(**kwargs)\n",
    "\n",
    "        self.root = './data.csv.gz'  # csv file\n",
    "        self.use_new_pos = True\n",
    "        self.y_name = 'homolumogap'\n",
    "        self.save = False\n",
    "        self.cover = False\n",
    "        self.outputdir = './PTs/'\n",
    "        self.ptname = 'my_dataset.pt'\n",
    "        self.seed = 20\n",
    "        self.num_jobs = 5\n",
    "        self.divid = True\n",
    "        self.maxnodes = 50\n",
    "        self.maxAttempts = 100\n",
    "        self.length = 100\n",
    "        self.begin = 1\n",
    "\n",
    "args = SmilesProcess_test()\n",
    "\n",
    "\n",
    "nn_params = {\n",
    "    'root': args.root,\n",
    "    'y_name': args.y_name,\n",
    "    'use_new_pos': args.use_new_pos,\n",
    "    'save': args.save,\n",
    "    'cover': args.cover,\n",
    "    'outputdir': args.outputdir,\n",
    "    'ptname': args.ptname,\n",
    "    'seed': args.seed,\n",
    "    'num_jobs': args.num_jobs,\n",
    "    'divid': args.divid,\n",
    "    'maxnodes': args.maxnodes,\n",
    "    'maxAttempts': args.maxAttempts,\n",
    "    'length': args.length,\n",
    "    'begin': args.begin\n",
    "}\n",
    "\n",
    "dataset1 = SmilesProcess(**nn_params)\n",
    "print(dataset1[1])"
   ],
   "metadata": {
    "collapsed": false
   }
  },
  {
   "cell_type": "code",
   "execution_count": 2,
   "outputs": [],
   "source": [
    "import torch\n",
    "dataset=torch.load('F:\\\\OnlinePacket\\\\programfiles\\\\Python\\\\TangerGNN\\\\Transform_rebuild\\\\TGNN\\\\PTs/my_dataset.pt_0')"
   ],
   "metadata": {
    "collapsed": false
   }
  },
  {
   "cell_type": "code",
   "execution_count": 3,
   "outputs": [
    {
     "data": {
      "text/plain": "Data(x=[50, 9], edge_index=[2, 64], edge_attr=[64, 3], y=[1], new_pos=[50, 4], num_nodes=50, bond_length=[64, 1])"
     },
     "execution_count": 3,
     "metadata": {},
     "output_type": "execute_result"
    }
   ],
   "source": [
    "dataset[0]"
   ],
   "metadata": {
    "collapsed": false
   }
  },
  {
   "cell_type": "code",
   "execution_count": null,
   "outputs": [],
   "source": [],
   "metadata": {
    "collapsed": false
   }
  }
 ],
 "metadata": {
  "kernelspec": {
   "display_name": "Python 3",
   "language": "python",
   "name": "python3"
  },
  "language_info": {
   "codemirror_mode": {
    "name": "ipython",
    "version": 2
   },
   "file_extension": ".py",
   "mimetype": "text/x-python",
   "name": "python",
   "nbconvert_exporter": "python",
   "pygments_lexer": "ipython2",
   "version": "2.7.6"
  }
 },
 "nbformat": 4,
 "nbformat_minor": 0
}
