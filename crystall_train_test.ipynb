{
 "cells": [
  {
   "cell_type": "code",
   "execution_count": 5,
   "metadata": {
    "collapsed": true
   },
   "outputs": [
    {
     "name": "stdout",
     "output_type": "stream",
     "text": [
      "torch version: 2.0.1+cu118\n"
     ]
    }
   ],
   "source": [
    "import os\n",
    "import argparse\n",
    "from torch.utils.tensorboard import SummaryWriter\n",
    "import time\n",
    "import torch\n",
    "from GEvaluator import Evaluator\n",
    "from Mid import GINGraphPooling\n",
    "from Module import load_data,train,evaluate,test,prepartion,continue_train\n",
    "print('torch version:',torch.__version__)"
   ]
  },
  {
   "cell_type": "markdown",
   "source": [
    "参数输入"
   ],
   "metadata": {
    "collapsed": false
   }
  },
  {
   "cell_type": "code",
   "execution_count": 6,
   "outputs": [],
   "source": [
    "#参数输入\n",
    "class MyNamespace(argparse.Namespace):\n",
    "    def __init__(self, **kwargs):\n",
    "        super().__init__(**kwargs)\n",
    "        self.batch_size = 20\n",
    "        self.device=0\n",
    "        self.drop_ratio=0.1\n",
    "        self.early_stop=30\n",
    "        self.early_stop_open = True\n",
    "        self.emb_dim=256\n",
    "        self.epochs=200\n",
    "        self.graph_pooling='sum'\n",
    "        self.num_layers=3\n",
    "        self.n_head=3\n",
    "        self.num_workers=5\n",
    "        self.num_tasks=1\n",
    "        self.save_test=True\n",
    "        self.task_name='GINGraph_crystal_test_no_attention'\n",
    "        self.weight_decay=0.5e-05\n",
    "        self.learning_rate=0.0001\n",
    "        self.data_type='crystal'\n",
    "        self.dataset_pt = './PTs/crystal_norm'\n",
    "        self.dataset_split=[0.8,0.19,0.01]\n",
    "        self.begin=0\n",
    "        self.evaluate_epoch=1\n",
    "        self.continue_train=False\n",
    "        self.checkpoint_path='./saves/GINGraph-con-v100_/checkpoint.pt'\n",
    "        self.job_level='node' #graph,node\n",
    "        self.attention=False #是否启用Multi-head self-attention层\n",
    "\n"
   ],
   "metadata": {
    "collapsed": false
   }
  },
  {
   "cell_type": "markdown",
   "source": [
    "数据载入"
   ],
   "metadata": {
    "collapsed": false
   }
  },
  {
   "cell_type": "markdown",
   "source": [],
   "metadata": {
    "collapsed": false
   }
  },
  {
   "cell_type": "code",
   "execution_count": 7,
   "outputs": [],
   "source": [
    "def main(args):\n",
    "    prepartion(args)\n",
    "    nn_params = {\n",
    "        'num_layers': args.num_layers,\n",
    "        'emb_dim': args.emb_dim,\n",
    "        'n_head':args.n_head,\n",
    "        'drop_ratio': args.drop_ratio,\n",
    "        'graph_pooling': args.graph_pooling,\n",
    "        'num_tasks':args.num_tasks,\n",
    "        'data_type':args.data_type,\n",
    "        'job_level':args.job_level,\n",
    "        'attention':args.attention,\n",
    "\n",
    "    }\n",
    "\n",
    "    # automatic dataloading and splitting\n",
    "    train_loader,valid_loader,test_loader=load_data(args)\n",
    "\n",
    "    # automatic evaluator. takes dataset name as input\n",
    "    evaluator = Evaluator()\n",
    "    criterion_fn = torch.nn.MSELoss()\n",
    "\n",
    "    device = args.device\n",
    "\n",
    "    model = GINGraphPooling(**nn_params).to(device)\n",
    "    optimizer =  torch.optim.Adam(model.parameters(), lr=args.learning_rate, weight_decay=args.weight_decay)\n",
    "    scheduler = torch.optim.lr_scheduler.StepLR(optimizer, step_size=20, gamma=0.9)\n",
    "    if args.continue_train:\n",
    "        continue_train(args,model,optimizer)\n",
    "\n",
    "    num_params = sum(p.numel() for p in model.parameters())\n",
    "    print('train data:', len(train_loader), 'valid data:', len(valid_loader), file=args.output_file, flush=True)\n",
    "    print(f'#Params: {num_params}', file=args.output_file, flush=True)\n",
    "    print(model, file=args.output_file, flush=True)\n",
    "\n",
    "\n",
    "    writer = SummaryWriter(log_dir=args.save_dir)\n",
    "\n",
    "    not_improved = 0\n",
    "    eva=1\n",
    "    best_valid_mae = 9999\n",
    "    valid_mae=10000\n",
    "\n",
    "    for epoch in range(1, args.epochs + 1):\n",
    "\n",
    "        print('=====epoch:', epoch,time.strftime(\"%Y-%m-%d %H:%M:%S\", time.localtime()) )\n",
    "\n",
    "        print(time.strftime(\"%Y-%m-%d %H:%M:%S\", time.localtime()),\"=====Epoch {}\".format(epoch), file=args.output_file, flush=True)\n",
    "        print('Training...', file=args.output_file, flush=True)\n",
    "        train_mae,maxP,minN,avgP,avgN = train(model, device, train_loader, optimizer, criterion_fn,epoch,args.epochs)\n",
    "        print(train_mae,maxP,minN,avgP,avgN)\n",
    "        print('Evaluating...', file=args.output_file, flush=True)\n",
    "        if epoch==eva:\n",
    "            valid_mae = evaluate(model, device, valid_loader, evaluator)\n",
    "            eva += args.evaluate_epoch\n",
    "\n",
    "        print({'Train': train_mae, 'Validation': valid_mae}, file=args.output_file, flush=True)\n",
    "\n",
    "        writer.add_scalar('valid/mae', valid_mae, epoch)\n",
    "        writer.add_scalar('train/mae', train_mae, epoch)\n",
    "        writer.add_scalar('train/maxP', maxP, epoch)\n",
    "        writer.add_scalar('train/minN', minN, epoch)\n",
    "        writer.add_scalar('train/avgP', avgP, epoch)\n",
    "        writer.add_scalar('train/avgN', avgN, epoch)\n",
    "        print('valid_mae:',valid_mae,'best_valid_mae:',best_valid_mae)\n",
    "\n",
    "\n",
    "        if valid_mae < best_valid_mae:\n",
    "            print('valid_mae:',valid_mae,'Saving checkpoint...')\n",
    "            best_valid_mae = valid_mae\n",
    "            if args.save_test:\n",
    "                print('Saving checkpoint...', file=args.output_file, flush=True)\n",
    "                checkpoint = {\n",
    "                    'epoch': epoch, 'model_state_dict': model.state_dict(), 'optimizer_state_dict': optimizer.state_dict(),\n",
    "                    'scheduler_state_dict': scheduler.state_dict(), 'best_val_mae': best_valid_mae, 'num_params': num_params\n",
    "                }\n",
    "                torch.save(checkpoint, os.path.join(args.save_dir, 'checkpoint.pt'))\n",
    "                print('Predicting on test data...', file=args.output_file, flush=True)\n",
    "                y_pred = test(model, device, test_loader)\n",
    "                print('Saving test submission file...', file=args.output_file, flush=True)\n",
    "                evaluator.save_test_submission({'y_pred': y_pred}, args.save_dir)\n",
    "\n",
    "            not_improved = 0\n",
    "        else:\n",
    "            not_improved += 1\n",
    "            if not_improved == args.early_stop:\n",
    "                print(f\"Have not improved for {not_improved} epoches.\", file=args.output_file, flush=True)\n",
    "                break\n",
    "\n",
    "        scheduler.step()\n",
    "        print(f'Best validation MAE so far: {best_valid_mae}', file=args.output_file, flush=True)\n",
    "\n",
    "    # writer.add_graph(model,train_loader)\n",
    "    writer.close()\n",
    "    args.output_file.close()"
   ],
   "metadata": {
    "collapsed": false
   }
  },
  {
   "cell_type": "code",
   "execution_count": 8,
   "outputs": [
    {
     "name": "stdout",
     "output_type": "stream",
     "text": [
      "data loading in dir: ./PTs/crystal_norm\n"
     ]
    },
    {
     "name": "stderr",
     "output_type": "stream",
     "text": [
      "100%|██████████| 1/1 [00:00<00:00,  2.28it/s]\n"
     ]
    },
    {
     "name": "stdout",
     "output_type": "stream",
     "text": [
      "train data: 800 valid data: 190\n",
      "=====epoch: 1 2023-08-05 13:42:20\n",
      "on training:\n"
     ]
    },
    {
     "name": "stderr",
     "output_type": "stream",
     "text": [
      "Epoch 1/200: 100%|██████████| 40/40 [00:14<00:00,  2.80it/s, loss=0.16567]\n"
     ]
    },
    {
     "name": "stdout",
     "output_type": "stream",
     "text": [
      "0.2260716523975134 tensor(4.2936, device='cuda:0', grad_fn=<UnbindBackward0>) tensor(-6.5602, device='cuda:0', grad_fn=<UnbindBackward0>) tensor(0.1808, device='cuda:0', grad_fn=<DivBackward0>) tensor(-0.4115, device='cuda:0', grad_fn=<DivBackward0>)\n"
     ]
    },
    {
     "name": "stderr",
     "output_type": "stream",
     "text": [
      "Evaluating:: 100%|██████████| 10/10 [00:10<00:00,  1.02s/it]\n"
     ]
    },
    {
     "name": "stdout",
     "output_type": "stream",
     "text": [
      "Evaluate finish\n",
      "valid_mae: 0.228460893034935 Saving checkpoint...\n"
     ]
    },
    {
     "name": "stderr",
     "output_type": "stream",
     "text": [
      "Testing:: 100%|██████████| 1/1 [00:02<00:00,  2.88s/it]\n"
     ]
    },
    {
     "name": "stdout",
     "output_type": "stream",
     "text": [
      "Test finish\n",
      "=====epoch: 2 2023-08-05 13:42:48\n",
      "on training:\n"
     ]
    },
    {
     "name": "stderr",
     "output_type": "stream",
     "text": [
      "Epoch 2/200: 100%|██████████| 40/40 [00:13<00:00,  2.97it/s, loss=0.11963]\n"
     ]
    },
    {
     "name": "stdout",
     "output_type": "stream",
     "text": [
      "0.14256334416568278 tensor(2.2894, device='cuda:0', grad_fn=<UnbindBackward0>) tensor(-2.5813, device='cuda:0', grad_fn=<UnbindBackward0>) tensor(0.1464, device='cuda:0', grad_fn=<DivBackward0>) tensor(-0.3317, device='cuda:0', grad_fn=<DivBackward0>)\n"
     ]
    },
    {
     "name": "stderr",
     "output_type": "stream",
     "text": [
      "Evaluating:: 100%|██████████| 10/10 [00:10<00:00,  1.00s/it]\n"
     ]
    },
    {
     "name": "stdout",
     "output_type": "stream",
     "text": [
      "Evaluate finish\n",
      "=====epoch: 3 2023-08-05 13:43:11\n",
      "on training:\n"
     ]
    },
    {
     "name": "stderr",
     "output_type": "stream",
     "text": [
      "Epoch 3/200: 100%|██████████| 40/40 [00:12<00:00,  3.20it/s, loss=0.09671]\n"
     ]
    },
    {
     "name": "stdout",
     "output_type": "stream",
     "text": [
      "0.10540296882390976 tensor(2.0500, device='cuda:0', grad_fn=<UnbindBackward0>) tensor(-2.9285, device='cuda:0', grad_fn=<UnbindBackward0>) tensor(0.1592, device='cuda:0', grad_fn=<DivBackward0>) tensor(-0.2770, device='cuda:0', grad_fn=<DivBackward0>)\n"
     ]
    },
    {
     "name": "stderr",
     "output_type": "stream",
     "text": [
      "Evaluating:: 100%|██████████| 10/10 [00:09<00:00,  1.01it/s]\n"
     ]
    },
    {
     "name": "stdout",
     "output_type": "stream",
     "text": [
      "Evaluate finish\n",
      "valid_mae: 0.19044414162635803 Saving checkpoint...\n"
     ]
    },
    {
     "name": "stderr",
     "output_type": "stream",
     "text": [
      "Testing:: 100%|██████████| 1/1 [00:02<00:00,  2.82s/it]\n"
     ]
    },
    {
     "name": "stdout",
     "output_type": "stream",
     "text": [
      "Test finish\n",
      "=====epoch: 4 2023-08-05 13:43:36\n",
      "on training:\n"
     ]
    },
    {
     "name": "stderr",
     "output_type": "stream",
     "text": [
      "Epoch 4/200: 100%|██████████| 40/40 [00:12<00:00,  3.14it/s, loss=0.07832]\n"
     ]
    },
    {
     "name": "stdout",
     "output_type": "stream",
     "text": [
      "0.08597379345446825 tensor(2.3466, device='cuda:0', grad_fn=<UnbindBackward0>) tensor(-2.5696, device='cuda:0', grad_fn=<UnbindBackward0>) tensor(0.1560, device='cuda:0', grad_fn=<DivBackward0>) tensor(-0.2460, device='cuda:0', grad_fn=<DivBackward0>)\n"
     ]
    },
    {
     "name": "stderr",
     "output_type": "stream",
     "text": [
      "Evaluating:: 100%|██████████| 10/10 [00:09<00:00,  1.02it/s]\n"
     ]
    },
    {
     "name": "stdout",
     "output_type": "stream",
     "text": [
      "Evaluate finish\n",
      "valid_mae: 0.16238510608673096 Saving checkpoint...\n"
     ]
    },
    {
     "name": "stderr",
     "output_type": "stream",
     "text": [
      "Testing:: 100%|██████████| 1/1 [00:02<00:00,  2.67s/it]\n"
     ]
    },
    {
     "name": "stdout",
     "output_type": "stream",
     "text": [
      "Test finish\n",
      "=====epoch: 5 2023-08-05 13:44:02\n",
      "on training:\n"
     ]
    },
    {
     "name": "stderr",
     "output_type": "stream",
     "text": [
      "Epoch 5/200: 100%|██████████| 40/40 [00:12<00:00,  3.15it/s, loss=0.06764]\n"
     ]
    },
    {
     "name": "stdout",
     "output_type": "stream",
     "text": [
      "0.07435891088098287 tensor(2.3888, device='cuda:0', grad_fn=<UnbindBackward0>) tensor(-2.2581, device='cuda:0', grad_fn=<UnbindBackward0>) tensor(0.1507, device='cuda:0', grad_fn=<DivBackward0>) tensor(-0.2249, device='cuda:0', grad_fn=<DivBackward0>)\n"
     ]
    },
    {
     "name": "stderr",
     "output_type": "stream",
     "text": [
      "Evaluating:: 100%|██████████| 10/10 [00:09<00:00,  1.04it/s]\n"
     ]
    },
    {
     "name": "stdout",
     "output_type": "stream",
     "text": [
      "Evaluate finish\n",
      "valid_mae: 0.16171042621135712 Saving checkpoint...\n"
     ]
    },
    {
     "name": "stderr",
     "output_type": "stream",
     "text": [
      "Testing:: 100%|██████████| 1/1 [00:02<00:00,  2.66s/it]\n"
     ]
    },
    {
     "name": "stdout",
     "output_type": "stream",
     "text": [
      "Test finish\n",
      "=====epoch: 6 2023-08-05 13:44:27\n",
      "on training:\n"
     ]
    },
    {
     "name": "stderr",
     "output_type": "stream",
     "text": [
      "Epoch 6/200: 100%|██████████| 40/40 [00:12<00:00,  3.28it/s, loss=0.05967]\n"
     ]
    },
    {
     "name": "stdout",
     "output_type": "stream",
     "text": [
      "0.06455541551113128 tensor(2.2052, device='cuda:0', grad_fn=<UnbindBackward0>) tensor(-2.6148, device='cuda:0', grad_fn=<UnbindBackward0>) tensor(0.1445, device='cuda:0', grad_fn=<DivBackward0>) tensor(-0.2056, device='cuda:0', grad_fn=<DivBackward0>)\n"
     ]
    },
    {
     "name": "stderr",
     "output_type": "stream",
     "text": [
      "Evaluating:: 100%|██████████| 10/10 [00:09<00:00,  1.03it/s]\n"
     ]
    },
    {
     "name": "stdout",
     "output_type": "stream",
     "text": [
      "Evaluate finish\n",
      "valid_mae: 0.12719008326530457 Saving checkpoint...\n"
     ]
    },
    {
     "name": "stderr",
     "output_type": "stream",
     "text": [
      "Testing:: 100%|██████████| 1/1 [00:02<00:00,  2.78s/it]\n"
     ]
    },
    {
     "name": "stdout",
     "output_type": "stream",
     "text": [
      "Test finish\n",
      "=====epoch: 7 2023-08-05 13:44:51\n",
      "on training:\n"
     ]
    },
    {
     "name": "stderr",
     "output_type": "stream",
     "text": [
      "Epoch 7/200: 100%|██████████| 40/40 [00:11<00:00,  3.38it/s, loss=0.05516]\n"
     ]
    },
    {
     "name": "stdout",
     "output_type": "stream",
     "text": [
      "0.05715201776474714 tensor(2.2182, device='cuda:0', grad_fn=<UnbindBackward0>) tensor(-2.6157, device='cuda:0', grad_fn=<UnbindBackward0>) tensor(0.1406, device='cuda:0', grad_fn=<DivBackward0>) tensor(-0.1909, device='cuda:0', grad_fn=<DivBackward0>)\n"
     ]
    },
    {
     "name": "stderr",
     "output_type": "stream",
     "text": [
      "Evaluating:: 100%|██████████| 10/10 [00:09<00:00,  1.03it/s]\n"
     ]
    },
    {
     "name": "stdout",
     "output_type": "stream",
     "text": [
      "Evaluate finish\n",
      "valid_mae: 0.09488746523857117 Saving checkpoint...\n"
     ]
    },
    {
     "name": "stderr",
     "output_type": "stream",
     "text": [
      "Testing:: 100%|██████████| 1/1 [00:03<00:00,  3.25s/it]\n"
     ]
    },
    {
     "name": "stdout",
     "output_type": "stream",
     "text": [
      "Test finish\n",
      "=====epoch: 8 2023-08-05 13:45:16\n",
      "on training:\n"
     ]
    },
    {
     "name": "stderr",
     "output_type": "stream",
     "text": [
      "Epoch 8/200: 100%|██████████| 40/40 [00:14<00:00,  2.70it/s, loss=0.05117]\n"
     ]
    },
    {
     "name": "stdout",
     "output_type": "stream",
     "text": [
      "0.052150980941951273 tensor(2.1539, device='cuda:0', grad_fn=<UnbindBackward0>) tensor(-2.3851, device='cuda:0', grad_fn=<UnbindBackward0>) tensor(0.1370, device='cuda:0', grad_fn=<DivBackward0>) tensor(-0.1783, device='cuda:0', grad_fn=<DivBackward0>)\n"
     ]
    },
    {
     "name": "stderr",
     "output_type": "stream",
     "text": [
      "Evaluating:: 100%|██████████| 10/10 [00:10<00:00,  1.02s/it]\n"
     ]
    },
    {
     "name": "stdout",
     "output_type": "stream",
     "text": [
      "Evaluate finish\n",
      "=====epoch: 9 2023-08-05 13:45:41\n",
      "on training:\n"
     ]
    },
    {
     "name": "stderr",
     "output_type": "stream",
     "text": [
      "Epoch 9/200: 100%|██████████| 40/40 [00:12<00:00,  3.27it/s, loss=0.05176]\n"
     ]
    },
    {
     "name": "stdout",
     "output_type": "stream",
     "text": [
      "0.04817119501531124 tensor(1.9221, device='cuda:0', grad_fn=<UnbindBackward0>) tensor(-2.3090, device='cuda:0', grad_fn=<UnbindBackward0>) tensor(0.1346, device='cuda:0', grad_fn=<DivBackward0>) tensor(-0.1700, device='cuda:0', grad_fn=<DivBackward0>)\n"
     ]
    },
    {
     "name": "stderr",
     "output_type": "stream",
     "text": [
      "Evaluating:: 100%|██████████| 10/10 [00:09<00:00,  1.02it/s]\n"
     ]
    },
    {
     "name": "stdout",
     "output_type": "stream",
     "text": [
      "Evaluate finish\n",
      "valid_mae: 0.09206335246562958 Saving checkpoint...\n"
     ]
    },
    {
     "name": "stderr",
     "output_type": "stream",
     "text": [
      "Testing:: 100%|██████████| 1/1 [00:02<00:00,  2.71s/it]\n"
     ]
    },
    {
     "name": "stdout",
     "output_type": "stream",
     "text": [
      "Test finish\n",
      "=====epoch: 10 2023-08-05 13:46:06\n",
      "on training:\n"
     ]
    },
    {
     "name": "stderr",
     "output_type": "stream",
     "text": [
      "Epoch 10/200: 100%|██████████| 40/40 [00:13<00:00,  2.96it/s, loss=0.04367]\n"
     ]
    },
    {
     "name": "stdout",
     "output_type": "stream",
     "text": [
      "0.044010060653090474 tensor(1.7486, device='cuda:0', grad_fn=<UnbindBackward0>) tensor(-2.4674, device='cuda:0', grad_fn=<UnbindBackward0>) tensor(0.1308, device='cuda:0', grad_fn=<DivBackward0>) tensor(-0.1610, device='cuda:0', grad_fn=<DivBackward0>)\n"
     ]
    },
    {
     "name": "stderr",
     "output_type": "stream",
     "text": [
      "Evaluating:: 100%|██████████| 10/10 [00:09<00:00,  1.03it/s]\n"
     ]
    },
    {
     "name": "stdout",
     "output_type": "stream",
     "text": [
      "Evaluate finish\n",
      "valid_mae: 0.07456839829683304 Saving checkpoint...\n"
     ]
    },
    {
     "name": "stderr",
     "output_type": "stream",
     "text": [
      "Testing:: 100%|██████████| 1/1 [00:02<00:00,  2.71s/it]\n"
     ]
    },
    {
     "name": "stdout",
     "output_type": "stream",
     "text": [
      "Test finish\n",
      "=====epoch: 11 2023-08-05 13:46:32\n",
      "on training:\n"
     ]
    },
    {
     "name": "stderr",
     "output_type": "stream",
     "text": [
      "Epoch 11/200: 100%|██████████| 40/40 [00:12<00:00,  3.21it/s, loss=0.03902]\n"
     ]
    },
    {
     "name": "stdout",
     "output_type": "stream",
     "text": [
      "0.041567635256797075 tensor(1.8360, device='cuda:0', grad_fn=<UnbindBackward0>) tensor(-1.8654, device='cuda:0', grad_fn=<UnbindBackward0>) tensor(0.1294, device='cuda:0', grad_fn=<DivBackward0>) tensor(-0.1545, device='cuda:0', grad_fn=<DivBackward0>)\n"
     ]
    },
    {
     "name": "stderr",
     "output_type": "stream",
     "text": [
      "Evaluating:: 100%|██████████| 10/10 [00:09<00:00,  1.02it/s]\n"
     ]
    },
    {
     "name": "stdout",
     "output_type": "stream",
     "text": [
      "Evaluate finish\n",
      "valid_mae: 0.07165073603391647 Saving checkpoint...\n"
     ]
    },
    {
     "name": "stderr",
     "output_type": "stream",
     "text": [
      "Testing:: 100%|██████████| 1/1 [00:02<00:00,  2.69s/it]\n"
     ]
    },
    {
     "name": "stdout",
     "output_type": "stream",
     "text": [
      "Test finish\n",
      "=====epoch: 12 2023-08-05 13:46:57\n",
      "on training:\n"
     ]
    },
    {
     "name": "stderr",
     "output_type": "stream",
     "text": [
      "Epoch 12/200: 100%|██████████| 40/40 [00:11<00:00,  3.39it/s, loss=0.04030]\n"
     ]
    },
    {
     "name": "stdout",
     "output_type": "stream",
     "text": [
      "0.04015544345602393 tensor(1.8221, device='cuda:0', grad_fn=<UnbindBackward0>) tensor(-2.5666, device='cuda:0', grad_fn=<UnbindBackward0>) tensor(0.1282, device='cuda:0', grad_fn=<DivBackward0>) tensor(-0.1497, device='cuda:0', grad_fn=<DivBackward0>)\n"
     ]
    },
    {
     "name": "stderr",
     "output_type": "stream",
     "text": [
      "Evaluating:: 100%|██████████| 10/10 [00:09<00:00,  1.04it/s]\n"
     ]
    },
    {
     "name": "stdout",
     "output_type": "stream",
     "text": [
      "Evaluate finish\n",
      "valid_mae: 0.06699863076210022 Saving checkpoint...\n"
     ]
    },
    {
     "name": "stderr",
     "output_type": "stream",
     "text": [
      "Testing:: 100%|██████████| 1/1 [00:02<00:00,  2.59s/it]\n"
     ]
    },
    {
     "name": "stdout",
     "output_type": "stream",
     "text": [
      "Test finish\n",
      "=====epoch: 13 2023-08-05 13:47:21\n",
      "on training:\n"
     ]
    },
    {
     "name": "stderr",
     "output_type": "stream",
     "text": [
      "Epoch 13/200: 100%|██████████| 40/40 [00:11<00:00,  3.34it/s, loss=0.03567]\n"
     ]
    },
    {
     "name": "stdout",
     "output_type": "stream",
     "text": [
      "0.03786835065111518 tensor(1.9058, device='cuda:0', grad_fn=<UnbindBackward0>) tensor(-2.1691, device='cuda:0', grad_fn=<UnbindBackward0>) tensor(0.1264, device='cuda:0', grad_fn=<DivBackward0>) tensor(-0.1442, device='cuda:0', grad_fn=<DivBackward0>)\n"
     ]
    },
    {
     "name": "stderr",
     "output_type": "stream",
     "text": [
      "Evaluating:: 100%|██████████| 10/10 [00:09<00:00,  1.04it/s]\n"
     ]
    },
    {
     "name": "stdout",
     "output_type": "stream",
     "text": [
      "Evaluate finish\n",
      "valid_mae: 0.0664721354842186 Saving checkpoint...\n"
     ]
    },
    {
     "name": "stderr",
     "output_type": "stream",
     "text": [
      "Testing:: 100%|██████████| 1/1 [00:02<00:00,  2.64s/it]\n"
     ]
    },
    {
     "name": "stdout",
     "output_type": "stream",
     "text": [
      "Test finish\n",
      "=====epoch: 14 2023-08-05 13:47:45\n",
      "on training:\n"
     ]
    },
    {
     "name": "stderr",
     "output_type": "stream",
     "text": [
      "Epoch 14/200: 100%|██████████| 40/40 [00:12<00:00,  3.14it/s, loss=0.03488]\n"
     ]
    },
    {
     "name": "stdout",
     "output_type": "stream",
     "text": [
      "0.03651565695181489 tensor(1.8983, device='cuda:0', grad_fn=<UnbindBackward0>) tensor(-2.5350, device='cuda:0', grad_fn=<UnbindBackward0>) tensor(0.1245, device='cuda:0', grad_fn=<DivBackward0>) tensor(-0.1411, device='cuda:0', grad_fn=<DivBackward0>)\n"
     ]
    },
    {
     "name": "stderr",
     "output_type": "stream",
     "text": [
      "Evaluating:: 100%|██████████| 10/10 [00:09<00:00,  1.05it/s]\n"
     ]
    },
    {
     "name": "stdout",
     "output_type": "stream",
     "text": [
      "Evaluate finish\n",
      "valid_mae: 0.06122638285160065 Saving checkpoint...\n"
     ]
    },
    {
     "name": "stderr",
     "output_type": "stream",
     "text": [
      "Testing:: 100%|██████████| 1/1 [00:02<00:00,  2.63s/it]\n"
     ]
    },
    {
     "name": "stdout",
     "output_type": "stream",
     "text": [
      "Test finish\n",
      "=====epoch: 15 2023-08-05 13:48:10\n",
      "on training:\n"
     ]
    },
    {
     "name": "stderr",
     "output_type": "stream",
     "text": [
      "Epoch 15/200: 100%|██████████| 40/40 [00:12<00:00,  3.09it/s, loss=0.03231]\n"
     ]
    },
    {
     "name": "stdout",
     "output_type": "stream",
     "text": [
      "0.034992736857384445 tensor(1.7964, device='cuda:0', grad_fn=<UnbindBackward0>) tensor(-2.0299, device='cuda:0', grad_fn=<UnbindBackward0>) tensor(0.1228, device='cuda:0', grad_fn=<DivBackward0>) tensor(-0.1373, device='cuda:0', grad_fn=<DivBackward0>)\n"
     ]
    },
    {
     "name": "stderr",
     "output_type": "stream",
     "text": [
      "Evaluating:: 100%|██████████| 10/10 [00:09<00:00,  1.04it/s]\n"
     ]
    },
    {
     "name": "stdout",
     "output_type": "stream",
     "text": [
      "Evaluate finish\n",
      "valid_mae: 0.054541055113077164 Saving checkpoint...\n"
     ]
    },
    {
     "name": "stderr",
     "output_type": "stream",
     "text": [
      "Testing:: 100%|██████████| 1/1 [00:02<00:00,  2.72s/it]\n"
     ]
    },
    {
     "name": "stdout",
     "output_type": "stream",
     "text": [
      "Test finish\n",
      "=====epoch: 16 2023-08-05 13:48:35\n",
      "on training:\n"
     ]
    },
    {
     "name": "stderr",
     "output_type": "stream",
     "text": [
      "Epoch 16/200: 100%|██████████| 40/40 [00:12<00:00,  3.22it/s, loss=0.03285]\n"
     ]
    },
    {
     "name": "stdout",
     "output_type": "stream",
     "text": [
      "0.033200731966644526 tensor(1.9529, device='cuda:0', grad_fn=<UnbindBackward0>) tensor(-1.7714, device='cuda:0', grad_fn=<UnbindBackward0>) tensor(0.1204, device='cuda:0', grad_fn=<DivBackward0>) tensor(-0.1333, device='cuda:0', grad_fn=<DivBackward0>)\n"
     ]
    },
    {
     "name": "stderr",
     "output_type": "stream",
     "text": [
      "Evaluating:: 100%|██████████| 10/10 [00:09<00:00,  1.06it/s]\n"
     ]
    },
    {
     "name": "stdout",
     "output_type": "stream",
     "text": [
      "Evaluate finish\n",
      "valid_mae: 0.05166524648666382 Saving checkpoint...\n"
     ]
    },
    {
     "name": "stderr",
     "output_type": "stream",
     "text": [
      "Testing:: 100%|██████████| 1/1 [00:02<00:00,  2.64s/it]\n"
     ]
    },
    {
     "name": "stdout",
     "output_type": "stream",
     "text": [
      "Test finish\n",
      "=====epoch: 17 2023-08-05 13:49:00\n",
      "on training:\n"
     ]
    },
    {
     "name": "stderr",
     "output_type": "stream",
     "text": [
      "Epoch 17/200: 100%|██████████| 40/40 [00:11<00:00,  3.34it/s, loss=0.03376]\n"
     ]
    },
    {
     "name": "stdout",
     "output_type": "stream",
     "text": [
      "0.03216349096037448 tensor(1.6664, device='cuda:0', grad_fn=<UnbindBackward0>) tensor(-1.7727, device='cuda:0', grad_fn=<UnbindBackward0>) tensor(0.1184, device='cuda:0', grad_fn=<DivBackward0>) tensor(-0.1310, device='cuda:0', grad_fn=<DivBackward0>)\n"
     ]
    },
    {
     "name": "stderr",
     "output_type": "stream",
     "text": [
      "Evaluating:: 100%|██████████| 10/10 [00:09<00:00,  1.05it/s]\n"
     ]
    },
    {
     "name": "stdout",
     "output_type": "stream",
     "text": [
      "Evaluate finish\n",
      "=====epoch: 18 2023-08-05 13:49:21\n",
      "on training:\n"
     ]
    },
    {
     "name": "stderr",
     "output_type": "stream",
     "text": [
      "Epoch 18/200: 100%|██████████| 40/40 [00:11<00:00,  3.44it/s, loss=0.03117]\n"
     ]
    },
    {
     "name": "stdout",
     "output_type": "stream",
     "text": [
      "0.030673379823565484 tensor(1.9032, device='cuda:0', grad_fn=<UnbindBackward0>) tensor(-1.9096, device='cuda:0', grad_fn=<UnbindBackward0>) tensor(0.1166, device='cuda:0', grad_fn=<DivBackward0>) tensor(-0.1276, device='cuda:0', grad_fn=<DivBackward0>)\n"
     ]
    },
    {
     "name": "stderr",
     "output_type": "stream",
     "text": [
      "Evaluating:: 100%|██████████| 10/10 [00:09<00:00,  1.02it/s]\n"
     ]
    },
    {
     "name": "stdout",
     "output_type": "stream",
     "text": [
      "Evaluate finish\n",
      "=====epoch: 19 2023-08-05 13:49:43\n",
      "on training:\n"
     ]
    },
    {
     "name": "stderr",
     "output_type": "stream",
     "text": [
      "Epoch 19/200: 100%|██████████| 40/40 [00:12<00:00,  3.11it/s, loss=0.02981]\n"
     ]
    },
    {
     "name": "stdout",
     "output_type": "stream",
     "text": [
      "0.029551068134605885 tensor(1.5523, device='cuda:0', grad_fn=<UnbindBackward0>) tensor(-2.0077, device='cuda:0', grad_fn=<UnbindBackward0>) tensor(0.1149, device='cuda:0', grad_fn=<DivBackward0>) tensor(-0.1252, device='cuda:0', grad_fn=<DivBackward0>)\n"
     ]
    },
    {
     "name": "stderr",
     "output_type": "stream",
     "text": [
      "Evaluating:: 100%|██████████| 10/10 [00:10<00:00,  1.00s/it]\n"
     ]
    },
    {
     "name": "stdout",
     "output_type": "stream",
     "text": [
      "Evaluate finish\n",
      "=====epoch: 20 2023-08-05 13:50:06\n",
      "on training:\n"
     ]
    },
    {
     "name": "stderr",
     "output_type": "stream",
     "text": [
      "Epoch 20/200: 100%|██████████| 40/40 [00:13<00:00,  2.87it/s, loss=0.02726]\n"
     ]
    },
    {
     "name": "stdout",
     "output_type": "stream",
     "text": [
      "0.028427558857947587 tensor(1.6019, device='cuda:0', grad_fn=<UnbindBackward0>) tensor(-1.7561, device='cuda:0', grad_fn=<UnbindBackward0>) tensor(0.1126, device='cuda:0', grad_fn=<DivBackward0>) tensor(-0.1229, device='cuda:0', grad_fn=<DivBackward0>)\n"
     ]
    },
    {
     "name": "stderr",
     "output_type": "stream",
     "text": [
      "Evaluating:: 100%|██████████| 10/10 [00:10<00:00,  1.01s/it]\n"
     ]
    },
    {
     "name": "stdout",
     "output_type": "stream",
     "text": [
      "Evaluate finish\n",
      "=====epoch: 21 2023-08-05 13:50:30\n",
      "on training:\n"
     ]
    },
    {
     "name": "stderr",
     "output_type": "stream",
     "text": [
      "Epoch 21/200: 100%|██████████| 40/40 [00:13<00:00,  3.05it/s, loss=0.02637]\n"
     ]
    },
    {
     "name": "stdout",
     "output_type": "stream",
     "text": [
      "0.027401902666315436 tensor(2.0111, device='cuda:0', grad_fn=<UnbindBackward0>) tensor(-1.7046, device='cuda:0', grad_fn=<UnbindBackward0>) tensor(0.1103, device='cuda:0', grad_fn=<DivBackward0>) tensor(-0.1210, device='cuda:0', grad_fn=<DivBackward0>)\n"
     ]
    },
    {
     "name": "stderr",
     "output_type": "stream",
     "text": [
      "Evaluating:: 100%|██████████| 10/10 [00:09<00:00,  1.01it/s]\n"
     ]
    },
    {
     "name": "stdout",
     "output_type": "stream",
     "text": [
      "Evaluate finish\n",
      "valid_mae: 0.050921276211738586 Saving checkpoint...\n"
     ]
    },
    {
     "name": "stderr",
     "output_type": "stream",
     "text": [
      "Testing:: 100%|██████████| 1/1 [00:02<00:00,  2.57s/it]\n"
     ]
    },
    {
     "name": "stdout",
     "output_type": "stream",
     "text": [
      "Test finish\n",
      "=====epoch: 22 2023-08-05 13:50:55\n",
      "on training:\n"
     ]
    },
    {
     "name": "stderr",
     "output_type": "stream",
     "text": [
      "Epoch 22/200: 100%|██████████| 40/40 [00:12<00:00,  3.17it/s, loss=0.02469]\n"
     ]
    },
    {
     "name": "stdout",
     "output_type": "stream",
     "text": [
      "0.025856968387961386 tensor(1.6293, device='cuda:0', grad_fn=<UnbindBackward0>) tensor(-1.6405, device='cuda:0', grad_fn=<UnbindBackward0>) tensor(0.1075, device='cuda:0', grad_fn=<DivBackward0>) tensor(-0.1181, device='cuda:0', grad_fn=<DivBackward0>)\n"
     ]
    },
    {
     "name": "stderr",
     "output_type": "stream",
     "text": [
      "Evaluating:: 100%|██████████| 10/10 [00:09<00:00,  1.01it/s]\n"
     ]
    },
    {
     "name": "stdout",
     "output_type": "stream",
     "text": [
      "Evaluate finish\n",
      "valid_mae: 0.050394412130117416 Saving checkpoint...\n"
     ]
    },
    {
     "name": "stderr",
     "output_type": "stream",
     "text": [
      "Testing:: 100%|██████████| 1/1 [00:02<00:00,  2.67s/it]\n"
     ]
    },
    {
     "name": "stdout",
     "output_type": "stream",
     "text": [
      "Test finish\n",
      "=====epoch: 23 2023-08-05 13:51:21\n",
      "on training:\n"
     ]
    },
    {
     "name": "stderr",
     "output_type": "stream",
     "text": [
      "Epoch 23/200: 100%|██████████| 40/40 [00:13<00:00,  3.06it/s, loss=0.02608]\n"
     ]
    },
    {
     "name": "stdout",
     "output_type": "stream",
     "text": [
      "0.025242955842986702 tensor(1.7143, device='cuda:0', grad_fn=<UnbindBackward0>) tensor(-1.7937, device='cuda:0', grad_fn=<UnbindBackward0>) tensor(0.1058, device='cuda:0', grad_fn=<DivBackward0>) tensor(-0.1158, device='cuda:0', grad_fn=<DivBackward0>)\n"
     ]
    },
    {
     "name": "stderr",
     "output_type": "stream",
     "text": [
      "Evaluating:: 100%|██████████| 10/10 [00:10<00:00,  1.00s/it]\n"
     ]
    },
    {
     "name": "stdout",
     "output_type": "stream",
     "text": [
      "Evaluate finish\n",
      "valid_mae: 0.04632137343287468 Saving checkpoint...\n"
     ]
    },
    {
     "name": "stderr",
     "output_type": "stream",
     "text": [
      "Testing:: 100%|██████████| 1/1 [00:02<00:00,  2.65s/it]\n"
     ]
    },
    {
     "name": "stdout",
     "output_type": "stream",
     "text": [
      "Test finish\n",
      "=====epoch: 24 2023-08-05 13:51:46\n",
      "on training:\n"
     ]
    },
    {
     "name": "stderr",
     "output_type": "stream",
     "text": [
      "Epoch 24/200: 100%|██████████| 40/40 [00:11<00:00,  3.38it/s, loss=0.02516]\n"
     ]
    },
    {
     "name": "stdout",
     "output_type": "stream",
     "text": [
      "0.024296278646215797 tensor(1.3513, device='cuda:0', grad_fn=<UnbindBackward0>) tensor(-1.4463, device='cuda:0', grad_fn=<UnbindBackward0>) tensor(0.1037, device='cuda:0', grad_fn=<DivBackward0>) tensor(-0.1135, device='cuda:0', grad_fn=<DivBackward0>)\n"
     ]
    },
    {
     "name": "stderr",
     "output_type": "stream",
     "text": [
      "Evaluating:: 100%|██████████| 10/10 [00:10<00:00,  1.01s/it]\n"
     ]
    },
    {
     "name": "stdout",
     "output_type": "stream",
     "text": [
      "Evaluate finish\n",
      "=====epoch: 25 2023-08-05 13:52:08\n",
      "on training:\n"
     ]
    },
    {
     "name": "stderr",
     "output_type": "stream",
     "text": [
      "Epoch 25/200: 100%|██████████| 40/40 [00:13<00:00,  3.05it/s, loss=0.02326]\n"
     ]
    },
    {
     "name": "stdout",
     "output_type": "stream",
     "text": [
      "0.0234178327023983 tensor(1.4367, device='cuda:0', grad_fn=<UnbindBackward0>) tensor(-1.4080, device='cuda:0', grad_fn=<UnbindBackward0>) tensor(0.1025, device='cuda:0', grad_fn=<DivBackward0>) tensor(-0.1114, device='cuda:0', grad_fn=<DivBackward0>)\n"
     ]
    },
    {
     "name": "stderr",
     "output_type": "stream",
     "text": [
      "Evaluating:: 100%|██████████| 10/10 [00:10<00:00,  1.00s/it]\n"
     ]
    },
    {
     "name": "stdout",
     "output_type": "stream",
     "text": [
      "Evaluate finish\n",
      "=====epoch: 26 2023-08-05 13:52:32\n",
      "on training:\n"
     ]
    },
    {
     "name": "stderr",
     "output_type": "stream",
     "text": [
      "Epoch 26/200: 100%|██████████| 40/40 [00:13<00:00,  3.07it/s, loss=0.02284]\n"
     ]
    },
    {
     "name": "stdout",
     "output_type": "stream",
     "text": [
      "0.022637580428272484 tensor(1.4601, device='cuda:0', grad_fn=<UnbindBackward0>) tensor(-1.7811, device='cuda:0', grad_fn=<UnbindBackward0>) tensor(0.1002, device='cuda:0', grad_fn=<DivBackward0>) tensor(-0.1100, device='cuda:0', grad_fn=<DivBackward0>)\n"
     ]
    },
    {
     "name": "stderr",
     "output_type": "stream",
     "text": [
      "Evaluating:: 100%|██████████| 10/10 [00:10<00:00,  1.02s/it]\n"
     ]
    },
    {
     "name": "stdout",
     "output_type": "stream",
     "text": [
      "Evaluate finish\n",
      "valid_mae: 0.04523822292685509 Saving checkpoint...\n"
     ]
    },
    {
     "name": "stderr",
     "output_type": "stream",
     "text": [
      "Testing:: 100%|██████████| 1/1 [00:02<00:00,  2.70s/it]\n"
     ]
    },
    {
     "name": "stdout",
     "output_type": "stream",
     "text": [
      "Test finish\n",
      "=====epoch: 27 2023-08-05 13:52:57\n",
      "on training:\n"
     ]
    },
    {
     "name": "stderr",
     "output_type": "stream",
     "text": [
      "Epoch 27/200: 100%|██████████| 40/40 [00:13<00:00,  3.00it/s, loss=0.02149]\n"
     ]
    },
    {
     "name": "stdout",
     "output_type": "stream",
     "text": [
      "0.021678366465494037 tensor(1.4324, device='cuda:0', grad_fn=<UnbindBackward0>) tensor(-1.6614, device='cuda:0', grad_fn=<UnbindBackward0>) tensor(0.0982, device='cuda:0', grad_fn=<DivBackward0>) tensor(-0.1077, device='cuda:0', grad_fn=<DivBackward0>)\n"
     ]
    },
    {
     "name": "stderr",
     "output_type": "stream",
     "text": [
      "Evaluating:: 100%|██████████| 10/10 [00:10<00:00,  1.00s/it]\n"
     ]
    },
    {
     "name": "stdout",
     "output_type": "stream",
     "text": [
      "Evaluate finish\n",
      "valid_mae: 0.04353000968694687 Saving checkpoint...\n"
     ]
    },
    {
     "name": "stderr",
     "output_type": "stream",
     "text": [
      "Testing:: 100%|██████████| 1/1 [00:02<00:00,  2.75s/it]\n"
     ]
    },
    {
     "name": "stdout",
     "output_type": "stream",
     "text": [
      "Test finish\n",
      "=====epoch: 28 2023-08-05 13:53:24\n",
      "on training:\n"
     ]
    },
    {
     "name": "stderr",
     "output_type": "stream",
     "text": [
      "Epoch 28/200: 100%|██████████| 40/40 [00:14<00:00,  2.79it/s, loss=0.02003]\n"
     ]
    },
    {
     "name": "stdout",
     "output_type": "stream",
     "text": [
      "0.02096710670739412 tensor(1.5743, device='cuda:0', grad_fn=<UnbindBackward0>) tensor(-1.2916, device='cuda:0', grad_fn=<UnbindBackward0>) tensor(0.0964, device='cuda:0', grad_fn=<DivBackward0>) tensor(-0.1061, device='cuda:0', grad_fn=<DivBackward0>)\n"
     ]
    },
    {
     "name": "stderr",
     "output_type": "stream",
     "text": [
      "Evaluating:: 100%|██████████| 10/10 [00:10<00:00,  1.01s/it]\n"
     ]
    },
    {
     "name": "stdout",
     "output_type": "stream",
     "text": [
      "Evaluate finish\n",
      "valid_mae: 0.04325243830680847 Saving checkpoint...\n"
     ]
    },
    {
     "name": "stderr",
     "output_type": "stream",
     "text": [
      "Testing:: 100%|██████████| 1/1 [00:02<00:00,  2.82s/it]\n"
     ]
    },
    {
     "name": "stdout",
     "output_type": "stream",
     "text": [
      "Test finish\n",
      "=====epoch: 29 2023-08-05 13:53:51\n",
      "on training:\n"
     ]
    },
    {
     "name": "stderr",
     "output_type": "stream",
     "text": [
      "Epoch 29/200: 100%|██████████| 40/40 [00:12<00:00,  3.09it/s, loss=0.02029]\n"
     ]
    },
    {
     "name": "stdout",
     "output_type": "stream",
     "text": [
      "0.020337064191699027 tensor(1.5163, device='cuda:0', grad_fn=<UnbindBackward0>) tensor(-1.2857, device='cuda:0', grad_fn=<UnbindBackward0>) tensor(0.0949, device='cuda:0', grad_fn=<DivBackward0>) tensor(-0.1041, device='cuda:0', grad_fn=<DivBackward0>)\n"
     ]
    },
    {
     "name": "stderr",
     "output_type": "stream",
     "text": [
      "Evaluating:: 100%|██████████| 10/10 [00:10<00:00,  1.01s/it]\n"
     ]
    },
    {
     "name": "stdout",
     "output_type": "stream",
     "text": [
      "Evaluate finish\n",
      "=====epoch: 30 2023-08-05 13:54:14\n",
      "on training:\n"
     ]
    },
    {
     "name": "stderr",
     "output_type": "stream",
     "text": [
      "Epoch 30/200: 100%|██████████| 40/40 [00:12<00:00,  3.28it/s, loss=0.01884]\n"
     ]
    },
    {
     "name": "stdout",
     "output_type": "stream",
     "text": [
      "0.01959334802813828 tensor(1.3421, device='cuda:0', grad_fn=<UnbindBackward0>) tensor(-1.4811, device='cuda:0', grad_fn=<UnbindBackward0>) tensor(0.0931, device='cuda:0', grad_fn=<DivBackward0>) tensor(-0.1023, device='cuda:0', grad_fn=<DivBackward0>)\n"
     ]
    },
    {
     "name": "stderr",
     "output_type": "stream",
     "text": [
      "Evaluating:: 100%|██████████| 10/10 [00:09<00:00,  1.03it/s]\n"
     ]
    },
    {
     "name": "stdout",
     "output_type": "stream",
     "text": [
      "Evaluate finish\n",
      "=====epoch: 31 2023-08-05 13:54:36\n",
      "on training:\n"
     ]
    },
    {
     "name": "stderr",
     "output_type": "stream",
     "text": [
      "Epoch 31/200: 100%|██████████| 40/40 [00:12<00:00,  3.31it/s, loss=0.01805]\n"
     ]
    },
    {
     "name": "stdout",
     "output_type": "stream",
     "text": [
      "0.01880501243285835 tensor(1.3182, device='cuda:0', grad_fn=<UnbindBackward0>) tensor(-1.3306, device='cuda:0', grad_fn=<UnbindBackward0>) tensor(0.0913, device='cuda:0', grad_fn=<DivBackward0>) tensor(-0.1003, device='cuda:0', grad_fn=<DivBackward0>)\n"
     ]
    },
    {
     "name": "stderr",
     "output_type": "stream",
     "text": [
      "Evaluating:: 100%|██████████| 10/10 [00:09<00:00,  1.03it/s]\n"
     ]
    },
    {
     "name": "stdout",
     "output_type": "stream",
     "text": [
      "Evaluate finish\n",
      "valid_mae: 0.03962957486510277 Saving checkpoint...\n"
     ]
    },
    {
     "name": "stderr",
     "output_type": "stream",
     "text": [
      "Testing:: 100%|██████████| 1/1 [00:02<00:00,  2.65s/it]\n"
     ]
    },
    {
     "name": "stdout",
     "output_type": "stream",
     "text": [
      "Test finish\n",
      "=====epoch: 32 2023-08-05 13:55:00\n",
      "on training:\n"
     ]
    },
    {
     "name": "stderr",
     "output_type": "stream",
     "text": [
      "Epoch 32/200: 100%|██████████| 40/40 [00:12<00:00,  3.17it/s, loss=0.01778]\n"
     ]
    },
    {
     "name": "stdout",
     "output_type": "stream",
     "text": [
      "0.018389879493042827 tensor(1.2518, device='cuda:0', grad_fn=<UnbindBackward0>) tensor(-1.3635, device='cuda:0', grad_fn=<UnbindBackward0>) tensor(0.0901, device='cuda:0', grad_fn=<DivBackward0>) tensor(-0.0990, device='cuda:0', grad_fn=<DivBackward0>)\n"
     ]
    },
    {
     "name": "stderr",
     "output_type": "stream",
     "text": [
      "Evaluating:: 100%|██████████| 10/10 [00:09<00:00,  1.04it/s]\n"
     ]
    },
    {
     "name": "stdout",
     "output_type": "stream",
     "text": [
      "Evaluate finish\n",
      "=====epoch: 33 2023-08-05 13:55:23\n",
      "on training:\n"
     ]
    },
    {
     "name": "stderr",
     "output_type": "stream",
     "text": [
      "Epoch 33/200: 100%|██████████| 40/40 [00:13<00:00,  3.01it/s, loss=0.01684]\n"
     ]
    },
    {
     "name": "stdout",
     "output_type": "stream",
     "text": [
      "0.017577848862856627 tensor(1.0998, device='cuda:0', grad_fn=<UnbindBackward0>) tensor(-1.4000, device='cuda:0', grad_fn=<UnbindBackward0>) tensor(0.0885, device='cuda:0', grad_fn=<DivBackward0>) tensor(-0.0971, device='cuda:0', grad_fn=<DivBackward0>)\n"
     ]
    },
    {
     "name": "stderr",
     "output_type": "stream",
     "text": [
      "Evaluating:: 100%|██████████| 10/10 [00:10<00:00,  1.03s/it]\n"
     ]
    },
    {
     "name": "stdout",
     "output_type": "stream",
     "text": [
      "Evaluate finish\n",
      "valid_mae: 0.038719385862350464 Saving checkpoint...\n"
     ]
    },
    {
     "name": "stderr",
     "output_type": "stream",
     "text": [
      "Testing:: 100%|██████████| 1/1 [00:03<00:00,  3.13s/it]\n"
     ]
    },
    {
     "name": "stdout",
     "output_type": "stream",
     "text": [
      "Test finish\n",
      "=====epoch: 34 2023-08-05 13:55:49\n",
      "on training:\n"
     ]
    },
    {
     "name": "stderr",
     "output_type": "stream",
     "text": [
      "Epoch 34/200: 100%|██████████| 40/40 [00:13<00:00,  3.06it/s, loss=0.01787]\n"
     ]
    },
    {
     "name": "stdout",
     "output_type": "stream",
     "text": [
      "0.016862467350438236 tensor(1.1585, device='cuda:0', grad_fn=<UnbindBackward0>) tensor(-1.2193, device='cuda:0', grad_fn=<UnbindBackward0>) tensor(0.0864, device='cuda:0', grad_fn=<DivBackward0>) tensor(-0.0947, device='cuda:0', grad_fn=<DivBackward0>)\n"
     ]
    },
    {
     "name": "stderr",
     "output_type": "stream",
     "text": [
      "Evaluating:: 100%|██████████| 10/10 [00:15<00:00,  1.51s/it]\n"
     ]
    },
    {
     "name": "stdout",
     "output_type": "stream",
     "text": [
      "Evaluate finish\n",
      "=====epoch: 35 2023-08-05 13:56:18\n",
      "on training:\n"
     ]
    },
    {
     "name": "stderr",
     "output_type": "stream",
     "text": [
      "Epoch 35/200: 100%|██████████| 40/40 [00:12<00:00,  3.29it/s, loss=0.01637]\n"
     ]
    },
    {
     "name": "stdout",
     "output_type": "stream",
     "text": [
      "0.016334214713424444 tensor(1.2702, device='cuda:0', grad_fn=<UnbindBackward0>) tensor(-1.3044, device='cuda:0', grad_fn=<UnbindBackward0>) tensor(0.0849, device='cuda:0', grad_fn=<DivBackward0>) tensor(-0.0935, device='cuda:0', grad_fn=<DivBackward0>)\n"
     ]
    },
    {
     "name": "stderr",
     "output_type": "stream",
     "text": [
      "Evaluating:: 100%|██████████| 10/10 [00:09<00:00,  1.02it/s]\n"
     ]
    },
    {
     "name": "stdout",
     "output_type": "stream",
     "text": [
      "Evaluate finish\n",
      "=====epoch: 36 2023-08-05 13:56:39\n",
      "on training:\n"
     ]
    },
    {
     "name": "stderr",
     "output_type": "stream",
     "text": [
      "Epoch 36/200: 100%|██████████| 40/40 [00:13<00:00,  2.94it/s, loss=0.01557]\n"
     ]
    },
    {
     "name": "stdout",
     "output_type": "stream",
     "text": [
      "0.015632365457713605 tensor(1.1483, device='cuda:0', grad_fn=<UnbindBackward0>) tensor(-1.4705, device='cuda:0', grad_fn=<UnbindBackward0>) tensor(0.0828, device='cuda:0', grad_fn=<DivBackward0>) tensor(-0.0919, device='cuda:0', grad_fn=<DivBackward0>)\n"
     ]
    },
    {
     "name": "stderr",
     "output_type": "stream",
     "text": [
      "Evaluating:: 100%|██████████| 10/10 [00:09<00:00,  1.00it/s]\n"
     ]
    },
    {
     "name": "stdout",
     "output_type": "stream",
     "text": [
      "Evaluate finish\n",
      "=====epoch: 37 2023-08-05 13:57:03\n",
      "on training:\n"
     ]
    },
    {
     "name": "stderr",
     "output_type": "stream",
     "text": [
      "Epoch 37/200: 100%|██████████| 40/40 [00:13<00:00,  2.96it/s, loss=0.01621]\n"
     ]
    },
    {
     "name": "stdout",
     "output_type": "stream",
     "text": [
      "0.01527671532239765 tensor(1.1222, device='cuda:0', grad_fn=<UnbindBackward0>) tensor(-1.2775, device='cuda:0', grad_fn=<UnbindBackward0>) tensor(0.0825, device='cuda:0', grad_fn=<DivBackward0>) tensor(-0.0908, device='cuda:0', grad_fn=<DivBackward0>)\n"
     ]
    },
    {
     "name": "stderr",
     "output_type": "stream",
     "text": [
      "Evaluating:: 100%|██████████| 10/10 [00:10<00:00,  1.03s/it]\n"
     ]
    },
    {
     "name": "stdout",
     "output_type": "stream",
     "text": [
      "Evaluate finish\n",
      "=====epoch: 38 2023-08-05 13:57:27\n",
      "on training:\n"
     ]
    },
    {
     "name": "stderr",
     "output_type": "stream",
     "text": [
      "Epoch 38/200: 100%|██████████| 40/40 [00:12<00:00,  3.10it/s, loss=0.01435]\n"
     ]
    },
    {
     "name": "stdout",
     "output_type": "stream",
     "text": [
      "0.014695154898799957 tensor(1.2041, device='cuda:0', grad_fn=<UnbindBackward0>) tensor(-1.2736, device='cuda:0', grad_fn=<UnbindBackward0>) tensor(0.0802, device='cuda:0', grad_fn=<DivBackward0>) tensor(-0.0891, device='cuda:0', grad_fn=<DivBackward0>)\n"
     ]
    },
    {
     "name": "stderr",
     "output_type": "stream",
     "text": [
      "Evaluating:: 100%|██████████| 10/10 [00:10<00:00,  1.01s/it]\n"
     ]
    },
    {
     "name": "stdout",
     "output_type": "stream",
     "text": [
      "Evaluate finish\n",
      "=====epoch: 39 2023-08-05 13:57:50\n",
      "on training:\n"
     ]
    },
    {
     "name": "stderr",
     "output_type": "stream",
     "text": [
      "Epoch 39/200: 100%|██████████| 40/40 [00:13<00:00,  2.98it/s, loss=0.01417]\n"
     ]
    },
    {
     "name": "stdout",
     "output_type": "stream",
     "text": [
      "0.014089399739168585 tensor(1.2593, device='cuda:0', grad_fn=<UnbindBackward0>) tensor(-1.3055, device='cuda:0', grad_fn=<UnbindBackward0>) tensor(0.0784, device='cuda:0', grad_fn=<DivBackward0>) tensor(-0.0871, device='cuda:0', grad_fn=<DivBackward0>)\n"
     ]
    },
    {
     "name": "stderr",
     "output_type": "stream",
     "text": [
      "Evaluating:: 100%|██████████| 10/10 [00:10<00:00,  1.01s/it]\n"
     ]
    },
    {
     "name": "stdout",
     "output_type": "stream",
     "text": [
      "Evaluate finish\n",
      "=====epoch: 40 2023-08-05 13:58:13\n",
      "on training:\n"
     ]
    },
    {
     "name": "stderr",
     "output_type": "stream",
     "text": [
      "Epoch 40/200: 100%|██████████| 40/40 [00:13<00:00,  3.03it/s, loss=0.01379]\n"
     ]
    },
    {
     "name": "stdout",
     "output_type": "stream",
     "text": [
      "0.013600230892188847 tensor(1.1075, device='cuda:0', grad_fn=<UnbindBackward0>) tensor(-1.1493, device='cuda:0', grad_fn=<UnbindBackward0>) tensor(0.0770, device='cuda:0', grad_fn=<DivBackward0>) tensor(-0.0859, device='cuda:0', grad_fn=<DivBackward0>)\n"
     ]
    },
    {
     "name": "stderr",
     "output_type": "stream",
     "text": [
      "Evaluating:: 100%|██████████| 10/10 [00:09<00:00,  1.01it/s]\n"
     ]
    },
    {
     "name": "stdout",
     "output_type": "stream",
     "text": [
      "Evaluate finish\n",
      "=====epoch: 41 2023-08-05 13:58:37\n",
      "on training:\n"
     ]
    },
    {
     "name": "stderr",
     "output_type": "stream",
     "text": [
      "Epoch 41/200: 100%|██████████| 40/40 [00:13<00:00,  3.03it/s, loss=0.01276]\n"
     ]
    },
    {
     "name": "stdout",
     "output_type": "stream",
     "text": [
      "0.013086229446344078 tensor(1.1945, device='cuda:0', grad_fn=<UnbindBackward0>) tensor(-1.1038, device='cuda:0', grad_fn=<UnbindBackward0>) tensor(0.0764, device='cuda:0', grad_fn=<DivBackward0>) tensor(-0.0839, device='cuda:0', grad_fn=<DivBackward0>)\n"
     ]
    },
    {
     "name": "stderr",
     "output_type": "stream",
     "text": [
      "Evaluating:: 100%|██████████| 10/10 [00:09<00:00,  1.01it/s]\n"
     ]
    },
    {
     "name": "stdout",
     "output_type": "stream",
     "text": [
      "Evaluate finish\n",
      "valid_mae: 0.03695666044950485 Saving checkpoint...\n"
     ]
    },
    {
     "name": "stderr",
     "output_type": "stream",
     "text": [
      "Testing:: 100%|██████████| 1/1 [00:02<00:00,  2.76s/it]\n"
     ]
    },
    {
     "name": "stdout",
     "output_type": "stream",
     "text": [
      "Test finish\n",
      "=====epoch: 42 2023-08-05 13:59:03\n",
      "on training:\n"
     ]
    },
    {
     "name": "stderr",
     "output_type": "stream",
     "text": [
      "Epoch 42/200: 100%|██████████| 40/40 [00:13<00:00,  3.06it/s, loss=0.01149]\n"
     ]
    },
    {
     "name": "stdout",
     "output_type": "stream",
     "text": [
      "0.01260190405882895 tensor(1.1118, device='cuda:0', grad_fn=<UnbindBackward0>) tensor(-1.0469, device='cuda:0', grad_fn=<UnbindBackward0>) tensor(0.0742, device='cuda:0', grad_fn=<DivBackward0>) tensor(-0.0827, device='cuda:0', grad_fn=<DivBackward0>)\n"
     ]
    },
    {
     "name": "stderr",
     "output_type": "stream",
     "text": [
      "Evaluating:: 100%|██████████| 10/10 [00:09<00:00,  1.03it/s]\n"
     ]
    },
    {
     "name": "stdout",
     "output_type": "stream",
     "text": [
      "Evaluate finish\n",
      "valid_mae: 0.03644254803657532 Saving checkpoint...\n"
     ]
    },
    {
     "name": "stderr",
     "output_type": "stream",
     "text": [
      "Testing:: 100%|██████████| 1/1 [00:02<00:00,  2.66s/it]\n"
     ]
    },
    {
     "name": "stdout",
     "output_type": "stream",
     "text": [
      "Test finish\n",
      "=====epoch: 43 2023-08-05 13:59:28\n",
      "on training:\n"
     ]
    },
    {
     "name": "stderr",
     "output_type": "stream",
     "text": [
      "Epoch 43/200: 100%|██████████| 40/40 [00:12<00:00,  3.13it/s, loss=0.01244]\n"
     ]
    },
    {
     "name": "stdout",
     "output_type": "stream",
     "text": [
      "0.012395679438486695 tensor(1.0660, device='cuda:0', grad_fn=<UnbindBackward0>) tensor(-1.0489, device='cuda:0', grad_fn=<UnbindBackward0>) tensor(0.0732, device='cuda:0', grad_fn=<DivBackward0>) tensor(-0.0818, device='cuda:0', grad_fn=<DivBackward0>)\n"
     ]
    },
    {
     "name": "stderr",
     "output_type": "stream",
     "text": [
      "Evaluating:: 100%|██████████| 10/10 [00:09<00:00,  1.00it/s]\n"
     ]
    },
    {
     "name": "stdout",
     "output_type": "stream",
     "text": [
      "Evaluate finish\n",
      "=====epoch: 44 2023-08-05 13:59:51\n",
      "on training:\n"
     ]
    },
    {
     "name": "stderr",
     "output_type": "stream",
     "text": [
      "Epoch 44/200: 100%|██████████| 40/40 [00:12<00:00,  3.14it/s, loss=0.01144]\n"
     ]
    },
    {
     "name": "stdout",
     "output_type": "stream",
     "text": [
      "0.011880805157124997 tensor(1.1311, device='cuda:0', grad_fn=<UnbindBackward0>) tensor(-1.3462, device='cuda:0', grad_fn=<UnbindBackward0>) tensor(0.0724, device='cuda:0', grad_fn=<DivBackward0>) tensor(-0.0798, device='cuda:0', grad_fn=<DivBackward0>)\n"
     ]
    },
    {
     "name": "stderr",
     "output_type": "stream",
     "text": [
      "Evaluating:: 100%|██████████| 10/10 [00:09<00:00,  1.02it/s]\n"
     ]
    },
    {
     "name": "stdout",
     "output_type": "stream",
     "text": [
      "Evaluate finish\n",
      "valid_mae: 0.03386976197361946 Saving checkpoint...\n"
     ]
    },
    {
     "name": "stderr",
     "output_type": "stream",
     "text": [
      "Testing:: 100%|██████████| 1/1 [00:02<00:00,  2.81s/it]\n"
     ]
    },
    {
     "name": "stdout",
     "output_type": "stream",
     "text": [
      "Test finish\n",
      "=====epoch: 45 2023-08-05 14:00:16\n",
      "on training:\n"
     ]
    },
    {
     "name": "stderr",
     "output_type": "stream",
     "text": [
      "Epoch 45/200: 100%|██████████| 40/40 [00:13<00:00,  3.05it/s, loss=0.01141]\n"
     ]
    },
    {
     "name": "stdout",
     "output_type": "stream",
     "text": [
      "0.011448874627240003 tensor(1.0787, device='cuda:0', grad_fn=<UnbindBackward0>) tensor(-1.0184, device='cuda:0', grad_fn=<UnbindBackward0>) tensor(0.0708, device='cuda:0', grad_fn=<DivBackward0>) tensor(-0.0781, device='cuda:0', grad_fn=<DivBackward0>)\n"
     ]
    },
    {
     "name": "stderr",
     "output_type": "stream",
     "text": [
      "Evaluating:: 100%|██████████| 10/10 [00:09<00:00,  1.04it/s]\n"
     ]
    },
    {
     "name": "stdout",
     "output_type": "stream",
     "text": [
      "Evaluate finish\n",
      "=====epoch: 46 2023-08-05 14:00:39\n",
      "on training:\n"
     ]
    },
    {
     "name": "stderr",
     "output_type": "stream",
     "text": [
      "Epoch 46/200: 100%|██████████| 40/40 [00:12<00:00,  3.17it/s, loss=0.01140]\n"
     ]
    },
    {
     "name": "stdout",
     "output_type": "stream",
     "text": [
      "0.011230200110003353 tensor(1.0895, device='cuda:0', grad_fn=<UnbindBackward0>) tensor(-1.0305, device='cuda:0', grad_fn=<UnbindBackward0>) tensor(0.0699, device='cuda:0', grad_fn=<DivBackward0>) tensor(-0.0774, device='cuda:0', grad_fn=<DivBackward0>)\n"
     ]
    },
    {
     "name": "stderr",
     "output_type": "stream",
     "text": [
      "Evaluating:: 100%|██████████| 10/10 [00:09<00:00,  1.01it/s]\n"
     ]
    },
    {
     "name": "stdout",
     "output_type": "stream",
     "text": [
      "Evaluate finish\n",
      "=====epoch: 47 2023-08-05 14:01:01\n",
      "on training:\n"
     ]
    },
    {
     "name": "stderr",
     "output_type": "stream",
     "text": [
      "Epoch 47/200: 100%|██████████| 40/40 [00:12<00:00,  3.32it/s, loss=0.01081]\n"
     ]
    },
    {
     "name": "stdout",
     "output_type": "stream",
     "text": [
      "0.0107613580301404 tensor(1.0167, device='cuda:0', grad_fn=<UnbindBackward0>) tensor(-1.0370, device='cuda:0', grad_fn=<UnbindBackward0>) tensor(0.0688, device='cuda:0', grad_fn=<DivBackward0>) tensor(-0.0759, device='cuda:0', grad_fn=<DivBackward0>)\n"
     ]
    },
    {
     "name": "stderr",
     "output_type": "stream",
     "text": [
      "Evaluating:: 100%|██████████| 10/10 [00:10<00:00,  1.02s/it]\n"
     ]
    },
    {
     "name": "stdout",
     "output_type": "stream",
     "text": [
      "Evaluate finish\n",
      "valid_mae: 0.033000167459249496 Saving checkpoint...\n"
     ]
    },
    {
     "name": "stderr",
     "output_type": "stream",
     "text": [
      "Testing:: 100%|██████████| 1/1 [00:02<00:00,  2.69s/it]\n"
     ]
    },
    {
     "name": "stdout",
     "output_type": "stream",
     "text": [
      "Test finish\n",
      "=====epoch: 48 2023-08-05 14:01:27\n",
      "on training:\n"
     ]
    },
    {
     "name": "stderr",
     "output_type": "stream",
     "text": [
      "Epoch 48/200: 100%|██████████| 40/40 [00:12<00:00,  3.21it/s, loss=0.01032]\n"
     ]
    },
    {
     "name": "stdout",
     "output_type": "stream",
     "text": [
      "0.010498419217765332 tensor(0.8090, device='cuda:0', grad_fn=<UnbindBackward0>) tensor(-1.0426, device='cuda:0', grad_fn=<UnbindBackward0>) tensor(0.0676, device='cuda:0', grad_fn=<DivBackward0>) tensor(-0.0750, device='cuda:0', grad_fn=<DivBackward0>)\n"
     ]
    },
    {
     "name": "stderr",
     "output_type": "stream",
     "text": [
      "Evaluating:: 100%|██████████| 10/10 [00:09<00:00,  1.00it/s]\n"
     ]
    },
    {
     "name": "stdout",
     "output_type": "stream",
     "text": [
      "Evaluate finish\n",
      "=====epoch: 49 2023-08-05 14:01:49\n",
      "on training:\n"
     ]
    },
    {
     "name": "stderr",
     "output_type": "stream",
     "text": [
      "Epoch 49/200: 100%|██████████| 40/40 [00:12<00:00,  3.29it/s, loss=0.00975]\n"
     ]
    },
    {
     "name": "stdout",
     "output_type": "stream",
     "text": [
      "0.010188491875305771 tensor(0.7558, device='cuda:0', grad_fn=<UnbindBackward0>) tensor(-0.8600, device='cuda:0', grad_fn=<UnbindBackward0>) tensor(0.0665, device='cuda:0', grad_fn=<DivBackward0>) tensor(-0.0736, device='cuda:0', grad_fn=<DivBackward0>)\n"
     ]
    },
    {
     "name": "stderr",
     "output_type": "stream",
     "text": [
      "Evaluating:: 100%|██████████| 10/10 [00:10<00:00,  1.01s/it]\n"
     ]
    },
    {
     "name": "stdout",
     "output_type": "stream",
     "text": [
      "Evaluate finish\n",
      "=====epoch: 50 2023-08-05 14:02:11\n",
      "on training:\n"
     ]
    },
    {
     "name": "stderr",
     "output_type": "stream",
     "text": [
      "Epoch 50/200: 100%|██████████| 40/40 [00:12<00:00,  3.13it/s, loss=0.01029]\n"
     ]
    },
    {
     "name": "stdout",
     "output_type": "stream",
     "text": [
      "0.00983842199202627 tensor(0.8206, device='cuda:0', grad_fn=<UnbindBackward0>) tensor(-0.8489, device='cuda:0', grad_fn=<UnbindBackward0>) tensor(0.0654, device='cuda:0', grad_fn=<DivBackward0>) tensor(-0.0721, device='cuda:0', grad_fn=<DivBackward0>)\n"
     ]
    },
    {
     "name": "stderr",
     "output_type": "stream",
     "text": [
      "Evaluating:: 100%|██████████| 10/10 [00:10<00:00,  1.00s/it]\n"
     ]
    },
    {
     "name": "stdout",
     "output_type": "stream",
     "text": [
      "Evaluate finish\n",
      "=====epoch: 51 2023-08-05 14:02:34\n",
      "on training:\n"
     ]
    },
    {
     "name": "stderr",
     "output_type": "stream",
     "text": [
      "Epoch 51/200: 100%|██████████| 40/40 [00:12<00:00,  3.13it/s, loss=0.00978]\n"
     ]
    },
    {
     "name": "stdout",
     "output_type": "stream",
     "text": [
      "0.009614280611276626 tensor(0.8688, device='cuda:0', grad_fn=<UnbindBackward0>) tensor(-0.9719, device='cuda:0', grad_fn=<UnbindBackward0>) tensor(0.0644, device='cuda:0', grad_fn=<DivBackward0>) tensor(-0.0713, device='cuda:0', grad_fn=<DivBackward0>)\n"
     ]
    },
    {
     "name": "stderr",
     "output_type": "stream",
     "text": [
      "Evaluating:: 100%|██████████| 10/10 [00:10<00:00,  1.04s/it]\n"
     ]
    },
    {
     "name": "stdout",
     "output_type": "stream",
     "text": [
      "Evaluate finish\n",
      "valid_mae: 0.03280499577522278 Saving checkpoint...\n"
     ]
    },
    {
     "name": "stderr",
     "output_type": "stream",
     "text": [
      "Testing:: 100%|██████████| 1/1 [00:03<00:00,  3.71s/it]\n"
     ]
    },
    {
     "name": "stdout",
     "output_type": "stream",
     "text": [
      "Test finish\n",
      "=====epoch: 52 2023-08-05 14:03:01\n",
      "on training:\n"
     ]
    },
    {
     "name": "stderr",
     "output_type": "stream",
     "text": [
      "Epoch 52/200: 100%|██████████| 40/40 [00:12<00:00,  3.23it/s, loss=0.00927]\n"
     ]
    },
    {
     "name": "stdout",
     "output_type": "stream",
     "text": [
      "0.0092468197690323 tensor(0.9132, device='cuda:0', grad_fn=<UnbindBackward0>) tensor(-0.8163, device='cuda:0', grad_fn=<UnbindBackward0>) tensor(0.0633, device='cuda:0', grad_fn=<DivBackward0>) tensor(-0.0703, device='cuda:0', grad_fn=<DivBackward0>)\n"
     ]
    },
    {
     "name": "stderr",
     "output_type": "stream",
     "text": [
      "Evaluating:: 100%|██████████| 10/10 [00:10<00:00,  1.01s/it]\n"
     ]
    },
    {
     "name": "stdout",
     "output_type": "stream",
     "text": [
      "Evaluate finish\n",
      "=====epoch: 53 2023-08-05 14:03:23\n",
      "on training:\n"
     ]
    },
    {
     "name": "stderr",
     "output_type": "stream",
     "text": [
      "Epoch 53/200: 100%|██████████| 40/40 [00:12<00:00,  3.14it/s, loss=0.00854]\n"
     ]
    },
    {
     "name": "stdout",
     "output_type": "stream",
     "text": [
      "0.008937116619199515 tensor(0.7387, device='cuda:0', grad_fn=<UnbindBackward0>) tensor(-0.7795, device='cuda:0', grad_fn=<UnbindBackward0>) tensor(0.0621, device='cuda:0', grad_fn=<DivBackward0>) tensor(-0.0690, device='cuda:0', grad_fn=<DivBackward0>)\n"
     ]
    },
    {
     "name": "stderr",
     "output_type": "stream",
     "text": [
      "Evaluating:: 100%|██████████| 10/10 [00:10<00:00,  1.00s/it]\n"
     ]
    },
    {
     "name": "stdout",
     "output_type": "stream",
     "text": [
      "Evaluate finish\n",
      "=====epoch: 54 2023-08-05 14:03:46\n",
      "on training:\n"
     ]
    },
    {
     "name": "stderr",
     "output_type": "stream",
     "text": [
      "Epoch 54/200: 100%|██████████| 40/40 [00:13<00:00,  3.06it/s, loss=0.00867]\n"
     ]
    },
    {
     "name": "stdout",
     "output_type": "stream",
     "text": [
      "0.008700685459189117 tensor(0.7739, device='cuda:0', grad_fn=<UnbindBackward0>) tensor(-0.9000, device='cuda:0', grad_fn=<UnbindBackward0>) tensor(0.0612, device='cuda:0', grad_fn=<DivBackward0>) tensor(-0.0678, device='cuda:0', grad_fn=<DivBackward0>)\n"
     ]
    },
    {
     "name": "stderr",
     "output_type": "stream",
     "text": [
      "Evaluating:: 100%|██████████| 10/10 [00:09<00:00,  1.01it/s]\n"
     ]
    },
    {
     "name": "stdout",
     "output_type": "stream",
     "text": [
      "Evaluate finish\n",
      "valid_mae: 0.03154291212558746 Saving checkpoint...\n"
     ]
    },
    {
     "name": "stderr",
     "output_type": "stream",
     "text": [
      "Testing:: 100%|██████████| 1/1 [00:02<00:00,  2.66s/it]\n"
     ]
    },
    {
     "name": "stdout",
     "output_type": "stream",
     "text": [
      "Test finish\n",
      "=====epoch: 55 2023-08-05 14:04:12\n",
      "on training:\n"
     ]
    },
    {
     "name": "stderr",
     "output_type": "stream",
     "text": [
      "Epoch 55/200: 100%|██████████| 40/40 [00:12<00:00,  3.20it/s, loss=0.00819]\n"
     ]
    },
    {
     "name": "stdout",
     "output_type": "stream",
     "text": [
      "0.00835566024761647 tensor(0.7856, device='cuda:0', grad_fn=<UnbindBackward0>) tensor(-0.8866, device='cuda:0', grad_fn=<UnbindBackward0>) tensor(0.0598, device='cuda:0', grad_fn=<DivBackward0>) tensor(-0.0666, device='cuda:0', grad_fn=<DivBackward0>)\n"
     ]
    },
    {
     "name": "stderr",
     "output_type": "stream",
     "text": [
      "Evaluating:: 100%|██████████| 10/10 [00:09<00:00,  1.02it/s]\n"
     ]
    },
    {
     "name": "stdout",
     "output_type": "stream",
     "text": [
      "Evaluate finish\n",
      "=====epoch: 56 2023-08-05 14:04:34\n",
      "on training:\n"
     ]
    },
    {
     "name": "stderr",
     "output_type": "stream",
     "text": [
      "Epoch 56/200: 100%|██████████| 40/40 [00:12<00:00,  3.26it/s, loss=0.00808]\n"
     ]
    },
    {
     "name": "stdout",
     "output_type": "stream",
     "text": [
      "0.008213694475125521 tensor(0.7024, device='cuda:0', grad_fn=<UnbindBackward0>) tensor(-0.8371, device='cuda:0', grad_fn=<UnbindBackward0>) tensor(0.0593, device='cuda:0', grad_fn=<DivBackward0>) tensor(-0.0657, device='cuda:0', grad_fn=<DivBackward0>)\n"
     ]
    },
    {
     "name": "stderr",
     "output_type": "stream",
     "text": [
      "Evaluating:: 100%|██████████| 10/10 [00:09<00:00,  1.01it/s]\n"
     ]
    },
    {
     "name": "stdout",
     "output_type": "stream",
     "text": [
      "Evaluate finish\n",
      "=====epoch: 57 2023-08-05 14:04:56\n",
      "on training:\n"
     ]
    },
    {
     "name": "stderr",
     "output_type": "stream",
     "text": [
      "Epoch 57/200: 100%|██████████| 40/40 [00:11<00:00,  3.38it/s, loss=0.00794]\n"
     ]
    },
    {
     "name": "stdout",
     "output_type": "stream",
     "text": [
      "0.007990893837995828 tensor(0.8513, device='cuda:0', grad_fn=<UnbindBackward0>) tensor(-0.9780, device='cuda:0', grad_fn=<UnbindBackward0>) tensor(0.0587, device='cuda:0', grad_fn=<DivBackward0>) tensor(-0.0643, device='cuda:0', grad_fn=<DivBackward0>)\n"
     ]
    },
    {
     "name": "stderr",
     "output_type": "stream",
     "text": [
      "Evaluating:: 100%|██████████| 10/10 [00:10<00:00,  1.02s/it]\n"
     ]
    },
    {
     "name": "stdout",
     "output_type": "stream",
     "text": [
      "Evaluate finish\n",
      "=====epoch: 58 2023-08-05 14:05:18\n",
      "on training:\n"
     ]
    },
    {
     "name": "stderr",
     "output_type": "stream",
     "text": [
      "Epoch 58/200: 100%|██████████| 40/40 [00:12<00:00,  3.22it/s, loss=0.00728]\n"
     ]
    },
    {
     "name": "stdout",
     "output_type": "stream",
     "text": [
      "0.0077411032048985366 tensor(0.6835, device='cuda:0', grad_fn=<UnbindBackward0>) tensor(-0.7312, device='cuda:0', grad_fn=<UnbindBackward0>) tensor(0.0578, device='cuda:0', grad_fn=<DivBackward0>) tensor(-0.0634, device='cuda:0', grad_fn=<DivBackward0>)\n"
     ]
    },
    {
     "name": "stderr",
     "output_type": "stream",
     "text": [
      "Evaluating:: 100%|██████████| 10/10 [00:09<00:00,  1.00it/s]\n"
     ]
    },
    {
     "name": "stdout",
     "output_type": "stream",
     "text": [
      "Evaluate finish\n",
      "valid_mae: 0.030052898451685905 Saving checkpoint...\n"
     ]
    },
    {
     "name": "stderr",
     "output_type": "stream",
     "text": [
      "Testing:: 100%|██████████| 1/1 [00:02<00:00,  2.70s/it]\n"
     ]
    },
    {
     "name": "stdout",
     "output_type": "stream",
     "text": [
      "Test finish\n",
      "=====epoch: 59 2023-08-05 14:05:43\n",
      "on training:\n"
     ]
    },
    {
     "name": "stderr",
     "output_type": "stream",
     "text": [
      "Epoch 59/200: 100%|██████████| 40/40 [00:12<00:00,  3.25it/s, loss=0.00728]\n"
     ]
    },
    {
     "name": "stdout",
     "output_type": "stream",
     "text": [
      "0.007528182782698423 tensor(0.8329, device='cuda:0', grad_fn=<UnbindBackward0>) tensor(-0.7673, device='cuda:0', grad_fn=<UnbindBackward0>) tensor(0.0567, device='cuda:0', grad_fn=<DivBackward0>) tensor(-0.0624, device='cuda:0', grad_fn=<DivBackward0>)\n"
     ]
    },
    {
     "name": "stderr",
     "output_type": "stream",
     "text": [
      "Evaluating:: 100%|██████████| 10/10 [00:09<00:00,  1.00it/s]\n"
     ]
    },
    {
     "name": "stdout",
     "output_type": "stream",
     "text": [
      "Evaluate finish\n",
      "=====epoch: 60 2023-08-05 14:06:06\n",
      "on training:\n"
     ]
    },
    {
     "name": "stderr",
     "output_type": "stream",
     "text": [
      "Epoch 60/200: 100%|██████████| 40/40 [00:12<00:00,  3.23it/s, loss=0.00723]\n"
     ]
    },
    {
     "name": "stdout",
     "output_type": "stream",
     "text": [
      "0.007293463218957186 tensor(0.9599, device='cuda:0', grad_fn=<UnbindBackward0>) tensor(-0.7043, device='cuda:0', grad_fn=<UnbindBackward0>) tensor(0.0555, device='cuda:0', grad_fn=<DivBackward0>) tensor(-0.0616, device='cuda:0', grad_fn=<DivBackward0>)\n"
     ]
    },
    {
     "name": "stderr",
     "output_type": "stream",
     "text": [
      "Evaluating:: 100%|██████████| 10/10 [00:09<00:00,  1.04it/s]\n"
     ]
    },
    {
     "name": "stdout",
     "output_type": "stream",
     "text": [
      "Evaluate finish\n",
      "=====epoch: 61 2023-08-05 14:06:28\n",
      "on training:\n"
     ]
    },
    {
     "name": "stderr",
     "output_type": "stream",
     "text": [
      "Epoch 61/200: 100%|██████████| 40/40 [00:12<00:00,  3.28it/s, loss=0.00663]\n"
     ]
    },
    {
     "name": "stdout",
     "output_type": "stream",
     "text": [
      "0.007022362074349075 tensor(0.8449, device='cuda:0', grad_fn=<UnbindBackward0>) tensor(-0.7602, device='cuda:0', grad_fn=<UnbindBackward0>) tensor(0.0544, device='cuda:0', grad_fn=<DivBackward0>) tensor(-0.0604, device='cuda:0', grad_fn=<DivBackward0>)\n"
     ]
    },
    {
     "name": "stderr",
     "output_type": "stream",
     "text": [
      "Evaluating:: 100%|██████████| 10/10 [00:10<00:00,  1.00s/it]\n"
     ]
    },
    {
     "name": "stdout",
     "output_type": "stream",
     "text": [
      "Evaluate finish\n",
      "=====epoch: 62 2023-08-05 14:06:50\n",
      "on training:\n"
     ]
    },
    {
     "name": "stderr",
     "output_type": "stream",
     "text": [
      "Epoch 62/200: 100%|██████████| 40/40 [00:12<00:00,  3.27it/s, loss=0.00684]\n"
     ]
    },
    {
     "name": "stdout",
     "output_type": "stream",
     "text": [
      "0.006867103779222816 tensor(0.6323, device='cuda:0', grad_fn=<UnbindBackward0>) tensor(-0.9790, device='cuda:0', grad_fn=<UnbindBackward0>) tensor(0.0538, device='cuda:0', grad_fn=<DivBackward0>) tensor(-0.0596, device='cuda:0', grad_fn=<DivBackward0>)\n"
     ]
    },
    {
     "name": "stderr",
     "output_type": "stream",
     "text": [
      "Evaluating:: 100%|██████████| 10/10 [00:09<00:00,  1.01it/s]\n"
     ]
    },
    {
     "name": "stdout",
     "output_type": "stream",
     "text": [
      "Evaluate finish\n",
      "=====epoch: 63 2023-08-05 14:07:12\n",
      "on training:\n"
     ]
    },
    {
     "name": "stderr",
     "output_type": "stream",
     "text": [
      "Epoch 63/200: 100%|██████████| 40/40 [00:12<00:00,  3.29it/s, loss=0.00671]\n"
     ]
    },
    {
     "name": "stdout",
     "output_type": "stream",
     "text": [
      "0.006698809377849102 tensor(0.5863, device='cuda:0', grad_fn=<UnbindBackward0>) tensor(-0.6524, device='cuda:0', grad_fn=<UnbindBackward0>) tensor(0.0532, device='cuda:0', grad_fn=<DivBackward0>) tensor(-0.0588, device='cuda:0', grad_fn=<DivBackward0>)\n"
     ]
    },
    {
     "name": "stderr",
     "output_type": "stream",
     "text": [
      "Evaluating:: 100%|██████████| 10/10 [00:09<00:00,  1.02it/s]\n"
     ]
    },
    {
     "name": "stdout",
     "output_type": "stream",
     "text": [
      "Evaluate finish\n",
      "valid_mae: 0.028362883254885674 Saving checkpoint...\n"
     ]
    },
    {
     "name": "stderr",
     "output_type": "stream",
     "text": [
      "Testing:: 100%|██████████| 1/1 [00:02<00:00,  2.79s/it]\n"
     ]
    },
    {
     "name": "stdout",
     "output_type": "stream",
     "text": [
      "Test finish\n",
      "=====epoch: 64 2023-08-05 14:07:37\n",
      "on training:\n"
     ]
    },
    {
     "name": "stderr",
     "output_type": "stream",
     "text": [
      "Epoch 64/200: 100%|██████████| 40/40 [00:12<00:00,  3.20it/s, loss=0.00613]\n"
     ]
    },
    {
     "name": "stdout",
     "output_type": "stream",
     "text": [
      "0.006564682663884014 tensor(0.6119, device='cuda:0', grad_fn=<UnbindBackward0>) tensor(-0.6580, device='cuda:0', grad_fn=<UnbindBackward0>) tensor(0.0526, device='cuda:0', grad_fn=<DivBackward0>) tensor(-0.0580, device='cuda:0', grad_fn=<DivBackward0>)\n"
     ]
    },
    {
     "name": "stderr",
     "output_type": "stream",
     "text": [
      "Evaluating:: 100%|██████████| 10/10 [00:09<00:00,  1.01it/s]\n"
     ]
    },
    {
     "name": "stdout",
     "output_type": "stream",
     "text": [
      "Evaluate finish\n",
      "=====epoch: 65 2023-08-05 14:07:59\n",
      "on training:\n"
     ]
    },
    {
     "name": "stderr",
     "output_type": "stream",
     "text": [
      "Epoch 65/200: 100%|██████████| 40/40 [00:12<00:00,  3.31it/s, loss=0.00629]\n"
     ]
    },
    {
     "name": "stdout",
     "output_type": "stream",
     "text": [
      "0.006431120214983821 tensor(0.7066, device='cuda:0', grad_fn=<UnbindBackward0>) tensor(-0.6258, device='cuda:0', grad_fn=<UnbindBackward0>) tensor(0.0520, device='cuda:0', grad_fn=<DivBackward0>) tensor(-0.0575, device='cuda:0', grad_fn=<DivBackward0>)\n"
     ]
    },
    {
     "name": "stderr",
     "output_type": "stream",
     "text": [
      "Evaluating:: 100%|██████████| 10/10 [00:09<00:00,  1.01it/s]\n"
     ]
    },
    {
     "name": "stdout",
     "output_type": "stream",
     "text": [
      "Evaluate finish\n",
      "valid_mae: 0.02799253724515438 Saving checkpoint...\n"
     ]
    },
    {
     "name": "stderr",
     "output_type": "stream",
     "text": [
      "Testing:: 100%|██████████| 1/1 [00:02<00:00,  2.66s/it]\n"
     ]
    },
    {
     "name": "stdout",
     "output_type": "stream",
     "text": [
      "Test finish\n",
      "=====epoch: 66 2023-08-05 14:08:24\n",
      "on training:\n"
     ]
    },
    {
     "name": "stderr",
     "output_type": "stream",
     "text": [
      "Epoch 66/200: 100%|██████████| 40/40 [00:12<00:00,  3.22it/s, loss=0.00640]\n"
     ]
    },
    {
     "name": "stdout",
     "output_type": "stream",
     "text": [
      "0.006235665234271437 tensor(0.7234, device='cuda:0', grad_fn=<UnbindBackward0>) tensor(-0.6135, device='cuda:0', grad_fn=<UnbindBackward0>) tensor(0.0512, device='cuda:0', grad_fn=<DivBackward0>) tensor(-0.0562, device='cuda:0', grad_fn=<DivBackward0>)\n"
     ]
    },
    {
     "name": "stderr",
     "output_type": "stream",
     "text": [
      "Evaluating:: 100%|██████████| 10/10 [00:09<00:00,  1.01it/s]\n"
     ]
    },
    {
     "name": "stdout",
     "output_type": "stream",
     "text": [
      "Evaluate finish\n",
      "=====epoch: 67 2023-08-05 14:08:46\n",
      "on training:\n"
     ]
    },
    {
     "name": "stderr",
     "output_type": "stream",
     "text": [
      "Epoch 67/200: 100%|██████████| 40/40 [00:12<00:00,  3.28it/s, loss=0.00622]\n"
     ]
    },
    {
     "name": "stdout",
     "output_type": "stream",
     "text": [
      "0.006117322784848511 tensor(0.6647, device='cuda:0', grad_fn=<UnbindBackward0>) tensor(-0.7245, device='cuda:0', grad_fn=<UnbindBackward0>) tensor(0.0503, device='cuda:0', grad_fn=<DivBackward0>) tensor(-0.0556, device='cuda:0', grad_fn=<DivBackward0>)\n"
     ]
    },
    {
     "name": "stderr",
     "output_type": "stream",
     "text": [
      "Evaluating:: 100%|██████████| 10/10 [00:09<00:00,  1.01it/s]\n"
     ]
    },
    {
     "name": "stdout",
     "output_type": "stream",
     "text": [
      "Evaluate finish\n",
      "=====epoch: 68 2023-08-05 14:09:08\n",
      "on training:\n"
     ]
    },
    {
     "name": "stderr",
     "output_type": "stream",
     "text": [
      "Epoch 68/200: 100%|██████████| 40/40 [00:11<00:00,  3.36it/s, loss=0.00582]\n"
     ]
    },
    {
     "name": "stdout",
     "output_type": "stream",
     "text": [
      "0.005937020387500524 tensor(0.6188, device='cuda:0', grad_fn=<UnbindBackward0>) tensor(-0.7702, device='cuda:0', grad_fn=<UnbindBackward0>) tensor(0.0496, device='cuda:0', grad_fn=<DivBackward0>) tensor(-0.0549, device='cuda:0', grad_fn=<DivBackward0>)\n"
     ]
    },
    {
     "name": "stderr",
     "output_type": "stream",
     "text": [
      "Evaluating:: 100%|██████████| 10/10 [00:09<00:00,  1.01it/s]\n"
     ]
    },
    {
     "name": "stdout",
     "output_type": "stream",
     "text": [
      "Evaluate finish\n",
      "valid_mae: 0.026768788695335388 Saving checkpoint...\n"
     ]
    },
    {
     "name": "stderr",
     "output_type": "stream",
     "text": [
      "Testing:: 100%|██████████| 1/1 [00:02<00:00,  2.62s/it]\n"
     ]
    },
    {
     "name": "stdout",
     "output_type": "stream",
     "text": [
      "Test finish\n",
      "=====epoch: 69 2023-08-05 14:09:33\n",
      "on training:\n"
     ]
    },
    {
     "name": "stderr",
     "output_type": "stream",
     "text": [
      "Epoch 69/200: 100%|██████████| 40/40 [00:12<00:00,  3.21it/s, loss=0.00517]\n"
     ]
    },
    {
     "name": "stdout",
     "output_type": "stream",
     "text": [
      "0.0058221770566888155 tensor(0.6211, device='cuda:0', grad_fn=<UnbindBackward0>) tensor(-0.6458, device='cuda:0', grad_fn=<UnbindBackward0>) tensor(0.0490, device='cuda:0', grad_fn=<DivBackward0>) tensor(-0.0541, device='cuda:0', grad_fn=<DivBackward0>)\n"
     ]
    },
    {
     "name": "stderr",
     "output_type": "stream",
     "text": [
      "Evaluating:: 100%|██████████| 10/10 [00:09<00:00,  1.01it/s]\n"
     ]
    },
    {
     "name": "stdout",
     "output_type": "stream",
     "text": [
      "Evaluate finish\n",
      "=====epoch: 70 2023-08-05 14:09:55\n",
      "on training:\n"
     ]
    },
    {
     "name": "stderr",
     "output_type": "stream",
     "text": [
      "Epoch 70/200: 100%|██████████| 40/40 [00:12<00:00,  3.21it/s, loss=0.00595]\n"
     ]
    },
    {
     "name": "stdout",
     "output_type": "stream",
     "text": [
      "0.005739115434698761 tensor(0.5572, device='cuda:0', grad_fn=<UnbindBackward0>) tensor(-0.6511, device='cuda:0', grad_fn=<UnbindBackward0>) tensor(0.0488, device='cuda:0', grad_fn=<DivBackward0>) tensor(-0.0534, device='cuda:0', grad_fn=<DivBackward0>)\n"
     ]
    },
    {
     "name": "stderr",
     "output_type": "stream",
     "text": [
      "Evaluating:: 100%|██████████| 10/10 [00:09<00:00,  1.03it/s]\n"
     ]
    },
    {
     "name": "stdout",
     "output_type": "stream",
     "text": [
      "Evaluate finish\n",
      "=====epoch: 71 2023-08-05 14:10:17\n",
      "on training:\n"
     ]
    },
    {
     "name": "stderr",
     "output_type": "stream",
     "text": [
      "Epoch 71/200: 100%|██████████| 40/40 [00:12<00:00,  3.10it/s, loss=0.00555]\n"
     ]
    },
    {
     "name": "stdout",
     "output_type": "stream",
     "text": [
      "0.00560389090096578 tensor(0.5893, device='cuda:0', grad_fn=<UnbindBackward0>) tensor(-0.6370, device='cuda:0', grad_fn=<UnbindBackward0>) tensor(0.0480, device='cuda:0', grad_fn=<DivBackward0>) tensor(-0.0529, device='cuda:0', grad_fn=<DivBackward0>)\n"
     ]
    },
    {
     "name": "stderr",
     "output_type": "stream",
     "text": [
      "Evaluating:: 100%|██████████| 10/10 [00:10<00:00,  1.01s/it]\n"
     ]
    },
    {
     "name": "stdout",
     "output_type": "stream",
     "text": [
      "Evaluate finish\n",
      "=====epoch: 72 2023-08-05 14:10:40\n",
      "on training:\n"
     ]
    },
    {
     "name": "stderr",
     "output_type": "stream",
     "text": [
      "Epoch 72/200: 100%|██████████| 40/40 [00:13<00:00,  3.05it/s, loss=0.00539]\n"
     ]
    },
    {
     "name": "stdout",
     "output_type": "stream",
     "text": [
      "0.00548311275197193 tensor(0.6091, device='cuda:0', grad_fn=<UnbindBackward0>) tensor(-0.7188, device='cuda:0', grad_fn=<UnbindBackward0>) tensor(0.0475, device='cuda:0', grad_fn=<DivBackward0>) tensor(-0.0521, device='cuda:0', grad_fn=<DivBackward0>)\n"
     ]
    },
    {
     "name": "stderr",
     "output_type": "stream",
     "text": [
      "Evaluating:: 100%|██████████| 10/10 [00:09<00:00,  1.01it/s]\n"
     ]
    },
    {
     "name": "stdout",
     "output_type": "stream",
     "text": [
      "Evaluate finish\n",
      "=====epoch: 73 2023-08-05 14:11:03\n",
      "on training:\n"
     ]
    },
    {
     "name": "stderr",
     "output_type": "stream",
     "text": [
      "Epoch 73/200: 100%|██████████| 40/40 [00:12<00:00,  3.12it/s, loss=0.00567]\n"
     ]
    },
    {
     "name": "stdout",
     "output_type": "stream",
     "text": [
      "0.005356501275673509 tensor(0.5623, device='cuda:0', grad_fn=<UnbindBackward0>) tensor(-0.6676, device='cuda:0', grad_fn=<UnbindBackward0>) tensor(0.0467, device='cuda:0', grad_fn=<DivBackward0>) tensor(-0.0517, device='cuda:0', grad_fn=<DivBackward0>)\n"
     ]
    },
    {
     "name": "stderr",
     "output_type": "stream",
     "text": [
      "Evaluating:: 100%|██████████| 10/10 [00:09<00:00,  1.05it/s]\n"
     ]
    },
    {
     "name": "stdout",
     "output_type": "stream",
     "text": [
      "Evaluate finish\n",
      "=====epoch: 74 2023-08-05 14:11:26\n",
      "on training:\n"
     ]
    },
    {
     "name": "stderr",
     "output_type": "stream",
     "text": [
      "Epoch 74/200: 100%|██████████| 40/40 [00:13<00:00,  3.03it/s, loss=0.00526]\n"
     ]
    },
    {
     "name": "stdout",
     "output_type": "stream",
     "text": [
      "0.005243065825197846 tensor(0.5708, device='cuda:0', grad_fn=<UnbindBackward0>) tensor(-0.7045, device='cuda:0', grad_fn=<UnbindBackward0>) tensor(0.0462, device='cuda:0', grad_fn=<DivBackward0>) tensor(-0.0508, device='cuda:0', grad_fn=<DivBackward0>)\n"
     ]
    },
    {
     "name": "stderr",
     "output_type": "stream",
     "text": [
      "Evaluating:: 100%|██████████| 10/10 [00:09<00:00,  1.04it/s]\n"
     ]
    },
    {
     "name": "stdout",
     "output_type": "stream",
     "text": [
      "Evaluate finish\n",
      "valid_mae: 0.0261590126901865 Saving checkpoint...\n"
     ]
    },
    {
     "name": "stderr",
     "output_type": "stream",
     "text": [
      "Testing:: 100%|██████████| 1/1 [00:02<00:00,  2.62s/it]\n"
     ]
    },
    {
     "name": "stdout",
     "output_type": "stream",
     "text": [
      "Test finish\n",
      "=====epoch: 75 2023-08-05 14:11:51\n",
      "on training:\n"
     ]
    },
    {
     "name": "stderr",
     "output_type": "stream",
     "text": [
      "Epoch 75/200: 100%|██████████| 40/40 [00:12<00:00,  3.09it/s, loss=0.00484]\n"
     ]
    },
    {
     "name": "stdout",
     "output_type": "stream",
     "text": [
      "0.0051714183413423594 tensor(0.6127, device='cuda:0', grad_fn=<UnbindBackward0>) tensor(-0.6536, device='cuda:0', grad_fn=<UnbindBackward0>) tensor(0.0457, device='cuda:0', grad_fn=<DivBackward0>) tensor(-0.0504, device='cuda:0', grad_fn=<DivBackward0>)\n"
     ]
    },
    {
     "name": "stderr",
     "output_type": "stream",
     "text": [
      "Evaluating:: 100%|██████████| 10/10 [00:09<00:00,  1.02it/s]\n"
     ]
    },
    {
     "name": "stdout",
     "output_type": "stream",
     "text": [
      "Evaluate finish\n",
      "=====epoch: 76 2023-08-05 14:12:14\n",
      "on training:\n"
     ]
    },
    {
     "name": "stderr",
     "output_type": "stream",
     "text": [
      "Epoch 76/200: 100%|██████████| 40/40 [00:12<00:00,  3.25it/s, loss=0.00510]\n"
     ]
    },
    {
     "name": "stdout",
     "output_type": "stream",
     "text": [
      "0.005045100965071469 tensor(0.5161, device='cuda:0', grad_fn=<UnbindBackward0>) tensor(-0.6159, device='cuda:0', grad_fn=<UnbindBackward0>) tensor(0.0452, device='cuda:0', grad_fn=<DivBackward0>) tensor(-0.0499, device='cuda:0', grad_fn=<DivBackward0>)\n"
     ]
    },
    {
     "name": "stderr",
     "output_type": "stream",
     "text": [
      "Evaluating:: 100%|██████████| 10/10 [00:09<00:00,  1.01it/s]\n"
     ]
    },
    {
     "name": "stdout",
     "output_type": "stream",
     "text": [
      "Evaluate finish\n",
      "=====epoch: 77 2023-08-05 14:12:36\n",
      "on training:\n"
     ]
    },
    {
     "name": "stderr",
     "output_type": "stream",
     "text": [
      "Epoch 77/200: 100%|██████████| 40/40 [00:12<00:00,  3.16it/s, loss=0.00535]\n"
     ]
    },
    {
     "name": "stdout",
     "output_type": "stream",
     "text": [
      "0.0049390556989237664 tensor(0.5548, device='cuda:0', grad_fn=<UnbindBackward0>) tensor(-0.6261, device='cuda:0', grad_fn=<UnbindBackward0>) tensor(0.0446, device='cuda:0', grad_fn=<DivBackward0>) tensor(-0.0492, device='cuda:0', grad_fn=<DivBackward0>)\n"
     ]
    },
    {
     "name": "stderr",
     "output_type": "stream",
     "text": [
      "Evaluating:: 100%|██████████| 10/10 [00:10<00:00,  1.01s/it]\n"
     ]
    },
    {
     "name": "stdout",
     "output_type": "stream",
     "text": [
      "Evaluate finish\n",
      "valid_mae: 0.025429649278521538 Saving checkpoint...\n"
     ]
    },
    {
     "name": "stderr",
     "output_type": "stream",
     "text": [
      "Testing:: 100%|██████████| 1/1 [00:02<00:00,  2.64s/it]\n"
     ]
    },
    {
     "name": "stdout",
     "output_type": "stream",
     "text": [
      "Test finish\n",
      "=====epoch: 78 2023-08-05 14:13:02\n",
      "on training:\n"
     ]
    },
    {
     "name": "stderr",
     "output_type": "stream",
     "text": [
      "Epoch 78/200: 100%|██████████| 40/40 [00:12<00:00,  3.28it/s, loss=0.00482]\n"
     ]
    },
    {
     "name": "stdout",
     "output_type": "stream",
     "text": [
      "0.004855958151165396 tensor(0.6398, device='cuda:0', grad_fn=<UnbindBackward0>) tensor(-0.6064, device='cuda:0', grad_fn=<UnbindBackward0>) tensor(0.0442, device='cuda:0', grad_fn=<DivBackward0>) tensor(-0.0484, device='cuda:0', grad_fn=<DivBackward0>)\n"
     ]
    },
    {
     "name": "stderr",
     "output_type": "stream",
     "text": [
      "Evaluating:: 100%|██████████| 10/10 [00:09<00:00,  1.03it/s]\n"
     ]
    },
    {
     "name": "stdout",
     "output_type": "stream",
     "text": [
      "Evaluate finish\n",
      "=====epoch: 79 2023-08-05 14:13:24\n",
      "on training:\n"
     ]
    },
    {
     "name": "stderr",
     "output_type": "stream",
     "text": [
      "Epoch 79/200: 100%|██████████| 40/40 [00:12<00:00,  3.12it/s, loss=0.00448]\n"
     ]
    },
    {
     "name": "stdout",
     "output_type": "stream",
     "text": [
      "0.004736431548371911 tensor(0.5394, device='cuda:0', grad_fn=<UnbindBackward0>) tensor(-0.5689, device='cuda:0', grad_fn=<UnbindBackward0>) tensor(0.0437, device='cuda:0', grad_fn=<DivBackward0>) tensor(-0.0479, device='cuda:0', grad_fn=<DivBackward0>)\n"
     ]
    },
    {
     "name": "stderr",
     "output_type": "stream",
     "text": [
      "Evaluating:: 100%|██████████| 10/10 [00:09<00:00,  1.01it/s]\n"
     ]
    },
    {
     "name": "stdout",
     "output_type": "stream",
     "text": [
      "Evaluate finish\n",
      "valid_mae: 0.02531570754945278 Saving checkpoint...\n"
     ]
    },
    {
     "name": "stderr",
     "output_type": "stream",
     "text": [
      "Testing:: 100%|██████████| 1/1 [00:02<00:00,  2.69s/it]\n"
     ]
    },
    {
     "name": "stdout",
     "output_type": "stream",
     "text": [
      "Test finish\n",
      "=====epoch: 80 2023-08-05 14:13:49\n",
      "on training:\n"
     ]
    },
    {
     "name": "stderr",
     "output_type": "stream",
     "text": [
      "Epoch 80/200: 100%|██████████| 40/40 [00:12<00:00,  3.12it/s, loss=0.00460]\n"
     ]
    },
    {
     "name": "stdout",
     "output_type": "stream",
     "text": [
      "0.0046428128727711735 tensor(0.5615, device='cuda:0', grad_fn=<UnbindBackward0>) tensor(-0.6156, device='cuda:0', grad_fn=<UnbindBackward0>) tensor(0.0431, device='cuda:0', grad_fn=<DivBackward0>) tensor(-0.0473, device='cuda:0', grad_fn=<DivBackward0>)\n"
     ]
    },
    {
     "name": "stderr",
     "output_type": "stream",
     "text": [
      "Evaluating:: 100%|██████████| 10/10 [00:09<00:00,  1.03it/s]\n"
     ]
    },
    {
     "name": "stdout",
     "output_type": "stream",
     "text": [
      "Evaluate finish\n",
      "=====epoch: 81 2023-08-05 14:14:12\n",
      "on training:\n"
     ]
    },
    {
     "name": "stderr",
     "output_type": "stream",
     "text": [
      "Epoch 81/200: 100%|██████████| 40/40 [00:12<00:00,  3.19it/s, loss=0.00437]\n"
     ]
    },
    {
     "name": "stdout",
     "output_type": "stream",
     "text": [
      "0.004552796192001551 tensor(0.6097, device='cuda:0', grad_fn=<UnbindBackward0>) tensor(-0.6043, device='cuda:0', grad_fn=<UnbindBackward0>) tensor(0.0424, device='cuda:0', grad_fn=<DivBackward0>) tensor(-0.0467, device='cuda:0', grad_fn=<DivBackward0>)\n"
     ]
    },
    {
     "name": "stderr",
     "output_type": "stream",
     "text": [
      "Evaluating:: 100%|██████████| 10/10 [00:09<00:00,  1.04it/s]\n"
     ]
    },
    {
     "name": "stdout",
     "output_type": "stream",
     "text": [
      "Evaluate finish\n",
      "=====epoch: 82 2023-08-05 14:14:34\n",
      "on training:\n"
     ]
    },
    {
     "name": "stderr",
     "output_type": "stream",
     "text": [
      "Epoch 82/200: 100%|██████████| 40/40 [00:13<00:00,  3.08it/s, loss=0.00437]\n"
     ]
    },
    {
     "name": "stdout",
     "output_type": "stream",
     "text": [
      "0.004486528458073735 tensor(0.6039, device='cuda:0', grad_fn=<UnbindBackward0>) tensor(-0.6733, device='cuda:0', grad_fn=<UnbindBackward0>) tensor(0.0422, device='cuda:0', grad_fn=<DivBackward0>) tensor(-0.0461, device='cuda:0', grad_fn=<DivBackward0>)\n"
     ]
    },
    {
     "name": "stderr",
     "output_type": "stream",
     "text": [
      "Evaluating:: 100%|██████████| 10/10 [00:10<00:00,  1.02s/it]\n"
     ]
    },
    {
     "name": "stdout",
     "output_type": "stream",
     "text": [
      "Evaluate finish\n",
      "valid_mae: 0.024660011753439903 Saving checkpoint...\n"
     ]
    },
    {
     "name": "stderr",
     "output_type": "stream",
     "text": [
      "Testing:: 100%|██████████| 1/1 [00:02<00:00,  2.76s/it]\n"
     ]
    },
    {
     "name": "stdout",
     "output_type": "stream",
     "text": [
      "Test finish\n",
      "=====epoch: 83 2023-08-05 14:15:00\n",
      "on training:\n"
     ]
    },
    {
     "name": "stderr",
     "output_type": "stream",
     "text": [
      "Epoch 83/200: 100%|██████████| 40/40 [00:12<00:00,  3.32it/s, loss=0.00454]\n"
     ]
    },
    {
     "name": "stdout",
     "output_type": "stream",
     "text": [
      "0.004438770364504308 tensor(0.5899, device='cuda:0', grad_fn=<UnbindBackward0>) tensor(-0.5640, device='cuda:0', grad_fn=<UnbindBackward0>) tensor(0.0418, device='cuda:0', grad_fn=<DivBackward0>) tensor(-0.0458, device='cuda:0', grad_fn=<DivBackward0>)\n"
     ]
    },
    {
     "name": "stderr",
     "output_type": "stream",
     "text": [
      "Evaluating:: 100%|██████████| 10/10 [00:09<00:00,  1.02it/s]\n"
     ]
    },
    {
     "name": "stdout",
     "output_type": "stream",
     "text": [
      "Evaluate finish\n",
      "valid_mae: 0.02445848286151886 Saving checkpoint...\n"
     ]
    },
    {
     "name": "stderr",
     "output_type": "stream",
     "text": [
      "Testing:: 100%|██████████| 1/1 [00:02<00:00,  2.66s/it]\n"
     ]
    },
    {
     "name": "stdout",
     "output_type": "stream",
     "text": [
      "Test finish\n",
      "=====epoch: 84 2023-08-05 14:15:24\n",
      "on training:\n"
     ]
    },
    {
     "name": "stderr",
     "output_type": "stream",
     "text": [
      "Epoch 84/200: 100%|██████████| 40/40 [00:12<00:00,  3.30it/s, loss=0.00436]\n"
     ]
    },
    {
     "name": "stdout",
     "output_type": "stream",
     "text": [
      "0.004329776327358559 tensor(0.5535, device='cuda:0', grad_fn=<UnbindBackward0>) tensor(-0.5207, device='cuda:0', grad_fn=<UnbindBackward0>) tensor(0.0412, device='cuda:0', grad_fn=<DivBackward0>) tensor(-0.0453, device='cuda:0', grad_fn=<DivBackward0>)\n"
     ]
    },
    {
     "name": "stderr",
     "output_type": "stream",
     "text": [
      "Evaluating:: 100%|██████████| 10/10 [00:09<00:00,  1.05it/s]\n"
     ]
    },
    {
     "name": "stdout",
     "output_type": "stream",
     "text": [
      "Evaluate finish\n",
      "valid_mae: 0.02242819033563137 Saving checkpoint...\n"
     ]
    },
    {
     "name": "stderr",
     "output_type": "stream",
     "text": [
      "Testing:: 100%|██████████| 1/1 [00:02<00:00,  2.57s/it]\n"
     ]
    },
    {
     "name": "stdout",
     "output_type": "stream",
     "text": [
      "Test finish\n",
      "=====epoch: 85 2023-08-05 14:15:48\n",
      "on training:\n"
     ]
    },
    {
     "name": "stderr",
     "output_type": "stream",
     "text": [
      "Epoch 85/200: 100%|██████████| 40/40 [00:11<00:00,  3.45it/s, loss=0.00425]\n"
     ]
    },
    {
     "name": "stdout",
     "output_type": "stream",
     "text": [
      "0.004261442349525168 tensor(0.6099, device='cuda:0', grad_fn=<UnbindBackward0>) tensor(-0.5889, device='cuda:0', grad_fn=<UnbindBackward0>) tensor(0.0408, device='cuda:0', grad_fn=<DivBackward0>) tensor(-0.0448, device='cuda:0', grad_fn=<DivBackward0>)\n"
     ]
    },
    {
     "name": "stderr",
     "output_type": "stream",
     "text": [
      "Evaluating:: 100%|██████████| 10/10 [00:09<00:00,  1.02it/s]\n"
     ]
    },
    {
     "name": "stdout",
     "output_type": "stream",
     "text": [
      "Evaluate finish\n",
      "=====epoch: 86 2023-08-05 14:16:10\n",
      "on training:\n"
     ]
    },
    {
     "name": "stderr",
     "output_type": "stream",
     "text": [
      "Epoch 86/200: 100%|██████████| 40/40 [00:12<00:00,  3.33it/s, loss=0.00394]\n"
     ]
    },
    {
     "name": "stdout",
     "output_type": "stream",
     "text": [
      "0.00420765666058287 tensor(0.5662, device='cuda:0', grad_fn=<UnbindBackward0>) tensor(-0.5534, device='cuda:0', grad_fn=<UnbindBackward0>) tensor(0.0403, device='cuda:0', grad_fn=<DivBackward0>) tensor(-0.0444, device='cuda:0', grad_fn=<DivBackward0>)\n"
     ]
    },
    {
     "name": "stderr",
     "output_type": "stream",
     "text": [
      "Evaluating:: 100%|██████████| 10/10 [00:09<00:00,  1.01it/s]\n"
     ]
    },
    {
     "name": "stdout",
     "output_type": "stream",
     "text": [
      "Evaluate finish\n",
      "=====epoch: 87 2023-08-05 14:16:32\n",
      "on training:\n"
     ]
    },
    {
     "name": "stderr",
     "output_type": "stream",
     "text": [
      "Epoch 87/200: 100%|██████████| 40/40 [00:12<00:00,  3.17it/s, loss=0.00423]\n"
     ]
    },
    {
     "name": "stdout",
     "output_type": "stream",
     "text": [
      "0.00413330418523401 tensor(0.5580, device='cuda:0', grad_fn=<UnbindBackward0>) tensor(-0.5440, device='cuda:0', grad_fn=<UnbindBackward0>) tensor(0.0402, device='cuda:0', grad_fn=<DivBackward0>) tensor(-0.0436, device='cuda:0', grad_fn=<DivBackward0>)\n"
     ]
    },
    {
     "name": "stderr",
     "output_type": "stream",
     "text": [
      "Evaluating:: 100%|██████████| 10/10 [00:10<00:00,  1.01s/it]\n"
     ]
    },
    {
     "name": "stdout",
     "output_type": "stream",
     "text": [
      "Evaluate finish\n",
      "=====epoch: 88 2023-08-05 14:16:55\n",
      "on training:\n"
     ]
    },
    {
     "name": "stderr",
     "output_type": "stream",
     "text": [
      "Epoch 88/200: 100%|██████████| 40/40 [00:12<00:00,  3.18it/s, loss=0.00374]\n"
     ]
    },
    {
     "name": "stdout",
     "output_type": "stream",
     "text": [
      "0.004024112882325426 tensor(0.5299, device='cuda:0', grad_fn=<UnbindBackward0>) tensor(-0.5502, device='cuda:0', grad_fn=<UnbindBackward0>) tensor(0.0395, device='cuda:0', grad_fn=<DivBackward0>) tensor(-0.0432, device='cuda:0', grad_fn=<DivBackward0>)\n"
     ]
    },
    {
     "name": "stderr",
     "output_type": "stream",
     "text": [
      "Evaluating:: 100%|██████████| 10/10 [00:09<00:00,  1.03it/s]\n"
     ]
    },
    {
     "name": "stdout",
     "output_type": "stream",
     "text": [
      "Evaluate finish\n",
      "=====epoch: 89 2023-08-05 14:17:17\n",
      "on training:\n"
     ]
    },
    {
     "name": "stderr",
     "output_type": "stream",
     "text": [
      "Epoch 89/200: 100%|██████████| 40/40 [00:12<00:00,  3.08it/s, loss=0.00394]\n"
     ]
    },
    {
     "name": "stdout",
     "output_type": "stream",
     "text": [
      "0.003993937530322 tensor(0.5513, device='cuda:0', grad_fn=<UnbindBackward0>) tensor(-0.5333, device='cuda:0', grad_fn=<UnbindBackward0>) tensor(0.0393, device='cuda:0', grad_fn=<DivBackward0>) tensor(-0.0431, device='cuda:0', grad_fn=<DivBackward0>)\n"
     ]
    },
    {
     "name": "stderr",
     "output_type": "stream",
     "text": [
      "Evaluating:: 100%|██████████| 10/10 [00:09<00:00,  1.02it/s]\n"
     ]
    },
    {
     "name": "stdout",
     "output_type": "stream",
     "text": [
      "Evaluate finish\n",
      "=====epoch: 90 2023-08-05 14:17:40\n",
      "on training:\n"
     ]
    },
    {
     "name": "stderr",
     "output_type": "stream",
     "text": [
      "Epoch 90/200: 100%|██████████| 40/40 [00:12<00:00,  3.12it/s, loss=0.00364]\n"
     ]
    },
    {
     "name": "stdout",
     "output_type": "stream",
     "text": [
      "0.003983123524812981 tensor(0.5280, device='cuda:0', grad_fn=<UnbindBackward0>) tensor(-0.6166, device='cuda:0', grad_fn=<UnbindBackward0>) tensor(0.0390, device='cuda:0', grad_fn=<DivBackward0>) tensor(-0.0428, device='cuda:0', grad_fn=<DivBackward0>)\n"
     ]
    },
    {
     "name": "stderr",
     "output_type": "stream",
     "text": [
      "Evaluating:: 100%|██████████| 10/10 [00:09<00:00,  1.02it/s]\n"
     ]
    },
    {
     "name": "stdout",
     "output_type": "stream",
     "text": [
      "Evaluate finish\n",
      "=====epoch: 91 2023-08-05 14:18:02\n",
      "on training:\n"
     ]
    },
    {
     "name": "stderr",
     "output_type": "stream",
     "text": [
      "Epoch 91/200: 100%|██████████| 40/40 [00:12<00:00,  3.25it/s, loss=0.00405]\n"
     ]
    },
    {
     "name": "stdout",
     "output_type": "stream",
     "text": [
      "0.003889180632540956 tensor(0.5382, device='cuda:0', grad_fn=<UnbindBackward0>) tensor(-0.5921, device='cuda:0', grad_fn=<UnbindBackward0>) tensor(0.0384, device='cuda:0', grad_fn=<DivBackward0>) tensor(-0.0423, device='cuda:0', grad_fn=<DivBackward0>)\n"
     ]
    },
    {
     "name": "stderr",
     "output_type": "stream",
     "text": [
      "Evaluating:: 100%|██████████| 10/10 [00:09<00:00,  1.03it/s]\n"
     ]
    },
    {
     "name": "stdout",
     "output_type": "stream",
     "text": [
      "Evaluate finish\n",
      "=====epoch: 92 2023-08-05 14:18:24\n",
      "on training:\n"
     ]
    },
    {
     "name": "stderr",
     "output_type": "stream",
     "text": [
      "Epoch 92/200: 100%|██████████| 40/40 [00:12<00:00,  3.33it/s, loss=0.00374]\n"
     ]
    },
    {
     "name": "stdout",
     "output_type": "stream",
     "text": [
      "0.0038389728986658158 tensor(0.5244, device='cuda:0', grad_fn=<UnbindBackward0>) tensor(-0.5278, device='cuda:0', grad_fn=<UnbindBackward0>) tensor(0.0383, device='cuda:0', grad_fn=<DivBackward0>) tensor(-0.0417, device='cuda:0', grad_fn=<DivBackward0>)\n"
     ]
    },
    {
     "name": "stderr",
     "output_type": "stream",
     "text": [
      "Evaluating:: 100%|██████████| 10/10 [00:09<00:00,  1.05it/s]\n"
     ]
    },
    {
     "name": "stdout",
     "output_type": "stream",
     "text": [
      "Evaluate finish\n",
      "=====epoch: 93 2023-08-05 14:18:46\n",
      "on training:\n"
     ]
    },
    {
     "name": "stderr",
     "output_type": "stream",
     "text": [
      "Epoch 93/200: 100%|██████████| 40/40 [00:11<00:00,  3.34it/s, loss=0.00379]\n"
     ]
    },
    {
     "name": "stdout",
     "output_type": "stream",
     "text": [
      "0.0037646744574885817 tensor(0.5216, device='cuda:0', grad_fn=<UnbindBackward0>) tensor(-0.5835, device='cuda:0', grad_fn=<UnbindBackward0>) tensor(0.0379, device='cuda:0', grad_fn=<DivBackward0>) tensor(-0.0413, device='cuda:0', grad_fn=<DivBackward0>)\n"
     ]
    },
    {
     "name": "stderr",
     "output_type": "stream",
     "text": [
      "Evaluating:: 100%|██████████| 10/10 [00:09<00:00,  1.02it/s]\n"
     ]
    },
    {
     "name": "stdout",
     "output_type": "stream",
     "text": [
      "Evaluate finish\n",
      "=====epoch: 94 2023-08-05 14:19:08\n",
      "on training:\n"
     ]
    },
    {
     "name": "stderr",
     "output_type": "stream",
     "text": [
      "Epoch 94/200: 100%|██████████| 40/40 [00:13<00:00,  2.96it/s, loss=0.00373]\n"
     ]
    },
    {
     "name": "stdout",
     "output_type": "stream",
     "text": [
      "0.003719943785108626 tensor(0.5003, device='cuda:0', grad_fn=<UnbindBackward0>) tensor(-0.5499, device='cuda:0', grad_fn=<UnbindBackward0>) tensor(0.0376, device='cuda:0', grad_fn=<DivBackward0>) tensor(-0.0410, device='cuda:0', grad_fn=<DivBackward0>)\n"
     ]
    },
    {
     "name": "stderr",
     "output_type": "stream",
     "text": [
      "Evaluating:: 100%|██████████| 10/10 [00:09<00:00,  1.01it/s]\n"
     ]
    },
    {
     "name": "stdout",
     "output_type": "stream",
     "text": [
      "Evaluate finish\n",
      "valid_mae: 0.022196441888809204 Saving checkpoint...\n"
     ]
    },
    {
     "name": "stderr",
     "output_type": "stream",
     "text": [
      "Testing:: 100%|██████████| 1/1 [00:02<00:00,  2.61s/it]\n"
     ]
    },
    {
     "name": "stdout",
     "output_type": "stream",
     "text": [
      "Test finish\n",
      "=====epoch: 95 2023-08-05 14:19:34\n",
      "on training:\n"
     ]
    },
    {
     "name": "stderr",
     "output_type": "stream",
     "text": [
      "Epoch 95/200: 100%|██████████| 40/40 [00:11<00:00,  3.39it/s, loss=0.00356]\n"
     ]
    },
    {
     "name": "stdout",
     "output_type": "stream",
     "text": [
      "0.003676714957691729 tensor(0.5797, device='cuda:0', grad_fn=<UnbindBackward0>) tensor(-0.5646, device='cuda:0', grad_fn=<UnbindBackward0>) tensor(0.0372, device='cuda:0', grad_fn=<DivBackward0>) tensor(-0.0405, device='cuda:0', grad_fn=<DivBackward0>)\n"
     ]
    },
    {
     "name": "stderr",
     "output_type": "stream",
     "text": [
      "Evaluating:: 100%|██████████| 10/10 [00:09<00:00,  1.02it/s]\n"
     ]
    },
    {
     "name": "stdout",
     "output_type": "stream",
     "text": [
      "Evaluate finish\n",
      "=====epoch: 96 2023-08-05 14:19:55\n",
      "on training:\n"
     ]
    },
    {
     "name": "stderr",
     "output_type": "stream",
     "text": [
      "Epoch 96/200: 100%|██████████| 40/40 [00:12<00:00,  3.27it/s, loss=0.00367]\n"
     ]
    },
    {
     "name": "stdout",
     "output_type": "stream",
     "text": [
      "0.003629977215314284 tensor(0.5686, device='cuda:0', grad_fn=<UnbindBackward0>) tensor(-0.5175, device='cuda:0', grad_fn=<UnbindBackward0>) tensor(0.0369, device='cuda:0', grad_fn=<DivBackward0>) tensor(-0.0402, device='cuda:0', grad_fn=<DivBackward0>)\n"
     ]
    },
    {
     "name": "stderr",
     "output_type": "stream",
     "text": [
      "Evaluating:: 100%|██████████| 10/10 [00:09<00:00,  1.03it/s]\n"
     ]
    },
    {
     "name": "stdout",
     "output_type": "stream",
     "text": [
      "Evaluate finish\n",
      "=====epoch: 97 2023-08-05 14:20:17\n",
      "on training:\n"
     ]
    },
    {
     "name": "stderr",
     "output_type": "stream",
     "text": [
      "Epoch 97/200: 100%|██████████| 40/40 [00:12<00:00,  3.15it/s, loss=0.00322]\n"
     ]
    },
    {
     "name": "stdout",
     "output_type": "stream",
     "text": [
      "0.0035931379999965428 tensor(0.5346, device='cuda:0', grad_fn=<UnbindBackward0>) tensor(-0.5156, device='cuda:0', grad_fn=<UnbindBackward0>) tensor(0.0365, device='cuda:0', grad_fn=<DivBackward0>) tensor(-0.0399, device='cuda:0', grad_fn=<DivBackward0>)\n"
     ]
    },
    {
     "name": "stderr",
     "output_type": "stream",
     "text": [
      "Evaluating:: 100%|██████████| 10/10 [00:09<00:00,  1.01it/s]\n"
     ]
    },
    {
     "name": "stdout",
     "output_type": "stream",
     "text": [
      "Evaluate finish\n",
      "=====epoch: 98 2023-08-05 14:20:40\n",
      "on training:\n"
     ]
    },
    {
     "name": "stderr",
     "output_type": "stream",
     "text": [
      "Epoch 98/200: 100%|██████████| 40/40 [00:12<00:00,  3.21it/s, loss=0.00316]\n"
     ]
    },
    {
     "name": "stdout",
     "output_type": "stream",
     "text": [
      "0.0035292695625685155 tensor(0.5142, device='cuda:0', grad_fn=<UnbindBackward0>) tensor(-0.5594, device='cuda:0', grad_fn=<UnbindBackward0>) tensor(0.0362, device='cuda:0', grad_fn=<DivBackward0>) tensor(-0.0396, device='cuda:0', grad_fn=<DivBackward0>)\n"
     ]
    },
    {
     "name": "stderr",
     "output_type": "stream",
     "text": [
      "Evaluating:: 100%|██████████| 10/10 [00:09<00:00,  1.03it/s]\n"
     ]
    },
    {
     "name": "stdout",
     "output_type": "stream",
     "text": [
      "Evaluate finish\n",
      "=====epoch: 99 2023-08-05 14:21:02\n",
      "on training:\n"
     ]
    },
    {
     "name": "stderr",
     "output_type": "stream",
     "text": [
      "Epoch 99/200: 100%|██████████| 40/40 [00:12<00:00,  3.29it/s, loss=0.00336]\n"
     ]
    },
    {
     "name": "stdout",
     "output_type": "stream",
     "text": [
      "0.0035016270820051433 tensor(0.5331, device='cuda:0', grad_fn=<UnbindBackward0>) tensor(-0.5369, device='cuda:0', grad_fn=<UnbindBackward0>) tensor(0.0360, device='cuda:0', grad_fn=<DivBackward0>) tensor(-0.0392, device='cuda:0', grad_fn=<DivBackward0>)\n"
     ]
    },
    {
     "name": "stderr",
     "output_type": "stream",
     "text": [
      "Evaluating:: 100%|██████████| 10/10 [00:09<00:00,  1.04it/s]\n"
     ]
    },
    {
     "name": "stdout",
     "output_type": "stream",
     "text": [
      "Evaluate finish\n",
      "=====epoch: 100 2023-08-05 14:21:24\n",
      "on training:\n"
     ]
    },
    {
     "name": "stderr",
     "output_type": "stream",
     "text": [
      "Epoch 100/200: 100%|██████████| 40/40 [00:12<00:00,  3.24it/s, loss=0.00336]\n"
     ]
    },
    {
     "name": "stdout",
     "output_type": "stream",
     "text": [
      "0.003441900381585583 tensor(0.5984, device='cuda:0', grad_fn=<UnbindBackward0>) tensor(-0.5210, device='cuda:0', grad_fn=<UnbindBackward0>) tensor(0.0355, device='cuda:0', grad_fn=<DivBackward0>) tensor(-0.0389, device='cuda:0', grad_fn=<DivBackward0>)\n"
     ]
    },
    {
     "name": "stderr",
     "output_type": "stream",
     "text": [
      "Evaluating:: 100%|██████████| 10/10 [00:09<00:00,  1.01it/s]\n"
     ]
    },
    {
     "name": "stdout",
     "output_type": "stream",
     "text": [
      "Evaluate finish\n",
      "=====epoch: 101 2023-08-05 14:21:46\n",
      "on training:\n"
     ]
    },
    {
     "name": "stderr",
     "output_type": "stream",
     "text": [
      "Epoch 101/200: 100%|██████████| 40/40 [00:12<00:00,  3.18it/s, loss=0.00318]\n"
     ]
    },
    {
     "name": "stdout",
     "output_type": "stream",
     "text": [
      "0.0033895775908604265 tensor(0.5470, device='cuda:0', grad_fn=<UnbindBackward0>) tensor(-0.5320, device='cuda:0', grad_fn=<UnbindBackward0>) tensor(0.0351, device='cuda:0', grad_fn=<DivBackward0>) tensor(-0.0386, device='cuda:0', grad_fn=<DivBackward0>)\n"
     ]
    },
    {
     "name": "stderr",
     "output_type": "stream",
     "text": [
      "Evaluating:: 100%|██████████| 10/10 [00:09<00:00,  1.00it/s]\n"
     ]
    },
    {
     "name": "stdout",
     "output_type": "stream",
     "text": [
      "Evaluate finish\n",
      "=====epoch: 102 2023-08-05 14:22:09\n",
      "on training:\n"
     ]
    },
    {
     "name": "stderr",
     "output_type": "stream",
     "text": [
      "Epoch 102/200: 100%|██████████| 40/40 [00:13<00:00,  2.95it/s, loss=0.00368]\n"
     ]
    },
    {
     "name": "stdout",
     "output_type": "stream",
     "text": [
      "0.0033515608636662366 tensor(0.4957, device='cuda:0', grad_fn=<UnbindBackward0>) tensor(-0.5134, device='cuda:0', grad_fn=<UnbindBackward0>) tensor(0.0347, device='cuda:0', grad_fn=<DivBackward0>) tensor(-0.0381, device='cuda:0', grad_fn=<DivBackward0>)\n"
     ]
    },
    {
     "name": "stderr",
     "output_type": "stream",
     "text": [
      "Evaluating:: 100%|██████████| 10/10 [00:09<00:00,  1.02it/s]\n"
     ]
    },
    {
     "name": "stdout",
     "output_type": "stream",
     "text": [
      "Evaluate finish\n",
      "valid_mae: 0.02120629884302616 Saving checkpoint...\n"
     ]
    },
    {
     "name": "stderr",
     "output_type": "stream",
     "text": [
      "Testing:: 100%|██████████| 1/1 [00:02<00:00,  2.87s/it]\n"
     ]
    },
    {
     "name": "stdout",
     "output_type": "stream",
     "text": [
      "Test finish\n",
      "=====epoch: 103 2023-08-05 14:22:35\n",
      "on training:\n"
     ]
    },
    {
     "name": "stderr",
     "output_type": "stream",
     "text": [
      "Epoch 103/200: 100%|██████████| 40/40 [00:12<00:00,  3.19it/s, loss=0.00360]\n"
     ]
    },
    {
     "name": "stdout",
     "output_type": "stream",
     "text": [
      "0.0033427061222027986 tensor(0.5065, device='cuda:0', grad_fn=<UnbindBackward0>) tensor(-0.5309, device='cuda:0', grad_fn=<UnbindBackward0>) tensor(0.0348, device='cuda:0', grad_fn=<DivBackward0>) tensor(-0.0380, device='cuda:0', grad_fn=<DivBackward0>)\n"
     ]
    },
    {
     "name": "stderr",
     "output_type": "stream",
     "text": [
      "Evaluating:: 100%|██████████| 10/10 [00:09<00:00,  1.02it/s]\n"
     ]
    },
    {
     "name": "stdout",
     "output_type": "stream",
     "text": [
      "Evaluate finish\n",
      "=====epoch: 104 2023-08-05 14:22:57\n",
      "on training:\n"
     ]
    },
    {
     "name": "stderr",
     "output_type": "stream",
     "text": [
      "Epoch 104/200: 100%|██████████| 40/40 [00:12<00:00,  3.33it/s, loss=0.00324]\n"
     ]
    },
    {
     "name": "stdout",
     "output_type": "stream",
     "text": [
      "0.003259565366897732 tensor(0.4940, device='cuda:0', grad_fn=<UnbindBackward0>) tensor(-0.5638, device='cuda:0', grad_fn=<UnbindBackward0>) tensor(0.0344, device='cuda:0', grad_fn=<DivBackward0>) tensor(-0.0373, device='cuda:0', grad_fn=<DivBackward0>)\n"
     ]
    },
    {
     "name": "stderr",
     "output_type": "stream",
     "text": [
      "Evaluating:: 100%|██████████| 10/10 [00:09<00:00,  1.02it/s]\n"
     ]
    },
    {
     "name": "stdout",
     "output_type": "stream",
     "text": [
      "Evaluate finish\n",
      "=====epoch: 105 2023-08-05 14:23:19\n",
      "on training:\n"
     ]
    },
    {
     "name": "stderr",
     "output_type": "stream",
     "text": [
      "Epoch 105/200: 100%|██████████| 40/40 [00:11<00:00,  3.34it/s, loss=0.00288]\n"
     ]
    },
    {
     "name": "stdout",
     "output_type": "stream",
     "text": [
      "0.0032304333231877535 tensor(0.4853, device='cuda:0', grad_fn=<UnbindBackward0>) tensor(-0.5180, device='cuda:0', grad_fn=<UnbindBackward0>) tensor(0.0341, device='cuda:0', grad_fn=<DivBackward0>) tensor(-0.0371, device='cuda:0', grad_fn=<DivBackward0>)\n"
     ]
    },
    {
     "name": "stderr",
     "output_type": "stream",
     "text": [
      "Evaluating:: 100%|██████████| 10/10 [00:09<00:00,  1.00it/s]\n"
     ]
    },
    {
     "name": "stdout",
     "output_type": "stream",
     "text": [
      "Evaluate finish\n",
      "=====epoch: 106 2023-08-05 14:23:41\n",
      "on training:\n"
     ]
    },
    {
     "name": "stderr",
     "output_type": "stream",
     "text": [
      "Epoch 106/200: 100%|██████████| 40/40 [00:12<00:00,  3.30it/s, loss=0.00295]\n"
     ]
    },
    {
     "name": "stdout",
     "output_type": "stream",
     "text": [
      "0.0032119502080604433 tensor(0.5202, device='cuda:0', grad_fn=<UnbindBackward0>) tensor(-0.5468, device='cuda:0', grad_fn=<UnbindBackward0>) tensor(0.0337, device='cuda:0', grad_fn=<DivBackward0>) tensor(-0.0369, device='cuda:0', grad_fn=<DivBackward0>)\n"
     ]
    },
    {
     "name": "stderr",
     "output_type": "stream",
     "text": [
      "Evaluating:: 100%|██████████| 10/10 [00:09<00:00,  1.03it/s]\n"
     ]
    },
    {
     "name": "stdout",
     "output_type": "stream",
     "text": [
      "Evaluate finish\n",
      "=====epoch: 107 2023-08-05 14:24:03\n",
      "on training:\n"
     ]
    },
    {
     "name": "stderr",
     "output_type": "stream",
     "text": [
      "Epoch 107/200: 100%|██████████| 40/40 [00:11<00:00,  3.45it/s, loss=0.00303]\n"
     ]
    },
    {
     "name": "stdout",
     "output_type": "stream",
     "text": [
      "0.0031747058848850427 tensor(0.5100, device='cuda:0', grad_fn=<UnbindBackward0>) tensor(-0.5029, device='cuda:0', grad_fn=<UnbindBackward0>) tensor(0.0334, device='cuda:0', grad_fn=<DivBackward0>) tensor(-0.0367, device='cuda:0', grad_fn=<DivBackward0>)\n"
     ]
    },
    {
     "name": "stderr",
     "output_type": "stream",
     "text": [
      "Evaluating:: 100%|██████████| 10/10 [00:09<00:00,  1.03it/s]\n"
     ]
    },
    {
     "name": "stdout",
     "output_type": "stream",
     "text": [
      "Evaluate finish\n",
      "=====epoch: 108 2023-08-05 14:24:24\n",
      "on training:\n"
     ]
    },
    {
     "name": "stderr",
     "output_type": "stream",
     "text": [
      "Epoch 108/200: 100%|██████████| 40/40 [00:12<00:00,  3.33it/s, loss=0.00315]\n"
     ]
    },
    {
     "name": "stdout",
     "output_type": "stream",
     "text": [
      "0.0031436051707714797 tensor(0.5064, device='cuda:0', grad_fn=<UnbindBackward0>) tensor(-0.5046, device='cuda:0', grad_fn=<UnbindBackward0>) tensor(0.0333, device='cuda:0', grad_fn=<DivBackward0>) tensor(-0.0363, device='cuda:0', grad_fn=<DivBackward0>)\n"
     ]
    },
    {
     "name": "stderr",
     "output_type": "stream",
     "text": [
      "Evaluating:: 100%|██████████| 10/10 [00:09<00:00,  1.02it/s]\n"
     ]
    },
    {
     "name": "stdout",
     "output_type": "stream",
     "text": [
      "Evaluate finish\n",
      "=====epoch: 109 2023-08-05 14:24:46\n",
      "on training:\n"
     ]
    },
    {
     "name": "stderr",
     "output_type": "stream",
     "text": [
      "Epoch 109/200: 100%|██████████| 40/40 [00:12<00:00,  3.25it/s, loss=0.00300]\n"
     ]
    },
    {
     "name": "stdout",
     "output_type": "stream",
     "text": [
      "0.0031084536574780943 tensor(0.5052, device='cuda:0', grad_fn=<UnbindBackward0>) tensor(-0.5195, device='cuda:0', grad_fn=<UnbindBackward0>) tensor(0.0330, device='cuda:0', grad_fn=<DivBackward0>) tensor(-0.0360, device='cuda:0', grad_fn=<DivBackward0>)\n"
     ]
    },
    {
     "name": "stderr",
     "output_type": "stream",
     "text": [
      "Evaluating:: 100%|██████████| 10/10 [00:09<00:00,  1.03it/s]\n"
     ]
    },
    {
     "name": "stdout",
     "output_type": "stream",
     "text": [
      "Evaluate finish\n",
      "=====epoch: 110 2023-08-05 14:25:08\n",
      "on training:\n"
     ]
    },
    {
     "name": "stderr",
     "output_type": "stream",
     "text": [
      "Epoch 110/200: 100%|██████████| 40/40 [00:12<00:00,  3.15it/s, loss=0.00279]\n"
     ]
    },
    {
     "name": "stdout",
     "output_type": "stream",
     "text": [
      "0.0030788183386903254 tensor(0.4873, device='cuda:0', grad_fn=<UnbindBackward0>) tensor(-0.4820, device='cuda:0', grad_fn=<UnbindBackward0>) tensor(0.0327, device='cuda:0', grad_fn=<DivBackward0>) tensor(-0.0358, device='cuda:0', grad_fn=<DivBackward0>)\n"
     ]
    },
    {
     "name": "stderr",
     "output_type": "stream",
     "text": [
      "Evaluating:: 100%|██████████| 10/10 [00:09<00:00,  1.04it/s]\n"
     ]
    },
    {
     "name": "stdout",
     "output_type": "stream",
     "text": [
      "Evaluate finish\n",
      "=====epoch: 111 2023-08-05 14:25:30\n",
      "on training:\n"
     ]
    },
    {
     "name": "stderr",
     "output_type": "stream",
     "text": [
      "Epoch 111/200: 100%|██████████| 40/40 [00:12<00:00,  3.16it/s, loss=0.00295]\n"
     ]
    },
    {
     "name": "stdout",
     "output_type": "stream",
     "text": [
      "0.0030635406321380286 tensor(0.4758, device='cuda:0', grad_fn=<UnbindBackward0>) tensor(-0.5043, device='cuda:0', grad_fn=<UnbindBackward0>) tensor(0.0325, device='cuda:0', grad_fn=<DivBackward0>) tensor(-0.0355, device='cuda:0', grad_fn=<DivBackward0>)\n"
     ]
    },
    {
     "name": "stderr",
     "output_type": "stream",
     "text": [
      "Evaluating:: 100%|██████████| 10/10 [00:09<00:00,  1.02it/s]\n"
     ]
    },
    {
     "name": "stdout",
     "output_type": "stream",
     "text": [
      "Evaluate finish\n",
      "valid_mae: 0.02063966728746891 Saving checkpoint...\n"
     ]
    },
    {
     "name": "stderr",
     "output_type": "stream",
     "text": [
      "Testing:: 100%|██████████| 1/1 [00:02<00:00,  2.67s/it]\n"
     ]
    },
    {
     "name": "stdout",
     "output_type": "stream",
     "text": [
      "Test finish\n",
      "=====epoch: 112 2023-08-05 14:25:55\n",
      "on training:\n"
     ]
    },
    {
     "name": "stderr",
     "output_type": "stream",
     "text": [
      "Epoch 112/200: 100%|██████████| 40/40 [00:12<00:00,  3.12it/s, loss=0.00272]\n"
     ]
    },
    {
     "name": "stdout",
     "output_type": "stream",
     "text": [
      "0.0030218152969609946 tensor(0.4820, device='cuda:0', grad_fn=<UnbindBackward0>) tensor(-0.5063, device='cuda:0', grad_fn=<UnbindBackward0>) tensor(0.0323, device='cuda:0', grad_fn=<DivBackward0>) tensor(-0.0353, device='cuda:0', grad_fn=<DivBackward0>)\n"
     ]
    },
    {
     "name": "stderr",
     "output_type": "stream",
     "text": [
      "Evaluating:: 100%|██████████| 10/10 [00:09<00:00,  1.04it/s]\n"
     ]
    },
    {
     "name": "stdout",
     "output_type": "stream",
     "text": [
      "Evaluate finish\n",
      "=====epoch: 113 2023-08-05 14:26:18\n",
      "on training:\n"
     ]
    },
    {
     "name": "stderr",
     "output_type": "stream",
     "text": [
      "Epoch 113/200: 100%|██████████| 40/40 [00:12<00:00,  3.17it/s, loss=0.00261]\n"
     ]
    },
    {
     "name": "stdout",
     "output_type": "stream",
     "text": [
      "0.002989006630377844 tensor(0.5092, device='cuda:0', grad_fn=<UnbindBackward0>) tensor(-0.5013, device='cuda:0', grad_fn=<UnbindBackward0>) tensor(0.0320, device='cuda:0', grad_fn=<DivBackward0>) tensor(-0.0349, device='cuda:0', grad_fn=<DivBackward0>)\n"
     ]
    },
    {
     "name": "stderr",
     "output_type": "stream",
     "text": [
      "Evaluating:: 100%|██████████| 10/10 [00:09<00:00,  1.02it/s]\n"
     ]
    },
    {
     "name": "stdout",
     "output_type": "stream",
     "text": [
      "Evaluate finish\n",
      "=====epoch: 114 2023-08-05 14:26:40\n",
      "on training:\n"
     ]
    },
    {
     "name": "stderr",
     "output_type": "stream",
     "text": [
      "Epoch 114/200: 100%|██████████| 40/40 [00:12<00:00,  3.27it/s, loss=0.00269]\n"
     ]
    },
    {
     "name": "stdout",
     "output_type": "stream",
     "text": [
      "0.0029509791056625545 tensor(0.4814, device='cuda:0', grad_fn=<UnbindBackward0>) tensor(-0.5079, device='cuda:0', grad_fn=<UnbindBackward0>) tensor(0.0318, device='cuda:0', grad_fn=<DivBackward0>) tensor(-0.0347, device='cuda:0', grad_fn=<DivBackward0>)\n"
     ]
    },
    {
     "name": "stderr",
     "output_type": "stream",
     "text": [
      "Evaluating:: 100%|██████████| 10/10 [00:09<00:00,  1.00it/s]\n"
     ]
    },
    {
     "name": "stdout",
     "output_type": "stream",
     "text": [
      "Evaluate finish\n",
      "=====epoch: 115 2023-08-05 14:27:02\n",
      "on training:\n"
     ]
    },
    {
     "name": "stderr",
     "output_type": "stream",
     "text": [
      "Epoch 115/200: 100%|██████████| 40/40 [00:12<00:00,  3.22it/s, loss=0.00284]\n"
     ]
    },
    {
     "name": "stdout",
     "output_type": "stream",
     "text": [
      "0.0029241164040286092 tensor(0.4987, device='cuda:0', grad_fn=<UnbindBackward0>) tensor(-0.5177, device='cuda:0', grad_fn=<UnbindBackward0>) tensor(0.0316, device='cuda:0', grad_fn=<DivBackward0>) tensor(-0.0344, device='cuda:0', grad_fn=<DivBackward0>)\n"
     ]
    },
    {
     "name": "stderr",
     "output_type": "stream",
     "text": [
      "Evaluating:: 100%|██████████| 10/10 [00:09<00:00,  1.02it/s]\n"
     ]
    },
    {
     "name": "stdout",
     "output_type": "stream",
     "text": [
      "Evaluate finish\n",
      "=====epoch: 116 2023-08-05 14:27:25\n",
      "on training:\n"
     ]
    },
    {
     "name": "stderr",
     "output_type": "stream",
     "text": [
      "Epoch 116/200: 100%|██████████| 40/40 [00:12<00:00,  3.10it/s, loss=0.00296]\n"
     ]
    },
    {
     "name": "stdout",
     "output_type": "stream",
     "text": [
      "0.002894710563123226 tensor(0.4874, device='cuda:0', grad_fn=<UnbindBackward0>) tensor(-0.5134, device='cuda:0', grad_fn=<UnbindBackward0>) tensor(0.0312, device='cuda:0', grad_fn=<DivBackward0>) tensor(-0.0341, device='cuda:0', grad_fn=<DivBackward0>)\n"
     ]
    },
    {
     "name": "stderr",
     "output_type": "stream",
     "text": [
      "Evaluating:: 100%|██████████| 10/10 [00:10<00:00,  1.03s/it]\n"
     ]
    },
    {
     "name": "stdout",
     "output_type": "stream",
     "text": [
      "Evaluate finish\n",
      "=====epoch: 117 2023-08-05 14:27:48\n",
      "on training:\n"
     ]
    },
    {
     "name": "stderr",
     "output_type": "stream",
     "text": [
      "Epoch 117/200: 100%|██████████| 40/40 [00:12<00:00,  3.31it/s, loss=0.00267]\n"
     ]
    },
    {
     "name": "stdout",
     "output_type": "stream",
     "text": [
      "0.0028554665856063365 tensor(0.4724, device='cuda:0', grad_fn=<UnbindBackward0>) tensor(-0.4948, device='cuda:0', grad_fn=<UnbindBackward0>) tensor(0.0312, device='cuda:0', grad_fn=<DivBackward0>) tensor(-0.0337, device='cuda:0', grad_fn=<DivBackward0>)\n"
     ]
    },
    {
     "name": "stderr",
     "output_type": "stream",
     "text": [
      "Evaluating:: 100%|██████████| 10/10 [00:09<00:00,  1.03it/s]\n"
     ]
    },
    {
     "name": "stdout",
     "output_type": "stream",
     "text": [
      "Evaluate finish\n",
      "=====epoch: 118 2023-08-05 14:28:10\n",
      "on training:\n"
     ]
    },
    {
     "name": "stderr",
     "output_type": "stream",
     "text": [
      "Epoch 118/200: 100%|██████████| 40/40 [00:12<00:00,  3.26it/s, loss=0.00268]\n"
     ]
    },
    {
     "name": "stdout",
     "output_type": "stream",
     "text": [
      "0.0028362022363580762 tensor(0.4634, device='cuda:0', grad_fn=<UnbindBackward0>) tensor(-0.4813, device='cuda:0', grad_fn=<UnbindBackward0>) tensor(0.0308, device='cuda:0', grad_fn=<DivBackward0>) tensor(-0.0336, device='cuda:0', grad_fn=<DivBackward0>)\n"
     ]
    },
    {
     "name": "stderr",
     "output_type": "stream",
     "text": [
      "Evaluating:: 100%|██████████| 10/10 [00:09<00:00,  1.01it/s]\n"
     ]
    },
    {
     "name": "stdout",
     "output_type": "stream",
     "text": [
      "Evaluate finish\n",
      "=====epoch: 119 2023-08-05 14:28:32\n",
      "on training:\n"
     ]
    },
    {
     "name": "stderr",
     "output_type": "stream",
     "text": [
      "Epoch 119/200: 100%|██████████| 40/40 [00:12<00:00,  3.12it/s, loss=0.00293]\n"
     ]
    },
    {
     "name": "stdout",
     "output_type": "stream",
     "text": [
      "0.0028160235669929534 tensor(0.5283, device='cuda:0', grad_fn=<UnbindBackward0>) tensor(-0.4698, device='cuda:0', grad_fn=<UnbindBackward0>) tensor(0.0307, device='cuda:0', grad_fn=<DivBackward0>) tensor(-0.0334, device='cuda:0', grad_fn=<DivBackward0>)\n"
     ]
    },
    {
     "name": "stderr",
     "output_type": "stream",
     "text": [
      "Evaluating:: 100%|██████████| 10/10 [00:09<00:00,  1.02it/s]\n"
     ]
    },
    {
     "name": "stdout",
     "output_type": "stream",
     "text": [
      "Evaluate finish\n",
      "valid_mae: 0.020408064126968384 Saving checkpoint...\n"
     ]
    },
    {
     "name": "stderr",
     "output_type": "stream",
     "text": [
      "Testing:: 100%|██████████| 1/1 [00:02<00:00,  2.68s/it]\n"
     ]
    },
    {
     "name": "stdout",
     "output_type": "stream",
     "text": [
      "Test finish\n",
      "=====epoch: 120 2023-08-05 14:28:57\n",
      "on training:\n"
     ]
    },
    {
     "name": "stderr",
     "output_type": "stream",
     "text": [
      "Epoch 120/200: 100%|██████████| 40/40 [00:12<00:00,  3.23it/s, loss=0.00280]\n"
     ]
    },
    {
     "name": "stdout",
     "output_type": "stream",
     "text": [
      "0.0027890849742107093 tensor(0.5027, device='cuda:0', grad_fn=<UnbindBackward0>) tensor(-0.4950, device='cuda:0', grad_fn=<UnbindBackward0>) tensor(0.0304, device='cuda:0', grad_fn=<DivBackward0>) tensor(-0.0331, device='cuda:0', grad_fn=<DivBackward0>)\n"
     ]
    },
    {
     "name": "stderr",
     "output_type": "stream",
     "text": [
      "Evaluating:: 100%|██████████| 10/10 [00:09<00:00,  1.03it/s]\n"
     ]
    },
    {
     "name": "stdout",
     "output_type": "stream",
     "text": [
      "Evaluate finish\n",
      "=====epoch: 121 2023-08-05 14:29:19\n",
      "on training:\n"
     ]
    },
    {
     "name": "stderr",
     "output_type": "stream",
     "text": [
      "Epoch 121/200: 100%|██████████| 40/40 [00:12<00:00,  3.24it/s, loss=0.00292]\n"
     ]
    },
    {
     "name": "stdout",
     "output_type": "stream",
     "text": [
      "0.0027557473455090075 tensor(0.4578, device='cuda:0', grad_fn=<UnbindBackward0>) tensor(-0.4659, device='cuda:0', grad_fn=<UnbindBackward0>) tensor(0.0302, device='cuda:0', grad_fn=<DivBackward0>) tensor(-0.0328, device='cuda:0', grad_fn=<DivBackward0>)\n"
     ]
    },
    {
     "name": "stderr",
     "output_type": "stream",
     "text": [
      "Evaluating:: 100%|██████████| 10/10 [00:09<00:00,  1.04it/s]\n"
     ]
    },
    {
     "name": "stdout",
     "output_type": "stream",
     "text": [
      "Evaluate finish\n",
      "=====epoch: 122 2023-08-05 14:29:41\n",
      "on training:\n"
     ]
    },
    {
     "name": "stderr",
     "output_type": "stream",
     "text": [
      "Epoch 122/200: 100%|██████████| 40/40 [00:12<00:00,  3.14it/s, loss=0.00320]\n"
     ]
    },
    {
     "name": "stdout",
     "output_type": "stream",
     "text": [
      "0.0027370636991690843 tensor(0.4683, device='cuda:0', grad_fn=<UnbindBackward0>) tensor(-0.5192, device='cuda:0', grad_fn=<UnbindBackward0>) tensor(0.0301, device='cuda:0', grad_fn=<DivBackward0>) tensor(-0.0325, device='cuda:0', grad_fn=<DivBackward0>)\n"
     ]
    },
    {
     "name": "stderr",
     "output_type": "stream",
     "text": [
      "Evaluating:: 100%|██████████| 10/10 [00:10<00:00,  1.01s/it]\n"
     ]
    },
    {
     "name": "stdout",
     "output_type": "stream",
     "text": [
      "Evaluate finish\n",
      "=====epoch: 123 2023-08-05 14:30:04\n",
      "on training:\n"
     ]
    },
    {
     "name": "stderr",
     "output_type": "stream",
     "text": [
      "Epoch 123/200: 100%|██████████| 40/40 [00:13<00:00,  2.98it/s, loss=0.00261]\n"
     ]
    },
    {
     "name": "stdout",
     "output_type": "stream",
     "text": [
      "0.002740030991844833 tensor(0.5076, device='cuda:0', grad_fn=<UnbindBackward0>) tensor(-0.4850, device='cuda:0', grad_fn=<UnbindBackward0>) tensor(0.0299, device='cuda:0', grad_fn=<DivBackward0>) tensor(-0.0324, device='cuda:0', grad_fn=<DivBackward0>)\n"
     ]
    },
    {
     "name": "stderr",
     "output_type": "stream",
     "text": [
      "Evaluating:: 100%|██████████| 10/10 [00:09<00:00,  1.01it/s]\n"
     ]
    },
    {
     "name": "stdout",
     "output_type": "stream",
     "text": [
      "Evaluate finish\n",
      "valid_mae: 0.01991759054362774 Saving checkpoint...\n"
     ]
    },
    {
     "name": "stderr",
     "output_type": "stream",
     "text": [
      "Testing:: 100%|██████████| 1/1 [00:02<00:00,  2.73s/it]\n"
     ]
    },
    {
     "name": "stdout",
     "output_type": "stream",
     "text": [
      "Test finish\n",
      "=====epoch: 124 2023-08-05 14:30:30\n",
      "on training:\n"
     ]
    },
    {
     "name": "stderr",
     "output_type": "stream",
     "text": [
      "Epoch 124/200: 100%|██████████| 40/40 [00:13<00:00,  3.02it/s, loss=0.00275]\n"
     ]
    },
    {
     "name": "stdout",
     "output_type": "stream",
     "text": [
      "0.0026798310689628126 tensor(0.5167, device='cuda:0', grad_fn=<UnbindBackward0>) tensor(-0.4685, device='cuda:0', grad_fn=<UnbindBackward0>) tensor(0.0296, device='cuda:0', grad_fn=<DivBackward0>) tensor(-0.0319, device='cuda:0', grad_fn=<DivBackward0>)\n"
     ]
    },
    {
     "name": "stderr",
     "output_type": "stream",
     "text": [
      "Evaluating:: 100%|██████████| 10/10 [00:09<00:00,  1.01it/s]\n"
     ]
    },
    {
     "name": "stdout",
     "output_type": "stream",
     "text": [
      "Evaluate finish\n",
      "valid_mae: 0.019717693328857422 Saving checkpoint...\n"
     ]
    },
    {
     "name": "stderr",
     "output_type": "stream",
     "text": [
      "Testing:: 100%|██████████| 1/1 [00:02<00:00,  2.63s/it]\n"
     ]
    },
    {
     "name": "stdout",
     "output_type": "stream",
     "text": [
      "Test finish\n",
      "=====epoch: 125 2023-08-05 14:30:56\n",
      "on training:\n"
     ]
    },
    {
     "name": "stderr",
     "output_type": "stream",
     "text": [
      "Epoch 125/200: 100%|██████████| 40/40 [00:13<00:00,  3.01it/s, loss=0.00275]\n"
     ]
    },
    {
     "name": "stdout",
     "output_type": "stream",
     "text": [
      "0.0026625785860233007 tensor(0.4750, device='cuda:0', grad_fn=<UnbindBackward0>) tensor(-0.4754, device='cuda:0', grad_fn=<UnbindBackward0>) tensor(0.0295, device='cuda:0', grad_fn=<DivBackward0>) tensor(-0.0318, device='cuda:0', grad_fn=<DivBackward0>)\n"
     ]
    },
    {
     "name": "stderr",
     "output_type": "stream",
     "text": [
      "Evaluating:: 100%|██████████| 10/10 [00:09<00:00,  1.02it/s]\n"
     ]
    },
    {
     "name": "stdout",
     "output_type": "stream",
     "text": [
      "Evaluate finish\n",
      "=====epoch: 126 2023-08-05 14:31:19\n",
      "on training:\n"
     ]
    },
    {
     "name": "stderr",
     "output_type": "stream",
     "text": [
      "Epoch 126/200: 100%|██████████| 40/40 [00:13<00:00,  3.06it/s, loss=0.00249]\n"
     ]
    },
    {
     "name": "stdout",
     "output_type": "stream",
     "text": [
      "0.0026661980256903915 tensor(0.4824, device='cuda:0', grad_fn=<UnbindBackward0>) tensor(-0.4885, device='cuda:0', grad_fn=<UnbindBackward0>) tensor(0.0294, device='cuda:0', grad_fn=<DivBackward0>) tensor(-0.0316, device='cuda:0', grad_fn=<DivBackward0>)\n"
     ]
    },
    {
     "name": "stderr",
     "output_type": "stream",
     "text": [
      "Evaluating:: 100%|██████████| 10/10 [00:10<00:00,  1.00s/it]\n"
     ]
    },
    {
     "name": "stdout",
     "output_type": "stream",
     "text": [
      "Evaluate finish\n",
      "=====epoch: 127 2023-08-05 14:31:42\n",
      "on training:\n"
     ]
    },
    {
     "name": "stderr",
     "output_type": "stream",
     "text": [
      "Epoch 127/200: 100%|██████████| 40/40 [00:13<00:00,  2.99it/s, loss=0.00226]\n"
     ]
    },
    {
     "name": "stdout",
     "output_type": "stream",
     "text": [
      "0.0026309813896659763 tensor(0.5556, device='cuda:0', grad_fn=<UnbindBackward0>) tensor(-0.5309, device='cuda:0', grad_fn=<UnbindBackward0>) tensor(0.0291, device='cuda:0', grad_fn=<DivBackward0>) tensor(-0.0315, device='cuda:0', grad_fn=<DivBackward0>)\n"
     ]
    },
    {
     "name": "stderr",
     "output_type": "stream",
     "text": [
      "Evaluating:: 100%|██████████| 10/10 [00:09<00:00,  1.01it/s]\n"
     ]
    },
    {
     "name": "stdout",
     "output_type": "stream",
     "text": [
      "Evaluate finish\n",
      "valid_mae: 0.019211525097489357 Saving checkpoint...\n"
     ]
    },
    {
     "name": "stderr",
     "output_type": "stream",
     "text": [
      "Testing:: 100%|██████████| 1/1 [00:02<00:00,  2.60s/it]\n"
     ]
    },
    {
     "name": "stdout",
     "output_type": "stream",
     "text": [
      "Test finish\n",
      "=====epoch: 128 2023-08-05 14:32:08\n",
      "on training:\n"
     ]
    },
    {
     "name": "stderr",
     "output_type": "stream",
     "text": [
      "Epoch 128/200: 100%|██████████| 40/40 [00:14<00:00,  2.83it/s, loss=0.00242]\n"
     ]
    },
    {
     "name": "stdout",
     "output_type": "stream",
     "text": [
      "0.0026099808048456906 tensor(0.4576, device='cuda:0', grad_fn=<UnbindBackward0>) tensor(-0.5035, device='cuda:0', grad_fn=<UnbindBackward0>) tensor(0.0290, device='cuda:0', grad_fn=<DivBackward0>) tensor(-0.0312, device='cuda:0', grad_fn=<DivBackward0>)\n"
     ]
    },
    {
     "name": "stderr",
     "output_type": "stream",
     "text": [
      "Evaluating:: 100%|██████████| 10/10 [00:09<00:00,  1.01it/s]\n"
     ]
    },
    {
     "name": "stdout",
     "output_type": "stream",
     "text": [
      "Evaluate finish\n",
      "=====epoch: 129 2023-08-05 14:32:32\n",
      "on training:\n"
     ]
    },
    {
     "name": "stderr",
     "output_type": "stream",
     "text": [
      "Epoch 129/200: 100%|██████████| 40/40 [00:12<00:00,  3.10it/s, loss=0.00280]\n"
     ]
    },
    {
     "name": "stdout",
     "output_type": "stream",
     "text": [
      "0.002605900424532592 tensor(0.4630, device='cuda:0', grad_fn=<UnbindBackward0>) tensor(-0.4862, device='cuda:0', grad_fn=<UnbindBackward0>) tensor(0.0287, device='cuda:0', grad_fn=<DivBackward0>) tensor(-0.0311, device='cuda:0', grad_fn=<DivBackward0>)\n"
     ]
    },
    {
     "name": "stderr",
     "output_type": "stream",
     "text": [
      "Evaluating:: 100%|██████████| 10/10 [00:09<00:00,  1.05it/s]\n"
     ]
    },
    {
     "name": "stdout",
     "output_type": "stream",
     "text": [
      "Evaluate finish\n",
      "=====epoch: 130 2023-08-05 14:32:55\n",
      "on training:\n"
     ]
    },
    {
     "name": "stderr",
     "output_type": "stream",
     "text": [
      "Epoch 130/200: 100%|██████████| 40/40 [00:12<00:00,  3.19it/s, loss=0.00264]\n"
     ]
    },
    {
     "name": "stdout",
     "output_type": "stream",
     "text": [
      "0.0025801900017540904 tensor(0.5009, device='cuda:0', grad_fn=<UnbindBackward0>) tensor(-0.4715, device='cuda:0', grad_fn=<UnbindBackward0>) tensor(0.0286, device='cuda:0', grad_fn=<DivBackward0>) tensor(-0.0309, device='cuda:0', grad_fn=<DivBackward0>)\n"
     ]
    },
    {
     "name": "stderr",
     "output_type": "stream",
     "text": [
      "Evaluating:: 100%|██████████| 10/10 [00:09<00:00,  1.02it/s]\n"
     ]
    },
    {
     "name": "stdout",
     "output_type": "stream",
     "text": [
      "Evaluate finish\n",
      "=====epoch: 131 2023-08-05 14:33:17\n",
      "on training:\n"
     ]
    },
    {
     "name": "stderr",
     "output_type": "stream",
     "text": [
      "Epoch 131/200: 100%|██████████| 40/40 [00:12<00:00,  3.20it/s, loss=0.00244]\n"
     ]
    },
    {
     "name": "stdout",
     "output_type": "stream",
     "text": [
      "0.0025487689999863505 tensor(0.4622, device='cuda:0', grad_fn=<UnbindBackward0>) tensor(-0.5009, device='cuda:0', grad_fn=<UnbindBackward0>) tensor(0.0283, device='cuda:0', grad_fn=<DivBackward0>) tensor(-0.0306, device='cuda:0', grad_fn=<DivBackward0>)\n"
     ]
    },
    {
     "name": "stderr",
     "output_type": "stream",
     "text": [
      "Evaluating:: 100%|██████████| 10/10 [00:09<00:00,  1.01it/s]\n"
     ]
    },
    {
     "name": "stdout",
     "output_type": "stream",
     "text": [
      "Evaluate finish\n",
      "=====epoch: 132 2023-08-05 14:33:39\n",
      "on training:\n"
     ]
    },
    {
     "name": "stderr",
     "output_type": "stream",
     "text": [
      "Epoch 132/200: 100%|██████████| 40/40 [00:11<00:00,  3.34it/s, loss=0.00276]\n"
     ]
    },
    {
     "name": "stdout",
     "output_type": "stream",
     "text": [
      "0.0025437522737774996 tensor(0.4721, device='cuda:0', grad_fn=<UnbindBackward0>) tensor(-0.5107, device='cuda:0', grad_fn=<UnbindBackward0>) tensor(0.0283, device='cuda:0', grad_fn=<DivBackward0>) tensor(-0.0304, device='cuda:0', grad_fn=<DivBackward0>)\n"
     ]
    },
    {
     "name": "stderr",
     "output_type": "stream",
     "text": [
      "Evaluating:: 100%|██████████| 10/10 [00:09<00:00,  1.02it/s]\n"
     ]
    },
    {
     "name": "stdout",
     "output_type": "stream",
     "text": [
      "Evaluate finish\n",
      "=====epoch: 133 2023-08-05 14:34:01\n",
      "on training:\n"
     ]
    },
    {
     "name": "stderr",
     "output_type": "stream",
     "text": [
      "Epoch 133/200: 100%|██████████| 40/40 [00:12<00:00,  3.32it/s, loss=0.00269]\n"
     ]
    },
    {
     "name": "stdout",
     "output_type": "stream",
     "text": [
      "0.002493639988824725 tensor(0.4473, device='cuda:0', grad_fn=<UnbindBackward0>) tensor(-0.5122, device='cuda:0', grad_fn=<UnbindBackward0>) tensor(0.0279, device='cuda:0', grad_fn=<DivBackward0>) tensor(-0.0301, device='cuda:0', grad_fn=<DivBackward0>)\n"
     ]
    },
    {
     "name": "stderr",
     "output_type": "stream",
     "text": [
      "Evaluating:: 100%|██████████| 10/10 [00:09<00:00,  1.01it/s]\n"
     ]
    },
    {
     "name": "stdout",
     "output_type": "stream",
     "text": [
      "Evaluate finish\n",
      "=====epoch: 134 2023-08-05 14:34:23\n",
      "on training:\n"
     ]
    },
    {
     "name": "stderr",
     "output_type": "stream",
     "text": [
      "Epoch 134/200: 100%|██████████| 40/40 [00:12<00:00,  3.24it/s, loss=0.00244]\n"
     ]
    },
    {
     "name": "stdout",
     "output_type": "stream",
     "text": [
      "0.002502268791431561 tensor(0.4850, device='cuda:0', grad_fn=<UnbindBackward0>) tensor(-0.5228, device='cuda:0', grad_fn=<UnbindBackward0>) tensor(0.0279, device='cuda:0', grad_fn=<DivBackward0>) tensor(-0.0301, device='cuda:0', grad_fn=<DivBackward0>)\n"
     ]
    },
    {
     "name": "stderr",
     "output_type": "stream",
     "text": [
      "Evaluating:: 100%|██████████| 10/10 [00:10<00:00,  1.01s/it]\n"
     ]
    },
    {
     "name": "stdout",
     "output_type": "stream",
     "text": [
      "Evaluate finish\n",
      "=====epoch: 135 2023-08-05 14:34:46\n",
      "on training:\n"
     ]
    },
    {
     "name": "stderr",
     "output_type": "stream",
     "text": [
      "Epoch 135/200: 100%|██████████| 40/40 [00:11<00:00,  3.44it/s, loss=0.00215]\n"
     ]
    },
    {
     "name": "stdout",
     "output_type": "stream",
     "text": [
      "0.0024956695502623915 tensor(0.4666, device='cuda:0', grad_fn=<UnbindBackward0>) tensor(-0.4737, device='cuda:0', grad_fn=<UnbindBackward0>) tensor(0.0277, device='cuda:0', grad_fn=<DivBackward0>) tensor(-0.0299, device='cuda:0', grad_fn=<DivBackward0>)\n"
     ]
    },
    {
     "name": "stderr",
     "output_type": "stream",
     "text": [
      "Evaluating:: 100%|██████████| 10/10 [00:10<00:00,  1.02s/it]\n"
     ]
    },
    {
     "name": "stdout",
     "output_type": "stream",
     "text": [
      "Evaluate finish\n",
      "=====epoch: 136 2023-08-05 14:35:07\n",
      "on training:\n"
     ]
    },
    {
     "name": "stderr",
     "output_type": "stream",
     "text": [
      "Epoch 136/200: 100%|██████████| 40/40 [00:12<00:00,  3.21it/s, loss=0.00268]\n"
     ]
    },
    {
     "name": "stdout",
     "output_type": "stream",
     "text": [
      "0.002463649678975344 tensor(0.4500, device='cuda:0', grad_fn=<UnbindBackward0>) tensor(-0.5154, device='cuda:0', grad_fn=<UnbindBackward0>) tensor(0.0275, device='cuda:0', grad_fn=<DivBackward0>) tensor(-0.0297, device='cuda:0', grad_fn=<DivBackward0>)\n"
     ]
    },
    {
     "name": "stderr",
     "output_type": "stream",
     "text": [
      "Evaluating:: 100%|██████████| 10/10 [00:10<00:00,  1.05s/it]\n"
     ]
    },
    {
     "name": "stdout",
     "output_type": "stream",
     "text": [
      "Evaluate finish\n",
      "valid_mae: 0.018767300993204117 Saving checkpoint...\n"
     ]
    },
    {
     "name": "stderr",
     "output_type": "stream",
     "text": [
      "Testing:: 100%|██████████| 1/1 [00:03<00:00,  3.94s/it]\n"
     ]
    },
    {
     "name": "stdout",
     "output_type": "stream",
     "text": [
      "Test finish\n",
      "=====epoch: 137 2023-08-05 14:35:34\n",
      "on training:\n"
     ]
    },
    {
     "name": "stderr",
     "output_type": "stream",
     "text": [
      "Epoch 137/200: 100%|██████████| 40/40 [00:12<00:00,  3.17it/s, loss=0.00267]\n"
     ]
    },
    {
     "name": "stdout",
     "output_type": "stream",
     "text": [
      "0.0024463632493279875 tensor(0.4673, device='cuda:0', grad_fn=<UnbindBackward0>) tensor(-0.4992, device='cuda:0', grad_fn=<UnbindBackward0>) tensor(0.0273, device='cuda:0', grad_fn=<DivBackward0>) tensor(-0.0294, device='cuda:0', grad_fn=<DivBackward0>)\n"
     ]
    },
    {
     "name": "stderr",
     "output_type": "stream",
     "text": [
      "Evaluating:: 100%|██████████| 10/10 [00:10<00:00,  1.00s/it]\n"
     ]
    },
    {
     "name": "stdout",
     "output_type": "stream",
     "text": [
      "Evaluate finish\n",
      "valid_mae: 0.018694641068577766 Saving checkpoint...\n"
     ]
    },
    {
     "name": "stderr",
     "output_type": "stream",
     "text": [
      "Testing:: 100%|██████████| 1/1 [00:02<00:00,  2.65s/it]\n"
     ]
    },
    {
     "name": "stdout",
     "output_type": "stream",
     "text": [
      "Test finish\n",
      "=====epoch: 138 2023-08-05 14:36:00\n",
      "on training:\n"
     ]
    },
    {
     "name": "stderr",
     "output_type": "stream",
     "text": [
      "Epoch 138/200: 100%|██████████| 40/40 [00:13<00:00,  3.01it/s, loss=0.00228]\n"
     ]
    },
    {
     "name": "stdout",
     "output_type": "stream",
     "text": [
      "0.0024242340587079525 tensor(0.4587, device='cuda:0', grad_fn=<UnbindBackward0>) tensor(-0.4736, device='cuda:0', grad_fn=<UnbindBackward0>) tensor(0.0272, device='cuda:0', grad_fn=<DivBackward0>) tensor(-0.0292, device='cuda:0', grad_fn=<DivBackward0>)\n"
     ]
    },
    {
     "name": "stderr",
     "output_type": "stream",
     "text": [
      "Evaluating:: 100%|██████████| 10/10 [00:09<00:00,  1.02it/s]\n"
     ]
    },
    {
     "name": "stdout",
     "output_type": "stream",
     "text": [
      "Evaluate finish\n",
      "=====epoch: 139 2023-08-05 14:36:23\n",
      "on training:\n"
     ]
    },
    {
     "name": "stderr",
     "output_type": "stream",
     "text": [
      "Epoch 139/200: 100%|██████████| 40/40 [00:12<00:00,  3.17it/s, loss=0.00241]\n"
     ]
    },
    {
     "name": "stdout",
     "output_type": "stream",
     "text": [
      "0.0023950827715452762 tensor(0.4662, device='cuda:0', grad_fn=<UnbindBackward0>) tensor(-0.4545, device='cuda:0', grad_fn=<UnbindBackward0>) tensor(0.0271, device='cuda:0', grad_fn=<DivBackward0>) tensor(-0.0289, device='cuda:0', grad_fn=<DivBackward0>)\n"
     ]
    },
    {
     "name": "stderr",
     "output_type": "stream",
     "text": [
      "Evaluating:: 100%|██████████| 10/10 [00:09<00:00,  1.03it/s]\n"
     ]
    },
    {
     "name": "stdout",
     "output_type": "stream",
     "text": [
      "Evaluate finish\n",
      "=====epoch: 140 2023-08-05 14:36:45\n",
      "on training:\n"
     ]
    },
    {
     "name": "stderr",
     "output_type": "stream",
     "text": [
      "Epoch 140/200: 100%|██████████| 40/40 [00:12<00:00,  3.13it/s, loss=0.00212]\n"
     ]
    },
    {
     "name": "stdout",
     "output_type": "stream",
     "text": [
      "0.002387390495277941 tensor(0.4528, device='cuda:0', grad_fn=<UnbindBackward0>) tensor(-0.5346, device='cuda:0', grad_fn=<UnbindBackward0>) tensor(0.0269, device='cuda:0', grad_fn=<DivBackward0>) tensor(-0.0287, device='cuda:0', grad_fn=<DivBackward0>)\n"
     ]
    },
    {
     "name": "stderr",
     "output_type": "stream",
     "text": [
      "Evaluating:: 100%|██████████| 10/10 [00:10<00:00,  1.01s/it]\n"
     ]
    },
    {
     "name": "stdout",
     "output_type": "stream",
     "text": [
      "Evaluate finish\n",
      "=====epoch: 141 2023-08-05 14:37:08\n",
      "on training:\n"
     ]
    },
    {
     "name": "stderr",
     "output_type": "stream",
     "text": [
      "Epoch 141/200: 100%|██████████| 40/40 [00:12<00:00,  3.09it/s, loss=0.00252]\n"
     ]
    },
    {
     "name": "stdout",
     "output_type": "stream",
     "text": [
      "0.002371919190045446 tensor(0.4788, device='cuda:0', grad_fn=<UnbindBackward0>) tensor(-0.5061, device='cuda:0', grad_fn=<UnbindBackward0>) tensor(0.0268, device='cuda:0', grad_fn=<DivBackward0>) tensor(-0.0286, device='cuda:0', grad_fn=<DivBackward0>)\n"
     ]
    },
    {
     "name": "stderr",
     "output_type": "stream",
     "text": [
      "Evaluating:: 100%|██████████| 10/10 [00:10<00:00,  1.01s/it]\n"
     ]
    },
    {
     "name": "stdout",
     "output_type": "stream",
     "text": [
      "Evaluate finish\n",
      "=====epoch: 142 2023-08-05 14:37:31\n",
      "on training:\n"
     ]
    },
    {
     "name": "stderr",
     "output_type": "stream",
     "text": [
      "Epoch 142/200: 100%|██████████| 40/40 [00:12<00:00,  3.27it/s, loss=0.00230]\n"
     ]
    },
    {
     "name": "stdout",
     "output_type": "stream",
     "text": [
      "0.002351147957961075 tensor(0.4669, device='cuda:0', grad_fn=<UnbindBackward0>) tensor(-0.5056, device='cuda:0', grad_fn=<UnbindBackward0>) tensor(0.0266, device='cuda:0', grad_fn=<DivBackward0>) tensor(-0.0284, device='cuda:0', grad_fn=<DivBackward0>)\n"
     ]
    },
    {
     "name": "stderr",
     "output_type": "stream",
     "text": [
      "Evaluating:: 100%|██████████| 10/10 [00:09<00:00,  1.03it/s]\n"
     ]
    },
    {
     "name": "stdout",
     "output_type": "stream",
     "text": [
      "Evaluate finish\n",
      "=====epoch: 143 2023-08-05 14:37:53\n",
      "on training:\n"
     ]
    },
    {
     "name": "stderr",
     "output_type": "stream",
     "text": [
      "Epoch 143/200: 100%|██████████| 40/40 [00:12<00:00,  3.12it/s, loss=0.00235]\n"
     ]
    },
    {
     "name": "stdout",
     "output_type": "stream",
     "text": [
      "0.0023267524520633742 tensor(0.4679, device='cuda:0', grad_fn=<UnbindBackward0>) tensor(-0.4792, device='cuda:0', grad_fn=<UnbindBackward0>) tensor(0.0264, device='cuda:0', grad_fn=<DivBackward0>) tensor(-0.0280, device='cuda:0', grad_fn=<DivBackward0>)\n"
     ]
    },
    {
     "name": "stderr",
     "output_type": "stream",
     "text": [
      "Evaluating:: 100%|██████████| 10/10 [00:09<00:00,  1.03it/s]\n"
     ]
    },
    {
     "name": "stdout",
     "output_type": "stream",
     "text": [
      "Evaluate finish\n",
      "=====epoch: 144 2023-08-05 14:38:16\n",
      "on training:\n"
     ]
    },
    {
     "name": "stderr",
     "output_type": "stream",
     "text": [
      "Epoch 144/200: 100%|██████████| 40/40 [00:11<00:00,  3.35it/s, loss=0.00225]\n"
     ]
    },
    {
     "name": "stdout",
     "output_type": "stream",
     "text": [
      "0.002333198569249362 tensor(0.4808, device='cuda:0', grad_fn=<UnbindBackward0>) tensor(-0.4752, device='cuda:0', grad_fn=<UnbindBackward0>) tensor(0.0263, device='cuda:0', grad_fn=<DivBackward0>) tensor(-0.0281, device='cuda:0', grad_fn=<DivBackward0>)\n"
     ]
    },
    {
     "name": "stderr",
     "output_type": "stream",
     "text": [
      "Evaluating:: 100%|██████████| 10/10 [00:09<00:00,  1.02it/s]\n"
     ]
    },
    {
     "name": "stdout",
     "output_type": "stream",
     "text": [
      "Evaluate finish\n",
      "=====epoch: 145 2023-08-05 14:38:37\n",
      "on training:\n"
     ]
    },
    {
     "name": "stderr",
     "output_type": "stream",
     "text": [
      "Epoch 145/200: 100%|██████████| 40/40 [00:12<00:00,  3.28it/s, loss=0.00210]\n"
     ]
    },
    {
     "name": "stdout",
     "output_type": "stream",
     "text": [
      "0.0023000175016932188 tensor(0.4744, device='cuda:0', grad_fn=<UnbindBackward0>) tensor(-0.4667, device='cuda:0', grad_fn=<UnbindBackward0>) tensor(0.0261, device='cuda:0', grad_fn=<DivBackward0>) tensor(-0.0277, device='cuda:0', grad_fn=<DivBackward0>)\n"
     ]
    },
    {
     "name": "stderr",
     "output_type": "stream",
     "text": [
      "Evaluating:: 100%|██████████| 10/10 [00:09<00:00,  1.02it/s]\n"
     ]
    },
    {
     "name": "stdout",
     "output_type": "stream",
     "text": [
      "Evaluate finish\n",
      "valid_mae: 0.017768988385796547 Saving checkpoint...\n"
     ]
    },
    {
     "name": "stderr",
     "output_type": "stream",
     "text": [
      "Testing:: 100%|██████████| 1/1 [00:02<00:00,  2.64s/it]\n"
     ]
    },
    {
     "name": "stdout",
     "output_type": "stream",
     "text": [
      "Test finish\n",
      "=====epoch: 146 2023-08-05 14:39:02\n",
      "on training:\n"
     ]
    },
    {
     "name": "stderr",
     "output_type": "stream",
     "text": [
      "Epoch 146/200: 100%|██████████| 40/40 [00:12<00:00,  3.20it/s, loss=0.00230]\n"
     ]
    },
    {
     "name": "stdout",
     "output_type": "stream",
     "text": [
      "0.0023137281357776375 tensor(0.4499, device='cuda:0', grad_fn=<UnbindBackward0>) tensor(-0.4774, device='cuda:0', grad_fn=<UnbindBackward0>) tensor(0.0261, device='cuda:0', grad_fn=<DivBackward0>) tensor(-0.0277, device='cuda:0', grad_fn=<DivBackward0>)\n"
     ]
    },
    {
     "name": "stderr",
     "output_type": "stream",
     "text": [
      "Evaluating:: 100%|██████████| 10/10 [00:09<00:00,  1.04it/s]\n"
     ]
    },
    {
     "name": "stdout",
     "output_type": "stream",
     "text": [
      "Evaluate finish\n",
      "=====epoch: 147 2023-08-05 14:39:24\n",
      "on training:\n"
     ]
    },
    {
     "name": "stderr",
     "output_type": "stream",
     "text": [
      "Epoch 147/200: 100%|██████████| 40/40 [00:13<00:00,  3.04it/s, loss=0.00219]\n"
     ]
    },
    {
     "name": "stdout",
     "output_type": "stream",
     "text": [
      "0.00229017740348354 tensor(0.4543, device='cuda:0', grad_fn=<UnbindBackward0>) tensor(-0.4896, device='cuda:0', grad_fn=<UnbindBackward0>) tensor(0.0259, device='cuda:0', grad_fn=<DivBackward0>) tensor(-0.0277, device='cuda:0', grad_fn=<DivBackward0>)\n"
     ]
    },
    {
     "name": "stderr",
     "output_type": "stream",
     "text": [
      "Evaluating:: 100%|██████████| 10/10 [00:09<00:00,  1.02it/s]\n"
     ]
    },
    {
     "name": "stdout",
     "output_type": "stream",
     "text": [
      "Evaluate finish\n",
      "=====epoch: 148 2023-08-05 14:39:47\n",
      "on training:\n"
     ]
    },
    {
     "name": "stderr",
     "output_type": "stream",
     "text": [
      "Epoch 148/200: 100%|██████████| 40/40 [00:12<00:00,  3.15it/s, loss=0.00234]\n"
     ]
    },
    {
     "name": "stdout",
     "output_type": "stream",
     "text": [
      "0.002264629365527071 tensor(0.4585, device='cuda:0', grad_fn=<UnbindBackward0>) tensor(-0.4558, device='cuda:0', grad_fn=<UnbindBackward0>) tensor(0.0257, device='cuda:0', grad_fn=<DivBackward0>) tensor(-0.0272, device='cuda:0', grad_fn=<DivBackward0>)\n"
     ]
    },
    {
     "name": "stderr",
     "output_type": "stream",
     "text": [
      "Evaluating:: 100%|██████████| 10/10 [00:10<00:00,  1.02s/it]\n"
     ]
    },
    {
     "name": "stdout",
     "output_type": "stream",
     "text": [
      "Evaluate finish\n",
      "valid_mae: 0.01713867112994194 Saving checkpoint...\n"
     ]
    },
    {
     "name": "stderr",
     "output_type": "stream",
     "text": [
      "Testing:: 100%|██████████| 1/1 [00:02<00:00,  2.65s/it]\n"
     ]
    },
    {
     "name": "stdout",
     "output_type": "stream",
     "text": [
      "Test finish\n",
      "=====epoch: 149 2023-08-05 14:40:13\n",
      "on training:\n"
     ]
    },
    {
     "name": "stderr",
     "output_type": "stream",
     "text": [
      "Epoch 149/200: 100%|██████████| 40/40 [00:13<00:00,  2.97it/s, loss=0.00188]\n"
     ]
    },
    {
     "name": "stdout",
     "output_type": "stream",
     "text": [
      "0.002257101732539013 tensor(0.4742, device='cuda:0', grad_fn=<UnbindBackward0>) tensor(-0.4561, device='cuda:0', grad_fn=<UnbindBackward0>) tensor(0.0256, device='cuda:0', grad_fn=<DivBackward0>) tensor(-0.0272, device='cuda:0', grad_fn=<DivBackward0>)\n"
     ]
    },
    {
     "name": "stderr",
     "output_type": "stream",
     "text": [
      "Evaluating:: 100%|██████████| 10/10 [00:09<00:00,  1.05it/s]\n"
     ]
    },
    {
     "name": "stdout",
     "output_type": "stream",
     "text": [
      "Evaluate finish\n",
      "=====epoch: 150 2023-08-05 14:40:36\n",
      "on training:\n"
     ]
    },
    {
     "name": "stderr",
     "output_type": "stream",
     "text": [
      "Epoch 150/200: 100%|██████████| 40/40 [00:12<00:00,  3.33it/s, loss=0.00256]\n"
     ]
    },
    {
     "name": "stdout",
     "output_type": "stream",
     "text": [
      "0.002228852518601343 tensor(0.4488, device='cuda:0', grad_fn=<UnbindBackward0>) tensor(-0.5135, device='cuda:0', grad_fn=<UnbindBackward0>) tensor(0.0254, device='cuda:0', grad_fn=<DivBackward0>) tensor(-0.0269, device='cuda:0', grad_fn=<DivBackward0>)\n"
     ]
    },
    {
     "name": "stderr",
     "output_type": "stream",
     "text": [
      "Evaluating:: 100%|██████████| 10/10 [00:09<00:00,  1.02it/s]\n"
     ]
    },
    {
     "name": "stdout",
     "output_type": "stream",
     "text": [
      "Evaluate finish\n",
      "=====epoch: 151 2023-08-05 14:40:58\n",
      "on training:\n"
     ]
    },
    {
     "name": "stderr",
     "output_type": "stream",
     "text": [
      "Epoch 151/200: 100%|██████████| 40/40 [00:13<00:00,  2.96it/s, loss=0.00252]\n"
     ]
    },
    {
     "name": "stdout",
     "output_type": "stream",
     "text": [
      "0.0022281319746980444 tensor(0.4747, device='cuda:0', grad_fn=<UnbindBackward0>) tensor(-0.4760, device='cuda:0', grad_fn=<UnbindBackward0>) tensor(0.0253, device='cuda:0', grad_fn=<DivBackward0>) tensor(-0.0269, device='cuda:0', grad_fn=<DivBackward0>)\n"
     ]
    },
    {
     "name": "stderr",
     "output_type": "stream",
     "text": [
      "Evaluating:: 100%|██████████| 10/10 [00:09<00:00,  1.00it/s]\n"
     ]
    },
    {
     "name": "stdout",
     "output_type": "stream",
     "text": [
      "Evaluate finish\n",
      "=====epoch: 152 2023-08-05 14:41:21\n",
      "on training:\n"
     ]
    },
    {
     "name": "stderr",
     "output_type": "stream",
     "text": [
      "Epoch 152/200: 100%|██████████| 40/40 [00:11<00:00,  3.38it/s, loss=0.00215]\n"
     ]
    },
    {
     "name": "stdout",
     "output_type": "stream",
     "text": [
      "0.0022077645757235588 tensor(0.4623, device='cuda:0', grad_fn=<UnbindBackward0>) tensor(-0.4590, device='cuda:0', grad_fn=<UnbindBackward0>) tensor(0.0251, device='cuda:0', grad_fn=<DivBackward0>) tensor(-0.0266, device='cuda:0', grad_fn=<DivBackward0>)\n"
     ]
    },
    {
     "name": "stderr",
     "output_type": "stream",
     "text": [
      "Evaluating:: 100%|██████████| 10/10 [00:09<00:00,  1.02it/s]\n"
     ]
    },
    {
     "name": "stdout",
     "output_type": "stream",
     "text": [
      "Evaluate finish\n",
      "=====epoch: 153 2023-08-05 14:41:43\n",
      "on training:\n"
     ]
    },
    {
     "name": "stderr",
     "output_type": "stream",
     "text": [
      "Epoch 153/200: 100%|██████████| 40/40 [00:12<00:00,  3.22it/s, loss=0.00226]\n"
     ]
    },
    {
     "name": "stdout",
     "output_type": "stream",
     "text": [
      "0.002189532297779806 tensor(0.4446, device='cuda:0', grad_fn=<UnbindBackward0>) tensor(-0.4818, device='cuda:0', grad_fn=<UnbindBackward0>) tensor(0.0249, device='cuda:0', grad_fn=<DivBackward0>) tensor(-0.0265, device='cuda:0', grad_fn=<DivBackward0>)\n"
     ]
    },
    {
     "name": "stderr",
     "output_type": "stream",
     "text": [
      "Evaluating:: 100%|██████████| 10/10 [00:09<00:00,  1.01it/s]\n"
     ]
    },
    {
     "name": "stdout",
     "output_type": "stream",
     "text": [
      "Evaluate finish\n",
      "=====epoch: 154 2023-08-05 14:42:05\n",
      "on training:\n"
     ]
    },
    {
     "name": "stderr",
     "output_type": "stream",
     "text": [
      "Epoch 154/200: 100%|██████████| 40/40 [00:13<00:00,  3.05it/s, loss=0.00237]\n"
     ]
    },
    {
     "name": "stdout",
     "output_type": "stream",
     "text": [
      "0.0021756234200438485 tensor(0.4565, device='cuda:0', grad_fn=<UnbindBackward0>) tensor(-0.4887, device='cuda:0', grad_fn=<UnbindBackward0>) tensor(0.0249, device='cuda:0', grad_fn=<DivBackward0>) tensor(-0.0263, device='cuda:0', grad_fn=<DivBackward0>)\n"
     ]
    },
    {
     "name": "stderr",
     "output_type": "stream",
     "text": [
      "Evaluating:: 100%|██████████| 10/10 [00:10<00:00,  1.00s/it]\n"
     ]
    },
    {
     "name": "stdout",
     "output_type": "stream",
     "text": [
      "Evaluate finish\n",
      "=====epoch: 155 2023-08-05 14:42:28\n",
      "on training:\n"
     ]
    },
    {
     "name": "stderr",
     "output_type": "stream",
     "text": [
      "Epoch 155/200: 100%|██████████| 40/40 [00:12<00:00,  3.19it/s, loss=0.00179]\n"
     ]
    },
    {
     "name": "stdout",
     "output_type": "stream",
     "text": [
      "0.0021711616223910823 tensor(0.4480, device='cuda:0', grad_fn=<UnbindBackward0>) tensor(-0.4978, device='cuda:0', grad_fn=<UnbindBackward0>) tensor(0.0246, device='cuda:0', grad_fn=<DivBackward0>) tensor(-0.0261, device='cuda:0', grad_fn=<DivBackward0>)\n"
     ]
    },
    {
     "name": "stderr",
     "output_type": "stream",
     "text": [
      "Evaluating:: 100%|██████████| 10/10 [00:10<00:00,  1.00s/it]\n"
     ]
    },
    {
     "name": "stdout",
     "output_type": "stream",
     "text": [
      "Evaluate finish\n",
      "=====epoch: 156 2023-08-05 14:42:51\n",
      "on training:\n"
     ]
    },
    {
     "name": "stderr",
     "output_type": "stream",
     "text": [
      "Epoch 156/200: 100%|██████████| 40/40 [00:13<00:00,  3.03it/s, loss=0.00228]\n"
     ]
    },
    {
     "name": "stdout",
     "output_type": "stream",
     "text": [
      "0.0021429207670735197 tensor(0.4469, device='cuda:0', grad_fn=<UnbindBackward0>) tensor(-0.4492, device='cuda:0', grad_fn=<UnbindBackward0>) tensor(0.0246, device='cuda:0', grad_fn=<DivBackward0>) tensor(-0.0259, device='cuda:0', grad_fn=<DivBackward0>)\n"
     ]
    },
    {
     "name": "stderr",
     "output_type": "stream",
     "text": [
      "Evaluating:: 100%|██████████| 10/10 [00:10<00:00,  1.02s/it]\n"
     ]
    },
    {
     "name": "stdout",
     "output_type": "stream",
     "text": [
      "Evaluate finish\n",
      "=====epoch: 157 2023-08-05 14:43:14\n",
      "on training:\n"
     ]
    },
    {
     "name": "stderr",
     "output_type": "stream",
     "text": [
      "Epoch 157/200: 100%|██████████| 40/40 [00:13<00:00,  3.04it/s, loss=0.00204]\n"
     ]
    },
    {
     "name": "stdout",
     "output_type": "stream",
     "text": [
      "0.002148730625049211 tensor(0.4474, device='cuda:0', grad_fn=<UnbindBackward0>) tensor(-0.4610, device='cuda:0', grad_fn=<UnbindBackward0>) tensor(0.0245, device='cuda:0', grad_fn=<DivBackward0>) tensor(-0.0258, device='cuda:0', grad_fn=<DivBackward0>)\n"
     ]
    },
    {
     "name": "stderr",
     "output_type": "stream",
     "text": [
      "Evaluating:: 100%|██████████| 10/10 [00:09<00:00,  1.02it/s]\n"
     ]
    },
    {
     "name": "stdout",
     "output_type": "stream",
     "text": [
      "Evaluate finish\n",
      "=====epoch: 158 2023-08-05 14:43:37\n",
      "on training:\n"
     ]
    },
    {
     "name": "stderr",
     "output_type": "stream",
     "text": [
      "Epoch 158/200: 100%|██████████| 40/40 [00:12<00:00,  3.09it/s, loss=0.00209]\n"
     ]
    },
    {
     "name": "stdout",
     "output_type": "stream",
     "text": [
      "0.0021267623931635173 tensor(0.4543, device='cuda:0', grad_fn=<UnbindBackward0>) tensor(-0.5064, device='cuda:0', grad_fn=<UnbindBackward0>) tensor(0.0242, device='cuda:0', grad_fn=<DivBackward0>) tensor(-0.0255, device='cuda:0', grad_fn=<DivBackward0>)\n"
     ]
    },
    {
     "name": "stderr",
     "output_type": "stream",
     "text": [
      "Evaluating:: 100%|██████████| 10/10 [00:09<00:00,  1.00it/s]\n"
     ]
    },
    {
     "name": "stdout",
     "output_type": "stream",
     "text": [
      "Evaluate finish\n",
      "=====epoch: 159 2023-08-05 14:44:00\n",
      "on training:\n"
     ]
    },
    {
     "name": "stderr",
     "output_type": "stream",
     "text": [
      "Epoch 159/200: 100%|██████████| 40/40 [00:12<00:00,  3.23it/s, loss=0.00203]\n"
     ]
    },
    {
     "name": "stdout",
     "output_type": "stream",
     "text": [
      "0.002115102700190619 tensor(0.4542, device='cuda:0', grad_fn=<UnbindBackward0>) tensor(-0.4467, device='cuda:0', grad_fn=<UnbindBackward0>) tensor(0.0242, device='cuda:0', grad_fn=<DivBackward0>) tensor(-0.0255, device='cuda:0', grad_fn=<DivBackward0>)\n"
     ]
    },
    {
     "name": "stderr",
     "output_type": "stream",
     "text": [
      "Evaluating:: 100%|██████████| 10/10 [00:09<00:00,  1.04it/s]\n"
     ]
    },
    {
     "name": "stdout",
     "output_type": "stream",
     "text": [
      "Evaluate finish\n",
      "=====epoch: 160 2023-08-05 14:44:22\n",
      "on training:\n"
     ]
    },
    {
     "name": "stderr",
     "output_type": "stream",
     "text": [
      "Epoch 160/200: 100%|██████████| 40/40 [00:12<00:00,  3.20it/s, loss=0.00226]\n"
     ]
    },
    {
     "name": "stdout",
     "output_type": "stream",
     "text": [
      "0.0020923393225530163 tensor(0.4473, device='cuda:0', grad_fn=<UnbindBackward0>) tensor(-0.4715, device='cuda:0', grad_fn=<UnbindBackward0>) tensor(0.0240, device='cuda:0', grad_fn=<DivBackward0>) tensor(-0.0253, device='cuda:0', grad_fn=<DivBackward0>)\n"
     ]
    },
    {
     "name": "stderr",
     "output_type": "stream",
     "text": [
      "Evaluating:: 100%|██████████| 10/10 [00:10<00:00,  1.00s/it]\n"
     ]
    },
    {
     "name": "stdout",
     "output_type": "stream",
     "text": [
      "Evaluate finish\n",
      "=====epoch: 161 2023-08-05 14:44:45\n",
      "on training:\n"
     ]
    },
    {
     "name": "stderr",
     "output_type": "stream",
     "text": [
      "Epoch 161/200: 100%|██████████| 40/40 [00:13<00:00,  3.05it/s, loss=0.00189]\n"
     ]
    },
    {
     "name": "stdout",
     "output_type": "stream",
     "text": [
      "0.0020792082970729096 tensor(0.4462, device='cuda:0', grad_fn=<UnbindBackward0>) tensor(-0.4704, device='cuda:0', grad_fn=<UnbindBackward0>) tensor(0.0238, device='cuda:0', grad_fn=<DivBackward0>) tensor(-0.0251, device='cuda:0', grad_fn=<DivBackward0>)\n"
     ]
    },
    {
     "name": "stderr",
     "output_type": "stream",
     "text": [
      "Evaluating:: 100%|██████████| 10/10 [00:09<00:00,  1.01it/s]\n"
     ]
    },
    {
     "name": "stdout",
     "output_type": "stream",
     "text": [
      "Evaluate finish\n",
      "=====epoch: 162 2023-08-05 14:45:08\n",
      "on training:\n"
     ]
    },
    {
     "name": "stderr",
     "output_type": "stream",
     "text": [
      "Epoch 162/200: 100%|██████████| 40/40 [00:12<00:00,  3.16it/s, loss=0.00200]\n"
     ]
    },
    {
     "name": "stdout",
     "output_type": "stream",
     "text": [
      "0.002075289617641829 tensor(0.4752, device='cuda:0', grad_fn=<UnbindBackward0>) tensor(-0.4680, device='cuda:0', grad_fn=<UnbindBackward0>) tensor(0.0237, device='cuda:0', grad_fn=<DivBackward0>) tensor(-0.0250, device='cuda:0', grad_fn=<DivBackward0>)\n"
     ]
    },
    {
     "name": "stderr",
     "output_type": "stream",
     "text": [
      "Evaluating:: 100%|██████████| 10/10 [00:09<00:00,  1.01it/s]\n"
     ]
    },
    {
     "name": "stdout",
     "output_type": "stream",
     "text": [
      "Evaluate finish\n",
      "valid_mae: 0.016925612464547157 Saving checkpoint...\n"
     ]
    },
    {
     "name": "stderr",
     "output_type": "stream",
     "text": [
      "Testing:: 100%|██████████| 1/1 [00:02<00:00,  2.58s/it]\n"
     ]
    },
    {
     "name": "stdout",
     "output_type": "stream",
     "text": [
      "Test finish\n",
      "=====epoch: 163 2023-08-05 14:45:33\n",
      "on training:\n"
     ]
    },
    {
     "name": "stderr",
     "output_type": "stream",
     "text": [
      "Epoch 163/200: 100%|██████████| 40/40 [00:12<00:00,  3.22it/s, loss=0.00220]\n"
     ]
    },
    {
     "name": "stdout",
     "output_type": "stream",
     "text": [
      "0.00206005007494241 tensor(0.4393, device='cuda:0', grad_fn=<UnbindBackward0>) tensor(-0.4517, device='cuda:0', grad_fn=<UnbindBackward0>) tensor(0.0236, device='cuda:0', grad_fn=<DivBackward0>) tensor(-0.0249, device='cuda:0', grad_fn=<DivBackward0>)\n"
     ]
    },
    {
     "name": "stderr",
     "output_type": "stream",
     "text": [
      "Evaluating:: 100%|██████████| 10/10 [00:09<00:00,  1.02it/s]\n"
     ]
    },
    {
     "name": "stdout",
     "output_type": "stream",
     "text": [
      "Evaluate finish\n",
      "=====epoch: 164 2023-08-05 14:45:55\n",
      "on training:\n"
     ]
    },
    {
     "name": "stderr",
     "output_type": "stream",
     "text": [
      "Epoch 164/200: 100%|██████████| 40/40 [00:13<00:00,  3.03it/s, loss=0.00184]\n"
     ]
    },
    {
     "name": "stdout",
     "output_type": "stream",
     "text": [
      "0.002018861076794565 tensor(0.4780, device='cuda:0', grad_fn=<UnbindBackward0>) tensor(-0.5002, device='cuda:0', grad_fn=<UnbindBackward0>) tensor(0.0233, device='cuda:0', grad_fn=<DivBackward0>) tensor(-0.0245, device='cuda:0', grad_fn=<DivBackward0>)\n"
     ]
    },
    {
     "name": "stderr",
     "output_type": "stream",
     "text": [
      "Evaluating:: 100%|██████████| 10/10 [00:09<00:00,  1.04it/s]\n"
     ]
    },
    {
     "name": "stdout",
     "output_type": "stream",
     "text": [
      "Evaluate finish\n",
      "=====epoch: 165 2023-08-05 14:46:18\n",
      "on training:\n"
     ]
    },
    {
     "name": "stderr",
     "output_type": "stream",
     "text": [
      "Epoch 165/200: 100%|██████████| 40/40 [00:12<00:00,  3.23it/s, loss=0.00220]\n"
     ]
    },
    {
     "name": "stdout",
     "output_type": "stream",
     "text": [
      "0.0020319453498814253 tensor(0.4617, device='cuda:0', grad_fn=<UnbindBackward0>) tensor(-0.4428, device='cuda:0', grad_fn=<UnbindBackward0>) tensor(0.0233, device='cuda:0', grad_fn=<DivBackward0>) tensor(-0.0245, device='cuda:0', grad_fn=<DivBackward0>)\n"
     ]
    },
    {
     "name": "stderr",
     "output_type": "stream",
     "text": [
      "Evaluating:: 100%|██████████| 10/10 [00:09<00:00,  1.02it/s]\n"
     ]
    },
    {
     "name": "stdout",
     "output_type": "stream",
     "text": [
      "Evaluate finish\n",
      "=====epoch: 166 2023-08-05 14:46:40\n",
      "on training:\n"
     ]
    },
    {
     "name": "stderr",
     "output_type": "stream",
     "text": [
      "Epoch 166/200: 100%|██████████| 40/40 [00:13<00:00,  2.99it/s, loss=0.00195]\n"
     ]
    },
    {
     "name": "stdout",
     "output_type": "stream",
     "text": [
      "0.0020105365169001744 tensor(0.4168, device='cuda:0', grad_fn=<UnbindBackward0>) tensor(-0.4530, device='cuda:0', grad_fn=<UnbindBackward0>) tensor(0.0232, device='cuda:0', grad_fn=<DivBackward0>) tensor(-0.0242, device='cuda:0', grad_fn=<DivBackward0>)\n"
     ]
    },
    {
     "name": "stderr",
     "output_type": "stream",
     "text": [
      "Evaluating:: 100%|██████████| 10/10 [00:10<00:00,  1.01s/it]\n"
     ]
    },
    {
     "name": "stdout",
     "output_type": "stream",
     "text": [
      "Evaluate finish\n",
      "valid_mae: 0.01681620441377163 Saving checkpoint...\n"
     ]
    },
    {
     "name": "stderr",
     "output_type": "stream",
     "text": [
      "Testing:: 100%|██████████| 1/1 [00:02<00:00,  2.94s/it]\n"
     ]
    },
    {
     "name": "stdout",
     "output_type": "stream",
     "text": [
      "Test finish\n",
      "=====epoch: 167 2023-08-05 14:47:07\n",
      "on training:\n"
     ]
    },
    {
     "name": "stderr",
     "output_type": "stream",
     "text": [
      "Epoch 167/200: 100%|██████████| 40/40 [00:13<00:00,  2.92it/s, loss=0.00223]\n"
     ]
    },
    {
     "name": "stdout",
     "output_type": "stream",
     "text": [
      "0.001995442248880863 tensor(0.4508, device='cuda:0', grad_fn=<UnbindBackward0>) tensor(-0.4682, device='cuda:0', grad_fn=<UnbindBackward0>) tensor(0.0230, device='cuda:0', grad_fn=<DivBackward0>) tensor(-0.0241, device='cuda:0', grad_fn=<DivBackward0>)\n"
     ]
    },
    {
     "name": "stderr",
     "output_type": "stream",
     "text": [
      "Evaluating:: 100%|██████████| 10/10 [00:11<00:00,  1.16s/it]\n"
     ]
    },
    {
     "name": "stdout",
     "output_type": "stream",
     "text": [
      "Evaluate finish\n",
      "=====epoch: 168 2023-08-05 14:47:32\n",
      "on training:\n"
     ]
    },
    {
     "name": "stderr",
     "output_type": "stream",
     "text": [
      "Epoch 168/200: 100%|██████████| 40/40 [00:14<00:00,  2.72it/s, loss=0.00238]\n"
     ]
    },
    {
     "name": "stdout",
     "output_type": "stream",
     "text": [
      "0.001979674759786576 tensor(0.4296, device='cuda:0', grad_fn=<UnbindBackward0>) tensor(-0.4757, device='cuda:0', grad_fn=<UnbindBackward0>) tensor(0.0229, device='cuda:0', grad_fn=<DivBackward0>) tensor(-0.0240, device='cuda:0', grad_fn=<DivBackward0>)\n"
     ]
    },
    {
     "name": "stderr",
     "output_type": "stream",
     "text": [
      "Evaluating:: 100%|██████████| 10/10 [00:11<00:00,  1.12s/it]\n"
     ]
    },
    {
     "name": "stdout",
     "output_type": "stream",
     "text": [
      "Evaluate finish\n",
      "=====epoch: 169 2023-08-05 14:47:58\n",
      "on training:\n"
     ]
    },
    {
     "name": "stderr",
     "output_type": "stream",
     "text": [
      "Epoch 169/200: 100%|██████████| 40/40 [00:13<00:00,  3.00it/s, loss=0.00178]\n"
     ]
    },
    {
     "name": "stdout",
     "output_type": "stream",
     "text": [
      "0.001980107315466739 tensor(0.4583, device='cuda:0', grad_fn=<UnbindBackward0>) tensor(-0.4541, device='cuda:0', grad_fn=<UnbindBackward0>) tensor(0.0228, device='cuda:0', grad_fn=<DivBackward0>) tensor(-0.0239, device='cuda:0', grad_fn=<DivBackward0>)\n"
     ]
    },
    {
     "name": "stderr",
     "output_type": "stream",
     "text": [
      "Evaluating:: 100%|██████████| 10/10 [00:09<00:00,  1.01it/s]\n"
     ]
    },
    {
     "name": "stdout",
     "output_type": "stream",
     "text": [
      "Evaluate finish\n",
      "=====epoch: 170 2023-08-05 14:48:22\n",
      "on training:\n"
     ]
    },
    {
     "name": "stderr",
     "output_type": "stream",
     "text": [
      "Epoch 170/200: 100%|██████████| 40/40 [00:12<00:00,  3.27it/s, loss=0.00212]\n"
     ]
    },
    {
     "name": "stdout",
     "output_type": "stream",
     "text": [
      "0.00197731654625386 tensor(0.4587, device='cuda:0', grad_fn=<UnbindBackward0>) tensor(-0.4707, device='cuda:0', grad_fn=<UnbindBackward0>) tensor(0.0227, device='cuda:0', grad_fn=<DivBackward0>) tensor(-0.0238, device='cuda:0', grad_fn=<DivBackward0>)\n"
     ]
    },
    {
     "name": "stderr",
     "output_type": "stream",
     "text": [
      "Evaluating:: 100%|██████████| 10/10 [00:09<00:00,  1.01it/s]\n"
     ]
    },
    {
     "name": "stdout",
     "output_type": "stream",
     "text": [
      "Evaluate finish\n",
      "valid_mae: 0.01664990559220314 Saving checkpoint...\n"
     ]
    },
    {
     "name": "stderr",
     "output_type": "stream",
     "text": [
      "Testing:: 100%|██████████| 1/1 [00:02<00:00,  2.62s/it]\n"
     ]
    },
    {
     "name": "stdout",
     "output_type": "stream",
     "text": [
      "Test finish\n",
      "=====epoch: 171 2023-08-05 14:48:46\n",
      "on training:\n"
     ]
    },
    {
     "name": "stderr",
     "output_type": "stream",
     "text": [
      "Epoch 171/200: 100%|██████████| 40/40 [00:13<00:00,  3.06it/s, loss=0.00205]\n"
     ]
    },
    {
     "name": "stdout",
     "output_type": "stream",
     "text": [
      "0.001953457700437866 tensor(0.4222, device='cuda:0', grad_fn=<UnbindBackward0>) tensor(-0.4906, device='cuda:0', grad_fn=<UnbindBackward0>) tensor(0.0226, device='cuda:0', grad_fn=<DivBackward0>) tensor(-0.0236, device='cuda:0', grad_fn=<DivBackward0>)\n"
     ]
    },
    {
     "name": "stderr",
     "output_type": "stream",
     "text": [
      "Evaluating:: 100%|██████████| 10/10 [00:09<00:00,  1.01it/s]\n"
     ]
    },
    {
     "name": "stdout",
     "output_type": "stream",
     "text": [
      "Evaluate finish\n",
      "=====epoch: 172 2023-08-05 14:49:10\n",
      "on training:\n"
     ]
    },
    {
     "name": "stderr",
     "output_type": "stream",
     "text": [
      "Epoch 172/200: 100%|██████████| 40/40 [00:12<00:00,  3.11it/s, loss=0.00164]\n"
     ]
    },
    {
     "name": "stdout",
     "output_type": "stream",
     "text": [
      "0.0019514458166668192 tensor(0.4285, device='cuda:0', grad_fn=<UnbindBackward0>) tensor(-0.4506, device='cuda:0', grad_fn=<UnbindBackward0>) tensor(0.0225, device='cuda:0', grad_fn=<DivBackward0>) tensor(-0.0234, device='cuda:0', grad_fn=<DivBackward0>)\n"
     ]
    },
    {
     "name": "stderr",
     "output_type": "stream",
     "text": [
      "Evaluating:: 100%|██████████| 10/10 [00:09<00:00,  1.02it/s]\n"
     ]
    },
    {
     "name": "stdout",
     "output_type": "stream",
     "text": [
      "Evaluate finish\n",
      "=====epoch: 173 2023-08-05 14:49:32\n",
      "on training:\n"
     ]
    },
    {
     "name": "stderr",
     "output_type": "stream",
     "text": [
      "Epoch 173/200: 100%|██████████| 40/40 [00:12<00:00,  3.26it/s, loss=0.00196]\n"
     ]
    },
    {
     "name": "stdout",
     "output_type": "stream",
     "text": [
      "0.0019313811557367445 tensor(0.4446, device='cuda:0', grad_fn=<UnbindBackward0>) tensor(-0.4472, device='cuda:0', grad_fn=<UnbindBackward0>) tensor(0.0223, device='cuda:0', grad_fn=<DivBackward0>) tensor(-0.0233, device='cuda:0', grad_fn=<DivBackward0>)\n"
     ]
    },
    {
     "name": "stderr",
     "output_type": "stream",
     "text": [
      "Evaluating:: 100%|██████████| 10/10 [00:10<00:00,  1.00s/it]\n"
     ]
    },
    {
     "name": "stdout",
     "output_type": "stream",
     "text": [
      "Evaluate finish\n",
      "valid_mae: 0.016346091404557228 Saving checkpoint...\n"
     ]
    },
    {
     "name": "stderr",
     "output_type": "stream",
     "text": [
      "Testing:: 100%|██████████| 1/1 [00:02<00:00,  2.68s/it]\n"
     ]
    },
    {
     "name": "stdout",
     "output_type": "stream",
     "text": [
      "Test finish\n",
      "=====epoch: 174 2023-08-05 14:49:57\n",
      "on training:\n"
     ]
    },
    {
     "name": "stderr",
     "output_type": "stream",
     "text": [
      "Epoch 174/200: 100%|██████████| 40/40 [00:12<00:00,  3.33it/s, loss=0.00202]\n"
     ]
    },
    {
     "name": "stdout",
     "output_type": "stream",
     "text": [
      "0.001919324928894639 tensor(0.4607, device='cuda:0', grad_fn=<UnbindBackward0>) tensor(-0.4526, device='cuda:0', grad_fn=<UnbindBackward0>) tensor(0.0222, device='cuda:0', grad_fn=<DivBackward0>) tensor(-0.0232, device='cuda:0', grad_fn=<DivBackward0>)\n"
     ]
    },
    {
     "name": "stderr",
     "output_type": "stream",
     "text": [
      "Evaluating:: 100%|██████████| 10/10 [00:09<00:00,  1.04it/s]\n"
     ]
    },
    {
     "name": "stdout",
     "output_type": "stream",
     "text": [
      "Evaluate finish\n",
      "=====epoch: 175 2023-08-05 14:50:19\n",
      "on training:\n"
     ]
    },
    {
     "name": "stderr",
     "output_type": "stream",
     "text": [
      "Epoch 175/200: 100%|██████████| 40/40 [00:12<00:00,  3.30it/s, loss=0.00187]\n"
     ]
    },
    {
     "name": "stdout",
     "output_type": "stream",
     "text": [
      "0.0019120463577564806 tensor(0.4547, device='cuda:0', grad_fn=<UnbindBackward0>) tensor(-0.4851, device='cuda:0', grad_fn=<UnbindBackward0>) tensor(0.0220, device='cuda:0', grad_fn=<DivBackward0>) tensor(-0.0230, device='cuda:0', grad_fn=<DivBackward0>)\n"
     ]
    },
    {
     "name": "stderr",
     "output_type": "stream",
     "text": [
      "Evaluating:: 100%|██████████| 10/10 [00:09<00:00,  1.04it/s]\n"
     ]
    },
    {
     "name": "stdout",
     "output_type": "stream",
     "text": [
      "Evaluate finish\n",
      "valid_mae: 0.016311347484588623 Saving checkpoint...\n"
     ]
    },
    {
     "name": "stderr",
     "output_type": "stream",
     "text": [
      "Testing:: 100%|██████████| 1/1 [00:02<00:00,  2.59s/it]\n"
     ]
    },
    {
     "name": "stdout",
     "output_type": "stream",
     "text": [
      "Test finish\n",
      "=====epoch: 176 2023-08-05 14:50:43\n",
      "on training:\n"
     ]
    },
    {
     "name": "stderr",
     "output_type": "stream",
     "text": [
      "Epoch 176/200: 100%|██████████| 40/40 [00:12<00:00,  3.15it/s, loss=0.00172]\n"
     ]
    },
    {
     "name": "stdout",
     "output_type": "stream",
     "text": [
      "0.0019007050956133752 tensor(0.4365, device='cuda:0', grad_fn=<UnbindBackward0>) tensor(-0.4769, device='cuda:0', grad_fn=<UnbindBackward0>) tensor(0.0219, device='cuda:0', grad_fn=<DivBackward0>) tensor(-0.0230, device='cuda:0', grad_fn=<DivBackward0>)\n"
     ]
    },
    {
     "name": "stderr",
     "output_type": "stream",
     "text": [
      "Evaluating:: 100%|██████████| 10/10 [00:09<00:00,  1.01it/s]\n"
     ]
    },
    {
     "name": "stdout",
     "output_type": "stream",
     "text": [
      "Evaluate finish\n",
      "=====epoch: 177 2023-08-05 14:51:06\n",
      "on training:\n"
     ]
    },
    {
     "name": "stderr",
     "output_type": "stream",
     "text": [
      "Epoch 177/200: 100%|██████████| 40/40 [00:12<00:00,  3.26it/s, loss=0.00175]\n"
     ]
    },
    {
     "name": "stdout",
     "output_type": "stream",
     "text": [
      "0.001877374600735493 tensor(0.4427, device='cuda:0', grad_fn=<UnbindBackward0>) tensor(-0.4545, device='cuda:0', grad_fn=<UnbindBackward0>) tensor(0.0217, device='cuda:0', grad_fn=<DivBackward0>) tensor(-0.0226, device='cuda:0', grad_fn=<DivBackward0>)\n"
     ]
    },
    {
     "name": "stderr",
     "output_type": "stream",
     "text": [
      "Evaluating:: 100%|██████████| 10/10 [00:09<00:00,  1.02it/s]\n"
     ]
    },
    {
     "name": "stdout",
     "output_type": "stream",
     "text": [
      "Evaluate finish\n",
      "=====epoch: 178 2023-08-05 14:51:28\n",
      "on training:\n"
     ]
    },
    {
     "name": "stderr",
     "output_type": "stream",
     "text": [
      "Epoch 178/200: 100%|██████████| 40/40 [00:13<00:00,  3.01it/s, loss=0.00212]\n"
     ]
    },
    {
     "name": "stdout",
     "output_type": "stream",
     "text": [
      "0.0018805166182573885 tensor(0.4594, device='cuda:0', grad_fn=<UnbindBackward0>) tensor(-0.4376, device='cuda:0', grad_fn=<UnbindBackward0>) tensor(0.0216, device='cuda:0', grad_fn=<DivBackward0>) tensor(-0.0226, device='cuda:0', grad_fn=<DivBackward0>)\n"
     ]
    },
    {
     "name": "stderr",
     "output_type": "stream",
     "text": [
      "Evaluating:: 100%|██████████| 10/10 [00:10<00:00,  1.04s/it]\n"
     ]
    },
    {
     "name": "stdout",
     "output_type": "stream",
     "text": [
      "Evaluate finish\n",
      "valid_mae: 0.015639131888747215 Saving checkpoint...\n"
     ]
    },
    {
     "name": "stderr",
     "output_type": "stream",
     "text": [
      "Testing:: 100%|██████████| 1/1 [00:02<00:00,  2.76s/it]\n"
     ]
    },
    {
     "name": "stdout",
     "output_type": "stream",
     "text": [
      "Test finish\n",
      "=====epoch: 179 2023-08-05 14:51:54\n",
      "on training:\n"
     ]
    },
    {
     "name": "stderr",
     "output_type": "stream",
     "text": [
      "Epoch 179/200: 100%|██████████| 40/40 [00:12<00:00,  3.10it/s, loss=0.00162]\n"
     ]
    },
    {
     "name": "stdout",
     "output_type": "stream",
     "text": [
      "0.001857063762145117 tensor(0.4355, device='cuda:0', grad_fn=<UnbindBackward0>) tensor(-0.4360, device='cuda:0', grad_fn=<UnbindBackward0>) tensor(0.0214, device='cuda:0', grad_fn=<DivBackward0>) tensor(-0.0224, device='cuda:0', grad_fn=<DivBackward0>)\n"
     ]
    },
    {
     "name": "stderr",
     "output_type": "stream",
     "text": [
      "Evaluating:: 100%|██████████| 10/10 [00:09<00:00,  1.02it/s]\n"
     ]
    },
    {
     "name": "stdout",
     "output_type": "stream",
     "text": [
      "Evaluate finish\n",
      "=====epoch: 180 2023-08-05 14:52:17\n",
      "on training:\n"
     ]
    },
    {
     "name": "stderr",
     "output_type": "stream",
     "text": [
      "Epoch 180/200: 100%|██████████| 40/40 [00:12<00:00,  3.09it/s, loss=0.00174]\n"
     ]
    },
    {
     "name": "stdout",
     "output_type": "stream",
     "text": [
      "0.0018482439656509087 tensor(0.4169, device='cuda:0', grad_fn=<UnbindBackward0>) tensor(-0.4417, device='cuda:0', grad_fn=<UnbindBackward0>) tensor(0.0213, device='cuda:0', grad_fn=<DivBackward0>) tensor(-0.0222, device='cuda:0', grad_fn=<DivBackward0>)\n"
     ]
    },
    {
     "name": "stderr",
     "output_type": "stream",
     "text": [
      "Evaluating:: 100%|██████████| 10/10 [00:09<00:00,  1.02it/s]\n"
     ]
    },
    {
     "name": "stdout",
     "output_type": "stream",
     "text": [
      "Evaluate finish\n",
      "valid_mae: 0.015515059232711792 Saving checkpoint...\n"
     ]
    },
    {
     "name": "stderr",
     "output_type": "stream",
     "text": [
      "Testing:: 100%|██████████| 1/1 [00:02<00:00,  2.70s/it]\n"
     ]
    },
    {
     "name": "stdout",
     "output_type": "stream",
     "text": [
      "Test finish\n",
      "=====epoch: 181 2023-08-05 14:52:42\n",
      "on training:\n"
     ]
    },
    {
     "name": "stderr",
     "output_type": "stream",
     "text": [
      "Epoch 181/200: 100%|██████████| 40/40 [00:12<00:00,  3.33it/s, loss=0.00208]\n"
     ]
    },
    {
     "name": "stdout",
     "output_type": "stream",
     "text": [
      "0.0018473021627869457 tensor(0.4388, device='cuda:0', grad_fn=<UnbindBackward0>) tensor(-0.4438, device='cuda:0', grad_fn=<UnbindBackward0>) tensor(0.0213, device='cuda:0', grad_fn=<DivBackward0>) tensor(-0.0221, device='cuda:0', grad_fn=<DivBackward0>)\n"
     ]
    },
    {
     "name": "stderr",
     "output_type": "stream",
     "text": [
      "Evaluating:: 100%|██████████| 10/10 [00:09<00:00,  1.01it/s]\n"
     ]
    },
    {
     "name": "stdout",
     "output_type": "stream",
     "text": [
      "Evaluate finish\n",
      "=====epoch: 182 2023-08-05 14:53:04\n",
      "on training:\n"
     ]
    },
    {
     "name": "stderr",
     "output_type": "stream",
     "text": [
      "Epoch 182/200: 100%|██████████| 40/40 [00:12<00:00,  3.22it/s, loss=0.00185]\n"
     ]
    },
    {
     "name": "stdout",
     "output_type": "stream",
     "text": [
      "0.001835041624144651 tensor(0.4294, device='cuda:0', grad_fn=<UnbindBackward0>) tensor(-0.4413, device='cuda:0', grad_fn=<UnbindBackward0>) tensor(0.0212, device='cuda:0', grad_fn=<DivBackward0>) tensor(-0.0220, device='cuda:0', grad_fn=<DivBackward0>)\n"
     ]
    },
    {
     "name": "stderr",
     "output_type": "stream",
     "text": [
      "Evaluating:: 100%|██████████| 10/10 [00:09<00:00,  1.02it/s]\n"
     ]
    },
    {
     "name": "stdout",
     "output_type": "stream",
     "text": [
      "Evaluate finish\n",
      "=====epoch: 183 2023-08-05 14:53:27\n",
      "on training:\n"
     ]
    },
    {
     "name": "stderr",
     "output_type": "stream",
     "text": [
      "Epoch 183/200: 100%|██████████| 40/40 [00:13<00:00,  3.07it/s, loss=0.00210]\n"
     ]
    },
    {
     "name": "stdout",
     "output_type": "stream",
     "text": [
      "0.0018332774634473026 tensor(0.4217, device='cuda:0', grad_fn=<UnbindBackward0>) tensor(-0.4716, device='cuda:0', grad_fn=<UnbindBackward0>) tensor(0.0212, device='cuda:0', grad_fn=<DivBackward0>) tensor(-0.0219, device='cuda:0', grad_fn=<DivBackward0>)\n"
     ]
    },
    {
     "name": "stderr",
     "output_type": "stream",
     "text": [
      "Evaluating:: 100%|██████████| 10/10 [00:10<00:00,  1.03s/it]\n"
     ]
    },
    {
     "name": "stdout",
     "output_type": "stream",
     "text": [
      "Evaluate finish\n",
      "=====epoch: 184 2023-08-05 14:53:50\n",
      "on training:\n"
     ]
    },
    {
     "name": "stderr",
     "output_type": "stream",
     "text": [
      "Epoch 184/200: 100%|██████████| 40/40 [00:12<00:00,  3.20it/s, loss=0.00183]\n"
     ]
    },
    {
     "name": "stdout",
     "output_type": "stream",
     "text": [
      "0.001809760113246739 tensor(0.4569, device='cuda:0', grad_fn=<UnbindBackward0>) tensor(-0.4564, device='cuda:0', grad_fn=<UnbindBackward0>) tensor(0.0208, device='cuda:0', grad_fn=<DivBackward0>) tensor(-0.0217, device='cuda:0', grad_fn=<DivBackward0>)\n"
     ]
    },
    {
     "name": "stderr",
     "output_type": "stream",
     "text": [
      "Evaluating:: 100%|██████████| 10/10 [00:10<00:00,  1.01s/it]\n"
     ]
    },
    {
     "name": "stdout",
     "output_type": "stream",
     "text": [
      "Evaluate finish\n",
      "=====epoch: 185 2023-08-05 14:54:12\n",
      "on training:\n"
     ]
    },
    {
     "name": "stderr",
     "output_type": "stream",
     "text": [
      "Epoch 185/200: 100%|██████████| 40/40 [00:12<00:00,  3.25it/s, loss=0.00187]\n"
     ]
    },
    {
     "name": "stdout",
     "output_type": "stream",
     "text": [
      "0.001801819069078192 tensor(0.4359, device='cuda:0', grad_fn=<UnbindBackward0>) tensor(-0.4439, device='cuda:0', grad_fn=<UnbindBackward0>) tensor(0.0207, device='cuda:0', grad_fn=<DivBackward0>) tensor(-0.0215, device='cuda:0', grad_fn=<DivBackward0>)\n"
     ]
    },
    {
     "name": "stderr",
     "output_type": "stream",
     "text": [
      "Evaluating:: 100%|██████████| 10/10 [00:09<00:00,  1.03it/s]\n"
     ]
    },
    {
     "name": "stdout",
     "output_type": "stream",
     "text": [
      "Evaluate finish\n",
      "=====epoch: 186 2023-08-05 14:54:35\n",
      "on training:\n"
     ]
    },
    {
     "name": "stderr",
     "output_type": "stream",
     "text": [
      "Epoch 186/200: 100%|██████████| 40/40 [00:13<00:00,  3.06it/s, loss=0.00169]\n"
     ]
    },
    {
     "name": "stdout",
     "output_type": "stream",
     "text": [
      "0.0018026207835646346 tensor(0.4201, device='cuda:0', grad_fn=<UnbindBackward0>) tensor(-0.5003, device='cuda:0', grad_fn=<UnbindBackward0>) tensor(0.0207, device='cuda:0', grad_fn=<DivBackward0>) tensor(-0.0215, device='cuda:0', grad_fn=<DivBackward0>)\n"
     ]
    },
    {
     "name": "stderr",
     "output_type": "stream",
     "text": [
      "Evaluating:: 100%|██████████| 10/10 [00:09<00:00,  1.03it/s]\n"
     ]
    },
    {
     "name": "stdout",
     "output_type": "stream",
     "text": [
      "Evaluate finish\n",
      "valid_mae: 0.014584480784833431 Saving checkpoint...\n"
     ]
    },
    {
     "name": "stderr",
     "output_type": "stream",
     "text": [
      "Testing:: 100%|██████████| 1/1 [00:02<00:00,  2.81s/it]\n"
     ]
    },
    {
     "name": "stdout",
     "output_type": "stream",
     "text": [
      "Test finish\n",
      "=====epoch: 187 2023-08-05 14:55:00\n",
      "on training:\n"
     ]
    },
    {
     "name": "stderr",
     "output_type": "stream",
     "text": [
      "Epoch 187/200: 100%|██████████| 40/40 [00:12<00:00,  3.17it/s, loss=0.00189]\n"
     ]
    },
    {
     "name": "stdout",
     "output_type": "stream",
     "text": [
      "0.0017828204669058322 tensor(0.4356, device='cuda:0', grad_fn=<UnbindBackward0>) tensor(-0.4431, device='cuda:0', grad_fn=<UnbindBackward0>) tensor(0.0205, device='cuda:0', grad_fn=<DivBackward0>) tensor(-0.0213, device='cuda:0', grad_fn=<DivBackward0>)\n"
     ]
    },
    {
     "name": "stderr",
     "output_type": "stream",
     "text": [
      "Evaluating:: 100%|██████████| 10/10 [00:10<00:00,  1.02s/it]\n"
     ]
    },
    {
     "name": "stdout",
     "output_type": "stream",
     "text": [
      "Evaluate finish\n",
      "=====epoch: 188 2023-08-05 14:55:23\n",
      "on training:\n"
     ]
    },
    {
     "name": "stderr",
     "output_type": "stream",
     "text": [
      "Epoch 188/200: 100%|██████████| 40/40 [00:11<00:00,  3.38it/s, loss=0.00192]\n"
     ]
    },
    {
     "name": "stdout",
     "output_type": "stream",
     "text": [
      "0.0017872875177999958 tensor(0.4289, device='cuda:0', grad_fn=<UnbindBackward0>) tensor(-0.4418, device='cuda:0', grad_fn=<UnbindBackward0>) tensor(0.0206, device='cuda:0', grad_fn=<DivBackward0>) tensor(-0.0214, device='cuda:0', grad_fn=<DivBackward0>)\n"
     ]
    },
    {
     "name": "stderr",
     "output_type": "stream",
     "text": [
      "Evaluating:: 100%|██████████| 10/10 [00:09<00:00,  1.01it/s]\n"
     ]
    },
    {
     "name": "stdout",
     "output_type": "stream",
     "text": [
      "Evaluate finish\n",
      "=====epoch: 189 2023-08-05 14:55:45\n",
      "on training:\n"
     ]
    },
    {
     "name": "stderr",
     "output_type": "stream",
     "text": [
      "Epoch 189/200: 100%|██████████| 40/40 [00:12<00:00,  3.20it/s, loss=0.00156]\n"
     ]
    },
    {
     "name": "stdout",
     "output_type": "stream",
     "text": [
      "0.0017709561740048229 tensor(0.4282, device='cuda:0', grad_fn=<UnbindBackward0>) tensor(-0.4355, device='cuda:0', grad_fn=<UnbindBackward0>) tensor(0.0204, device='cuda:0', grad_fn=<DivBackward0>) tensor(-0.0210, device='cuda:0', grad_fn=<DivBackward0>)\n"
     ]
    },
    {
     "name": "stderr",
     "output_type": "stream",
     "text": [
      "Evaluating:: 100%|██████████| 10/10 [00:09<00:00,  1.01it/s]\n"
     ]
    },
    {
     "name": "stdout",
     "output_type": "stream",
     "text": [
      "Evaluate finish\n",
      "=====epoch: 190 2023-08-05 14:56:07\n",
      "on training:\n"
     ]
    },
    {
     "name": "stderr",
     "output_type": "stream",
     "text": [
      "Epoch 190/200: 100%|██████████| 40/40 [00:12<00:00,  3.18it/s, loss=0.00150]\n"
     ]
    },
    {
     "name": "stdout",
     "output_type": "stream",
     "text": [
      "0.0017641821061260999 tensor(0.4340, device='cuda:0', grad_fn=<UnbindBackward0>) tensor(-0.4309, device='cuda:0', grad_fn=<UnbindBackward0>) tensor(0.0203, device='cuda:0', grad_fn=<DivBackward0>) tensor(-0.0210, device='cuda:0', grad_fn=<DivBackward0>)\n"
     ]
    },
    {
     "name": "stderr",
     "output_type": "stream",
     "text": [
      "Evaluating:: 100%|██████████| 10/10 [00:09<00:00,  1.04it/s]\n"
     ]
    },
    {
     "name": "stdout",
     "output_type": "stream",
     "text": [
      "Evaluate finish\n",
      "=====epoch: 191 2023-08-05 14:56:29\n",
      "on training:\n"
     ]
    },
    {
     "name": "stderr",
     "output_type": "stream",
     "text": [
      "Epoch 191/200: 100%|██████████| 40/40 [00:13<00:00,  2.99it/s, loss=0.00201]\n"
     ]
    },
    {
     "name": "stdout",
     "output_type": "stream",
     "text": [
      "0.0017550173448398708 tensor(0.4353, device='cuda:0', grad_fn=<UnbindBackward0>) tensor(-0.4390, device='cuda:0', grad_fn=<UnbindBackward0>) tensor(0.0202, device='cuda:0', grad_fn=<DivBackward0>) tensor(-0.0208, device='cuda:0', grad_fn=<DivBackward0>)\n"
     ]
    },
    {
     "name": "stderr",
     "output_type": "stream",
     "text": [
      "Evaluating:: 100%|██████████| 10/10 [00:09<00:00,  1.02it/s]\n"
     ]
    },
    {
     "name": "stdout",
     "output_type": "stream",
     "text": [
      "Evaluate finish\n",
      "=====epoch: 192 2023-08-05 14:56:53\n",
      "on training:\n"
     ]
    },
    {
     "name": "stderr",
     "output_type": "stream",
     "text": [
      "Epoch 192/200: 100%|██████████| 40/40 [00:11<00:00,  3.37it/s, loss=0.00164]\n"
     ]
    },
    {
     "name": "stdout",
     "output_type": "stream",
     "text": [
      "0.001745182552258484 tensor(0.4195, device='cuda:0', grad_fn=<UnbindBackward0>) tensor(-0.4782, device='cuda:0', grad_fn=<UnbindBackward0>) tensor(0.0199, device='cuda:0', grad_fn=<DivBackward0>) tensor(-0.0207, device='cuda:0', grad_fn=<DivBackward0>)\n"
     ]
    },
    {
     "name": "stderr",
     "output_type": "stream",
     "text": [
      "Evaluating:: 100%|██████████| 10/10 [00:09<00:00,  1.03it/s]\n"
     ]
    },
    {
     "name": "stdout",
     "output_type": "stream",
     "text": [
      "Evaluate finish\n",
      "=====epoch: 193 2023-08-05 14:57:14\n",
      "on training:\n"
     ]
    },
    {
     "name": "stderr",
     "output_type": "stream",
     "text": [
      "Epoch 193/200: 100%|██████████| 40/40 [00:13<00:00,  3.02it/s, loss=0.00152]\n"
     ]
    },
    {
     "name": "stdout",
     "output_type": "stream",
     "text": [
      "0.0017340806603897362 tensor(0.4492, device='cuda:0', grad_fn=<UnbindBackward0>) tensor(-0.4382, device='cuda:0', grad_fn=<UnbindBackward0>) tensor(0.0199, device='cuda:0', grad_fn=<DivBackward0>) tensor(-0.0205, device='cuda:0', grad_fn=<DivBackward0>)\n"
     ]
    },
    {
     "name": "stderr",
     "output_type": "stream",
     "text": [
      "Evaluating:: 100%|██████████| 10/10 [00:10<00:00,  1.02s/it]\n"
     ]
    },
    {
     "name": "stdout",
     "output_type": "stream",
     "text": [
      "Evaluate finish\n",
      "=====epoch: 194 2023-08-05 14:57:38\n",
      "on training:\n"
     ]
    },
    {
     "name": "stderr",
     "output_type": "stream",
     "text": [
      "Epoch 194/200: 100%|██████████| 40/40 [00:11<00:00,  3.34it/s, loss=0.00194]\n"
     ]
    },
    {
     "name": "stdout",
     "output_type": "stream",
     "text": [
      "0.0017327295267023147 tensor(0.4414, device='cuda:0', grad_fn=<UnbindBackward0>) tensor(-0.4391, device='cuda:0', grad_fn=<UnbindBackward0>) tensor(0.0198, device='cuda:0', grad_fn=<DivBackward0>) tensor(-0.0205, device='cuda:0', grad_fn=<DivBackward0>)\n"
     ]
    },
    {
     "name": "stderr",
     "output_type": "stream",
     "text": [
      "Evaluating:: 100%|██████████| 10/10 [00:10<00:00,  1.01s/it]\n"
     ]
    },
    {
     "name": "stdout",
     "output_type": "stream",
     "text": [
      "Evaluate finish\n",
      "=====epoch: 195 2023-08-05 14:58:00\n",
      "on training:\n"
     ]
    },
    {
     "name": "stderr",
     "output_type": "stream",
     "text": [
      "Epoch 195/200: 100%|██████████| 40/40 [00:13<00:00,  3.07it/s, loss=0.00186]\n"
     ]
    },
    {
     "name": "stdout",
     "output_type": "stream",
     "text": [
      "0.001718708747648634 tensor(0.4125, device='cuda:0', grad_fn=<UnbindBackward0>) tensor(-0.4684, device='cuda:0', grad_fn=<UnbindBackward0>) tensor(0.0196, device='cuda:0', grad_fn=<DivBackward0>) tensor(-0.0204, device='cuda:0', grad_fn=<DivBackward0>)\n"
     ]
    },
    {
     "name": "stderr",
     "output_type": "stream",
     "text": [
      "Evaluating:: 100%|██████████| 10/10 [00:09<00:00,  1.03it/s]\n"
     ]
    },
    {
     "name": "stdout",
     "output_type": "stream",
     "text": [
      "Evaluate finish\n",
      "=====epoch: 196 2023-08-05 14:58:22\n",
      "on training:\n"
     ]
    },
    {
     "name": "stderr",
     "output_type": "stream",
     "text": [
      "Epoch 196/200: 100%|██████████| 40/40 [00:11<00:00,  3.43it/s, loss=0.00168]\n"
     ]
    },
    {
     "name": "stdout",
     "output_type": "stream",
     "text": [
      "0.001714156146044843 tensor(0.4201, device='cuda:0', grad_fn=<UnbindBackward0>) tensor(-0.4580, device='cuda:0', grad_fn=<UnbindBackward0>) tensor(0.0196, device='cuda:0', grad_fn=<DivBackward0>) tensor(-0.0202, device='cuda:0', grad_fn=<DivBackward0>)\n"
     ]
    },
    {
     "name": "stderr",
     "output_type": "stream",
     "text": [
      "Evaluating:: 100%|██████████| 10/10 [00:09<00:00,  1.01it/s]\n"
     ]
    },
    {
     "name": "stdout",
     "output_type": "stream",
     "text": [
      "Evaluate finish\n",
      "=====epoch: 197 2023-08-05 14:58:44\n",
      "on training:\n"
     ]
    },
    {
     "name": "stderr",
     "output_type": "stream",
     "text": [
      "Epoch 197/200: 100%|██████████| 40/40 [00:12<00:00,  3.11it/s, loss=0.00163]\n"
     ]
    },
    {
     "name": "stdout",
     "output_type": "stream",
     "text": [
      "0.0017022617510519921 tensor(0.4443, device='cuda:0', grad_fn=<UnbindBackward0>) tensor(-0.4304, device='cuda:0', grad_fn=<UnbindBackward0>) tensor(0.0194, device='cuda:0', grad_fn=<DivBackward0>) tensor(-0.0201, device='cuda:0', grad_fn=<DivBackward0>)\n"
     ]
    },
    {
     "name": "stderr",
     "output_type": "stream",
     "text": [
      "Evaluating:: 100%|██████████| 10/10 [00:09<00:00,  1.00it/s]\n"
     ]
    },
    {
     "name": "stdout",
     "output_type": "stream",
     "text": [
      "Evaluate finish\n",
      "=====epoch: 198 2023-08-05 14:59:07\n",
      "on training:\n"
     ]
    },
    {
     "name": "stderr",
     "output_type": "stream",
     "text": [
      "Epoch 198/200: 100%|██████████| 40/40 [00:12<00:00,  3.17it/s, loss=0.00174]\n"
     ]
    },
    {
     "name": "stdout",
     "output_type": "stream",
     "text": [
      "0.0016949738725088536 tensor(0.4311, device='cuda:0', grad_fn=<UnbindBackward0>) tensor(-0.4382, device='cuda:0', grad_fn=<UnbindBackward0>) tensor(0.0193, device='cuda:0', grad_fn=<DivBackward0>) tensor(-0.0199, device='cuda:0', grad_fn=<DivBackward0>)\n"
     ]
    },
    {
     "name": "stderr",
     "output_type": "stream",
     "text": [
      "Evaluating:: 100%|██████████| 10/10 [00:09<00:00,  1.02it/s]\n"
     ]
    },
    {
     "name": "stdout",
     "output_type": "stream",
     "text": [
      "Evaluate finish\n",
      "=====epoch: 199 2023-08-05 14:59:29\n",
      "on training:\n"
     ]
    },
    {
     "name": "stderr",
     "output_type": "stream",
     "text": [
      "Epoch 199/200: 100%|██████████| 40/40 [00:12<00:00,  3.19it/s, loss=0.00175]\n"
     ]
    },
    {
     "name": "stdout",
     "output_type": "stream",
     "text": [
      "0.0016977042716462166 tensor(0.4283, device='cuda:0', grad_fn=<UnbindBackward0>) tensor(-0.4425, device='cuda:0', grad_fn=<UnbindBackward0>) tensor(0.0194, device='cuda:0', grad_fn=<DivBackward0>) tensor(-0.0199, device='cuda:0', grad_fn=<DivBackward0>)\n"
     ]
    },
    {
     "name": "stderr",
     "output_type": "stream",
     "text": [
      "Evaluating:: 100%|██████████| 10/10 [00:09<00:00,  1.03it/s]\n"
     ]
    },
    {
     "name": "stdout",
     "output_type": "stream",
     "text": [
      "Evaluate finish\n",
      "=====epoch: 200 2023-08-05 14:59:51\n",
      "on training:\n"
     ]
    },
    {
     "name": "stderr",
     "output_type": "stream",
     "text": [
      "Epoch 200/200: 100%|██████████| 40/40 [00:12<00:00,  3.09it/s, loss=0.00196]\n"
     ]
    },
    {
     "name": "stdout",
     "output_type": "stream",
     "text": [
      "0.0016831712069688364 tensor(0.4333, device='cuda:0', grad_fn=<UnbindBackward0>) tensor(-0.4215, device='cuda:0', grad_fn=<UnbindBackward0>) tensor(0.0190, device='cuda:0', grad_fn=<DivBackward0>) tensor(-0.0198, device='cuda:0', grad_fn=<DivBackward0>)\n"
     ]
    },
    {
     "name": "stderr",
     "output_type": "stream",
     "text": [
      "Evaluating:: 100%|██████████| 10/10 [00:09<00:00,  1.02it/s]"
     ]
    },
    {
     "name": "stdout",
     "output_type": "stream",
     "text": [
      "Evaluate finish\n",
      "finish\n"
     ]
    },
    {
     "name": "stderr",
     "output_type": "stream",
     "text": [
      "\n"
     ]
    }
   ],
   "source": [
    "if __name__ == '__main__':\n",
    "    # args=p_args()\n",
    "    args=MyNamespace()\n",
    "    main(args)\n",
    "    print('finish')"
   ],
   "metadata": {
    "collapsed": false
   }
  },
  {
   "cell_type": "code",
   "execution_count": 8,
   "outputs": [],
   "source": [],
   "metadata": {
    "collapsed": false
   }
  },
  {
   "cell_type": "code",
   "execution_count": 8,
   "outputs": [],
   "source": [],
   "metadata": {
    "collapsed": false
   }
  }
 ],
 "metadata": {
  "kernelspec": {
   "display_name": "Python 3",
   "language": "python",
   "name": "python3"
  },
  "language_info": {
   "codemirror_mode": {
    "name": "ipython",
    "version": 2
   },
   "file_extension": ".py",
   "mimetype": "text/x-python",
   "name": "python",
   "nbconvert_exporter": "python",
   "pygments_lexer": "ipython2",
   "version": "2.7.6"
  }
 },
 "nbformat": 4,
 "nbformat_minor": 0
}
